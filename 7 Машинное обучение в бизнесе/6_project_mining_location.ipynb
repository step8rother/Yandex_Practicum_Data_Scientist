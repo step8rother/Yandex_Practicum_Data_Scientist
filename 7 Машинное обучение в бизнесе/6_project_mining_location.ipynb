{
 "cells": [
  {
   "cell_type": "markdown",
   "metadata": {},
   "source": [
    "# Выбор локации для скважины"
   ]
  },
  {
   "cell_type": "markdown",
   "metadata": {},
   "source": [
    "Допустим, вы работаете в добывающей компании «ГлавРосГосНефть». Нужно решить, где бурить новую скважину.\n",
    "\n",
    "Вам предоставлены пробы нефти в трёх регионах: в каждом 10 000 месторождений, где измерили качество нефти и объём её запасов. Постройте модель машинного обучения, которая поможет определить регион, где добыча принесёт наибольшую прибыль. Проанализируйте возможную прибыль и риски техникой *Bootstrap.*\n",
    "\n",
    "Шаги для выбора локации:\n",
    "\n",
    "- В избранном регионе ищут месторождения, для каждого определяют значения признаков;\n",
    "- Строят модель и оценивают объём запасов;\n",
    "- Выбирают месторождения с самым высокими оценками значений. Количество месторождений зависит от бюджета компании и стоимости разработки одной скважины;\n",
    "- Прибыль равна суммарной прибыли отобранных месторождений."
   ]
  },
  {
   "cell_type": "markdown",
   "metadata": {},
   "source": [
    "План исследования:  \n",
    "1. Загрузитm и подготовить данные.\n",
    "2. Обучить и проверить модель для каждого региона:\n",
    " - Разбить данные на обучающую и валидационную выборки в соотношении 75:25\n",
    " - Обучить модель и сделайть предсказания на валидационной выборке\n",
    " - Сохранить предсказания и правильные ответы на валидационной выборке\n",
    " - Рассчитать средний запас предсказанного сырья и RMSE модели\n",
    "3. Подготовка к расчёту прибыли:\n",
    " - Сохранить в отдельных переменных ключевые значения для расчётов\n",
    " - Рассчитать достаточный объём сырья для безубыточной разработки новой скважины. \n",
    " - Сравнить полученный объём сырья со средним запасом в каждом регионе. \n",
    " - Выводы по этапу подготовки расчёта прибыли.\n",
    "4. Рассчитать прибыли и риски\n",
    "5. Общий вывод"
   ]
  },
  {
   "cell_type": "markdown",
   "metadata": {},
   "source": [
    "## Загрузка и подготовка данных"
   ]
  },
  {
   "cell_type": "code",
   "execution_count": 63,
   "metadata": {},
   "outputs": [],
   "source": [
    "import pandas as pd\n",
    "import numpy as np\n",
    "import matplotlib.pyplot as plt\n",
    "import seaborn as sns\n",
    "\n",
    "\n",
    "from sklearn.model_selection import train_test_split\n",
    "from sklearn.preprocessing import OrdinalEncoder, StandardScaler, MaxAbsScaler\n",
    "\n",
    "from sklearn.linear_model import LinearRegression\n",
    "from sklearn.metrics import mean_squared_error as mse, r2_score\n",
    "from scipy import stats as st\n"
   ]
  },
  {
   "cell_type": "code",
   "execution_count": 64,
   "metadata": {},
   "outputs": [],
   "source": [
    "try:\n",
    "    data_0 = pd.read_csv('geo_data_0.csv')\n",
    "    data_1 = pd.read_csv('geo_data_1.csv')\n",
    "    data_2 = pd.read_csv('geo_data_2.csv')\n",
    "except:\n",
    "    data_0 = pd.read_csv('https://code.s3.yandex.net/datasets/geo_data_0.csv')\n",
    "    data_1 = pd.read_csv('https://code.s3.yandex.net/datasets/geo_data_1.csv')\n",
    "    data_2 = pd.read_csv('https://code.s3.yandex.net/datasets/geo_data_2.csv')\n"
   ]
  },
  {
   "cell_type": "markdown",
   "metadata": {},
   "source": [
    "Просмотр и предобработка данных(при необходимости)"
   ]
  },
  {
   "cell_type": "code",
   "execution_count": 65,
   "metadata": {},
   "outputs": [
    {
     "name": "stdout",
     "output_type": "stream",
     "text": [
      "      id        f0        f1        f2     product\n",
      "0  txEyH  0.705745 -0.497823  1.221170  105.280062\n",
      "1  2acmU  1.334711 -0.340164  4.365080   73.037750\n",
      "2  409Wp  1.022732  0.151990  1.419926   85.265647\n",
      "      id         f0        f1        f2     product\n",
      "0  kBEdx -15.001348 -8.276000 -0.005876    3.179103\n",
      "1  62mP7  14.272088 -3.475083  0.999183   26.953261\n",
      "2  vyE1P   6.263187 -5.948386  5.001160  134.766305\n",
      "      id        f0        f1        f2    product\n",
      "0  fwXo0 -1.146987  0.963328 -0.828965  27.758673\n",
      "1  WJtFt  0.262778  0.269839 -2.530187  56.069697\n",
      "2  ovLUW  0.194587  0.289035 -5.586433  62.871910\n"
     ]
    }
   ],
   "source": [
    "print(data_0.head(3))\n",
    "print(data_1.head(3))\n",
    "print(data_2.head(3))"
   ]
  },
  {
   "cell_type": "code",
   "execution_count": 66,
   "metadata": {},
   "outputs": [
    {
     "name": "stdout",
     "output_type": "stream",
     "text": [
      "(100000, 5), (100000, 5), (100000, 5)\n"
     ]
    }
   ],
   "source": [
    "print(f'{data_0.shape}, {data_1.shape}, {data_2.shape}')"
   ]
  },
  {
   "cell_type": "code",
   "execution_count": 67,
   "metadata": {},
   "outputs": [
    {
     "data": {
      "text/html": [
       "<div>\n",
       "<style scoped>\n",
       "    .dataframe tbody tr th:only-of-type {\n",
       "        vertical-align: middle;\n",
       "    }\n",
       "\n",
       "    .dataframe tbody tr th {\n",
       "        vertical-align: top;\n",
       "    }\n",
       "\n",
       "    .dataframe thead th {\n",
       "        text-align: right;\n",
       "    }\n",
       "</style>\n",
       "<table border=\"1\" class=\"dataframe\">\n",
       "  <thead>\n",
       "    <tr style=\"text-align: right;\">\n",
       "      <th></th>\n",
       "      <th>id</th>\n",
       "      <th>f0</th>\n",
       "      <th>f1</th>\n",
       "      <th>f2</th>\n",
       "      <th>product</th>\n",
       "    </tr>\n",
       "  </thead>\n",
       "  <tbody>\n",
       "    <tr>\n",
       "      <th>0</th>\n",
       "      <td>txEyH</td>\n",
       "      <td>0.705745</td>\n",
       "      <td>-0.497823</td>\n",
       "      <td>1.221170</td>\n",
       "      <td>105.280062</td>\n",
       "    </tr>\n",
       "    <tr>\n",
       "      <th>1</th>\n",
       "      <td>2acmU</td>\n",
       "      <td>1.334711</td>\n",
       "      <td>-0.340164</td>\n",
       "      <td>4.365080</td>\n",
       "      <td>73.037750</td>\n",
       "    </tr>\n",
       "    <tr>\n",
       "      <th>2</th>\n",
       "      <td>409Wp</td>\n",
       "      <td>1.022732</td>\n",
       "      <td>0.151990</td>\n",
       "      <td>1.419926</td>\n",
       "      <td>85.265647</td>\n",
       "    </tr>\n",
       "    <tr>\n",
       "      <th>3</th>\n",
       "      <td>iJLyR</td>\n",
       "      <td>-0.032172</td>\n",
       "      <td>0.139033</td>\n",
       "      <td>2.978566</td>\n",
       "      <td>168.620776</td>\n",
       "    </tr>\n",
       "    <tr>\n",
       "      <th>4</th>\n",
       "      <td>Xdl7t</td>\n",
       "      <td>1.988431</td>\n",
       "      <td>0.155413</td>\n",
       "      <td>4.751769</td>\n",
       "      <td>154.036647</td>\n",
       "    </tr>\n",
       "  </tbody>\n",
       "</table>\n",
       "</div>"
      ],
      "text/plain": [
       "      id        f0        f1        f2     product\n",
       "0  txEyH  0.705745 -0.497823  1.221170  105.280062\n",
       "1  2acmU  1.334711 -0.340164  4.365080   73.037750\n",
       "2  409Wp  1.022732  0.151990  1.419926   85.265647\n",
       "3  iJLyR -0.032172  0.139033  2.978566  168.620776\n",
       "4  Xdl7t  1.988431  0.155413  4.751769  154.036647"
      ]
     },
     "execution_count": 67,
     "metadata": {},
     "output_type": "execute_result"
    }
   ],
   "source": [
    "data_0.head()"
   ]
  },
  {
   "cell_type": "code",
   "execution_count": 68,
   "metadata": {},
   "outputs": [
    {
     "data": {
      "text/plain": [
       "Index(['id', 'f0', 'f1', 'f2', 'product'], dtype='object')"
      ]
     },
     "execution_count": 68,
     "metadata": {},
     "output_type": "execute_result"
    }
   ],
   "source": [
    "col_list_0 = data_0.columns\n",
    "col_list_1 = data_1.columns\n",
    "col_list_2 = data_2.columns\n",
    "\n",
    "col_list_0\n"
   ]
  },
  {
   "cell_type": "code",
   "execution_count": 69,
   "metadata": {},
   "outputs": [
    {
     "name": "stdout",
     "output_type": "stream",
     "text": [
      "кол-во дупликатов в data_1: 0\n",
      "-------------------------\n",
      "id : кол-во NaN 0 , процент NaN 0.0 %\n",
      "-------------------------\n",
      "f0 : кол-во NaN 0 , процент NaN 0.0 %\n",
      "-------------------------\n",
      "f1 : кол-во NaN 0 , процент NaN 0.0 %\n",
      "-------------------------\n",
      "f2 : кол-во NaN 0 , процент NaN 0.0 %\n",
      "-------------------------\n",
      "product : кол-во NaN 0 , процент NaN 0.0 %\n",
      "==================================================\n",
      "\n",
      "кол-во дупликатов в data_1: 0\n",
      "-------------------------\n",
      "id : кол-во NaN 0 , процент NaN 0.0 %\n",
      "-------------------------\n",
      "f0 : кол-во NaN 0 , процент NaN 0.0 %\n",
      "-------------------------\n",
      "f1 : кол-во NaN 0 , процент NaN 0.0 %\n",
      "-------------------------\n",
      "f2 : кол-во NaN 0 , процент NaN 0.0 %\n",
      "-------------------------\n",
      "product : кол-во NaN 0 , процент NaN 0.0 %\n",
      "==================================================\n",
      "\n",
      "кол-во дупликатов в data_2: 0\n",
      "-------------------------\n",
      "id : кол-во NaN 0 , процент NaN 0.0 %\n",
      "-------------------------\n",
      "f0 : кол-во NaN 0 , процент NaN 0.0 %\n",
      "-------------------------\n",
      "f1 : кол-во NaN 0 , процент NaN 0.0 %\n",
      "-------------------------\n",
      "f2 : кол-во NaN 0 , процент NaN 0.0 %\n",
      "-------------------------\n",
      "product : кол-во NaN 0 , процент NaN 0.0 %\n"
     ]
    }
   ],
   "source": [
    "print('кол-во дупликатов в data_1:', data_0.duplicated().sum())\n",
    "for col in col_list_0:\n",
    "    print('-' * 25)\n",
    "    print(col, ': кол-во NaN', data_0[col].isna().sum(), ', процент NaN',\n",
    "          round(data_0[col].isna().sum() / len(data_0) * 100, 2), '%')\n",
    "print('=' * 50)\n",
    "print()\n",
    "\n",
    "\n",
    "print('кол-во дупликатов в data_1:', data_1.duplicated().sum())\n",
    "for col in col_list_1:\n",
    "    print('-' * 25)\n",
    "    print(col, ': кол-во NaN', data_1[col].isna().sum(), ', процент NaN',\n",
    "          round(data_1[col].isna().sum() / len(data_1) * 100, 2), '%')\n",
    "print('=' * 50)\n",
    "print()\n",
    "\n",
    "print('кол-во дупликатов в data_2:', data_2.duplicated().sum())\n",
    "for col in col_list_2:\n",
    "    print('-' * 25)\n",
    "    print(col, ': кол-во NaN', data_2[col].isna().sum(), ', процент NaN',\n",
    "          round(data_2[col].isna().sum() / len(data_2) * 100, 2), '%')"
   ]
  },
  {
   "cell_type": "markdown",
   "metadata": {},
   "source": [
    "Пропусков и дупликатов не обнаружено. Поскольку данные синтетические, этого и следовало ожидать, но проверка никогда не бывает лишней"
   ]
  },
  {
   "cell_type": "code",
   "execution_count": 70,
   "metadata": {
    "scrolled": false
   },
   "outputs": [
    {
     "name": "stdout",
     "output_type": "stream",
     "text": [
      "<class 'pandas.core.frame.DataFrame'>\n",
      "RangeIndex: 100000 entries, 0 to 99999\n",
      "Data columns (total 5 columns):\n",
      " #   Column   Non-Null Count   Dtype  \n",
      "---  ------   --------------   -----  \n",
      " 0   id       100000 non-null  object \n",
      " 1   f0       100000 non-null  float64\n",
      " 2   f1       100000 non-null  float64\n",
      " 3   f2       100000 non-null  float64\n",
      " 4   product  100000 non-null  float64\n",
      "dtypes: float64(4), object(1)\n",
      "memory usage: 3.8+ MB\n",
      "==================================================\n",
      "\n",
      "<class 'pandas.core.frame.DataFrame'>\n",
      "RangeIndex: 100000 entries, 0 to 99999\n",
      "Data columns (total 5 columns):\n",
      " #   Column   Non-Null Count   Dtype  \n",
      "---  ------   --------------   -----  \n",
      " 0   id       100000 non-null  object \n",
      " 1   f0       100000 non-null  float64\n",
      " 2   f1       100000 non-null  float64\n",
      " 3   f2       100000 non-null  float64\n",
      " 4   product  100000 non-null  float64\n",
      "dtypes: float64(4), object(1)\n",
      "memory usage: 3.8+ MB\n",
      "==================================================\n",
      "\n",
      "<class 'pandas.core.frame.DataFrame'>\n",
      "RangeIndex: 100000 entries, 0 to 99999\n",
      "Data columns (total 5 columns):\n",
      " #   Column   Non-Null Count   Dtype  \n",
      "---  ------   --------------   -----  \n",
      " 0   id       100000 non-null  object \n",
      " 1   f0       100000 non-null  float64\n",
      " 2   f1       100000 non-null  float64\n",
      " 3   f2       100000 non-null  float64\n",
      " 4   product  100000 non-null  float64\n",
      "dtypes: float64(4), object(1)\n",
      "memory usage: 3.8+ MB\n",
      "==================================================\n",
      "\n"
     ]
    }
   ],
   "source": [
    "data_0.info()\n",
    "print('='*50)\n",
    "print()\n",
    "\n",
    "data_1.info()\n",
    "print('='*50)\n",
    "print()\n",
    "\n",
    "data_2.info()\n",
    "print('='*50)\n",
    "print()"
   ]
  },
  {
   "cell_type": "code",
   "execution_count": 71,
   "metadata": {
    "scrolled": false
   },
   "outputs": [
    {
     "name": "stdout",
     "output_type": "stream",
     "text": [
      "Данные 1-го региона: \n",
      "                  f0             f1             f2        product\n",
      "count  100000.000000  100000.000000  100000.000000  100000.000000\n",
      "mean        0.500419       0.250143       2.502647      92.500000\n",
      "std         0.871832       0.504433       3.248248      44.288691\n",
      "min        -1.408605      -0.848218     -12.088328       0.000000\n",
      "25%        -0.072580      -0.200881       0.287748      56.497507\n",
      "50%         0.502360       0.250252       2.515969      91.849972\n",
      "75%         1.073581       0.700646       4.715088     128.564089\n",
      "max         2.362331       1.343769      16.003790     185.364347\n",
      "============================================================\n",
      "\n",
      "Данные 2-го региона: \n",
      "                  f0             f1             f2        product\n",
      "count  100000.000000  100000.000000  100000.000000  100000.000000\n",
      "mean        1.141296      -4.796579       2.494541      68.825000\n",
      "std         8.965932       5.119872       1.703572      45.944423\n",
      "min       -31.609576     -26.358598      -0.018144       0.000000\n",
      "25%        -6.298551      -8.267985       1.000021      26.953261\n",
      "50%         1.153055      -4.813172       2.011479      57.085625\n",
      "75%         8.621015      -1.332816       3.999904     107.813044\n",
      "max        29.421755      18.734063       5.019721     137.945408\n",
      "============================================================\n",
      "\n",
      "Данные 3-го региона: \n",
      "                  f0             f1             f2        product\n",
      "count  100000.000000  100000.000000  100000.000000  100000.000000\n",
      "mean        0.002023      -0.002081       2.495128      95.000000\n",
      "std         1.732045       1.730417       3.473445      44.749921\n",
      "min        -8.760004      -7.084020     -11.970335       0.000000\n",
      "25%        -1.162288      -1.174820       0.130359      59.450441\n",
      "50%         0.009424      -0.009482       2.484236      94.925613\n",
      "75%         1.158535       1.163678       4.858794     130.595027\n",
      "max         7.238262       7.844801      16.739402     190.029838\n"
     ]
    }
   ],
   "source": [
    "print(f'Данные 1-го региона: \\n{data_0.describe()}')\n",
    "print('=='*30)\n",
    "print()\n",
    "print(f'Данные 2-го региона: \\n{data_1.describe()}')\n",
    "print('=='*30)\n",
    "print()\n",
    "print(f'Данные 3-го региона: \\n{data_2.describe()}')"
   ]
  },
  {
   "cell_type": "markdown",
   "metadata": {},
   "source": [
    "Типы данных в столбцах удобны для работы и анализа, однако стоит применить ohe"
   ]
  },
  {
   "cell_type": "markdown",
   "metadata": {},
   "source": [
    "Смотрим корреляции"
   ]
  },
  {
   "cell_type": "code",
   "execution_count": 72,
   "metadata": {},
   "outputs": [
    {
     "name": "stdout",
     "output_type": "stream",
     "text": [
      "Корреляции 1-го региона: \n"
     ]
    },
    {
     "data": {
      "text/html": [
       "<div>\n",
       "<style scoped>\n",
       "    .dataframe tbody tr th:only-of-type {\n",
       "        vertical-align: middle;\n",
       "    }\n",
       "\n",
       "    .dataframe tbody tr th {\n",
       "        vertical-align: top;\n",
       "    }\n",
       "\n",
       "    .dataframe thead th {\n",
       "        text-align: right;\n",
       "    }\n",
       "</style>\n",
       "<table border=\"1\" class=\"dataframe\">\n",
       "  <thead>\n",
       "    <tr style=\"text-align: right;\">\n",
       "      <th></th>\n",
       "      <th>f0</th>\n",
       "      <th>f1</th>\n",
       "      <th>f2</th>\n",
       "      <th>product</th>\n",
       "    </tr>\n",
       "  </thead>\n",
       "  <tbody>\n",
       "    <tr>\n",
       "      <th>f0</th>\n",
       "      <td>1.000000</td>\n",
       "      <td>-0.440723</td>\n",
       "      <td>-0.003153</td>\n",
       "      <td>0.143536</td>\n",
       "    </tr>\n",
       "    <tr>\n",
       "      <th>f1</th>\n",
       "      <td>-0.440723</td>\n",
       "      <td>1.000000</td>\n",
       "      <td>0.001724</td>\n",
       "      <td>-0.192356</td>\n",
       "    </tr>\n",
       "    <tr>\n",
       "      <th>f2</th>\n",
       "      <td>-0.003153</td>\n",
       "      <td>0.001724</td>\n",
       "      <td>1.000000</td>\n",
       "      <td>0.483663</td>\n",
       "    </tr>\n",
       "    <tr>\n",
       "      <th>product</th>\n",
       "      <td>0.143536</td>\n",
       "      <td>-0.192356</td>\n",
       "      <td>0.483663</td>\n",
       "      <td>1.000000</td>\n",
       "    </tr>\n",
       "  </tbody>\n",
       "</table>\n",
       "</div>"
      ],
      "text/plain": [
       "               f0        f1        f2   product\n",
       "f0       1.000000 -0.440723 -0.003153  0.143536\n",
       "f1      -0.440723  1.000000  0.001724 -0.192356\n",
       "f2      -0.003153  0.001724  1.000000  0.483663\n",
       "product  0.143536 -0.192356  0.483663  1.000000"
      ]
     },
     "metadata": {},
     "output_type": "display_data"
    },
    {
     "data": {
      "image/png": "[encoded data removed]",
      "text/plain": [
       "<Figure size 500x500 with 2 Axes>"
      ]
     },
     "metadata": {},
     "output_type": "display_data"
    }
   ],
   "source": [
    "print('Корреляции 1-го региона: ')\n",
    "display(data_0.corr())\n",
    "\n",
    "plt.figure(figsize=(5, 5))\n",
    "sns.heatmap(data_0.corr(),\n",
    "            xticklabels=data_0.corr().columns,\n",
    "            yticklabels=data_0.corr().columns,\n",
    "            cmap='RdYlGn',\n",
    "            center=0,\n",
    "            annot=True)\n",
    "\n",
    "plt.title('Корреляция значений 1-го региона', fontsize=14)\n",
    "plt.xticks(fontsize=12)\n",
    "plt.yticks(fontsize=12)\n",
    "plt.show()"
   ]
  },
  {
   "cell_type": "code",
   "execution_count": 73,
   "metadata": {
    "scrolled": false
   },
   "outputs": [
    {
     "name": "stdout",
     "output_type": "stream",
     "text": [
      "Корреляции 2-го региона: \n"
     ]
    },
    {
     "data": {
      "text/html": [
       "<div>\n",
       "<style scoped>\n",
       "    .dataframe tbody tr th:only-of-type {\n",
       "        vertical-align: middle;\n",
       "    }\n",
       "\n",
       "    .dataframe tbody tr th {\n",
       "        vertical-align: top;\n",
       "    }\n",
       "\n",
       "    .dataframe thead th {\n",
       "        text-align: right;\n",
       "    }\n",
       "</style>\n",
       "<table border=\"1\" class=\"dataframe\">\n",
       "  <thead>\n",
       "    <tr style=\"text-align: right;\">\n",
       "      <th></th>\n",
       "      <th>f0</th>\n",
       "      <th>f1</th>\n",
       "      <th>f2</th>\n",
       "      <th>product</th>\n",
       "    </tr>\n",
       "  </thead>\n",
       "  <tbody>\n",
       "    <tr>\n",
       "      <th>f0</th>\n",
       "      <td>1.000000</td>\n",
       "      <td>0.182287</td>\n",
       "      <td>-0.001777</td>\n",
       "      <td>-0.030491</td>\n",
       "    </tr>\n",
       "    <tr>\n",
       "      <th>f1</th>\n",
       "      <td>0.182287</td>\n",
       "      <td>1.000000</td>\n",
       "      <td>-0.002595</td>\n",
       "      <td>-0.010155</td>\n",
       "    </tr>\n",
       "    <tr>\n",
       "      <th>f2</th>\n",
       "      <td>-0.001777</td>\n",
       "      <td>-0.002595</td>\n",
       "      <td>1.000000</td>\n",
       "      <td>0.999397</td>\n",
       "    </tr>\n",
       "    <tr>\n",
       "      <th>product</th>\n",
       "      <td>-0.030491</td>\n",
       "      <td>-0.010155</td>\n",
       "      <td>0.999397</td>\n",
       "      <td>1.000000</td>\n",
       "    </tr>\n",
       "  </tbody>\n",
       "</table>\n",
       "</div>"
      ],
      "text/plain": [
       "               f0        f1        f2   product\n",
       "f0       1.000000  0.182287 -0.001777 -0.030491\n",
       "f1       0.182287  1.000000 -0.002595 -0.010155\n",
       "f2      -0.001777 -0.002595  1.000000  0.999397\n",
       "product -0.030491 -0.010155  0.999397  1.000000"
      ]
     },
     "metadata": {},
     "output_type": "display_data"
    },
    {
     "data": {
      "image/png": "[encoded data removed]",
      "text/plain": [
       "<Figure size 500x500 with 2 Axes>"
      ]
     },
     "metadata": {},
     "output_type": "display_data"
    }
   ],
   "source": [
    "print('Корреляции 2-го региона: ')\n",
    "display(data_1.corr())\n",
    "\n",
    "plt.figure(figsize=(5, 5))\n",
    "sns.heatmap(data_1.corr(),\n",
    "            xticklabels=data_1.corr().columns,\n",
    "            yticklabels=data_1.corr().columns,\n",
    "            cmap='RdYlGn',\n",
    "            center=0,\n",
    "            annot=True)\n",
    "\n",
    "plt.title('Корреляция значений 2-го региона', fontsize=14)\n",
    "plt.xticks(fontsize=12)\n",
    "plt.yticks(fontsize=12)\n",
    "plt.show()"
   ]
  },
  {
   "cell_type": "code",
   "execution_count": 74,
   "metadata": {},
   "outputs": [
    {
     "name": "stdout",
     "output_type": "stream",
     "text": [
      "Корреляции 3-го региона: \n"
     ]
    },
    {
     "data": {
      "text/html": [
       "<div>\n",
       "<style scoped>\n",
       "    .dataframe tbody tr th:only-of-type {\n",
       "        vertical-align: middle;\n",
       "    }\n",
       "\n",
       "    .dataframe tbody tr th {\n",
       "        vertical-align: top;\n",
       "    }\n",
       "\n",
       "    .dataframe thead th {\n",
       "        text-align: right;\n",
       "    }\n",
       "</style>\n",
       "<table border=\"1\" class=\"dataframe\">\n",
       "  <thead>\n",
       "    <tr style=\"text-align: right;\">\n",
       "      <th></th>\n",
       "      <th>f0</th>\n",
       "      <th>f1</th>\n",
       "      <th>f2</th>\n",
       "      <th>product</th>\n",
       "    </tr>\n",
       "  </thead>\n",
       "  <tbody>\n",
       "    <tr>\n",
       "      <th>f0</th>\n",
       "      <td>1.000000</td>\n",
       "      <td>0.000528</td>\n",
       "      <td>-0.000448</td>\n",
       "      <td>-0.001987</td>\n",
       "    </tr>\n",
       "    <tr>\n",
       "      <th>f1</th>\n",
       "      <td>0.000528</td>\n",
       "      <td>1.000000</td>\n",
       "      <td>0.000779</td>\n",
       "      <td>-0.001012</td>\n",
       "    </tr>\n",
       "    <tr>\n",
       "      <th>f2</th>\n",
       "      <td>-0.000448</td>\n",
       "      <td>0.000779</td>\n",
       "      <td>1.000000</td>\n",
       "      <td>0.445871</td>\n",
       "    </tr>\n",
       "    <tr>\n",
       "      <th>product</th>\n",
       "      <td>-0.001987</td>\n",
       "      <td>-0.001012</td>\n",
       "      <td>0.445871</td>\n",
       "      <td>1.000000</td>\n",
       "    </tr>\n",
       "  </tbody>\n",
       "</table>\n",
       "</div>"
      ],
      "text/plain": [
       "               f0        f1        f2   product\n",
       "f0       1.000000  0.000528 -0.000448 -0.001987\n",
       "f1       0.000528  1.000000  0.000779 -0.001012\n",
       "f2      -0.000448  0.000779  1.000000  0.445871\n",
       "product -0.001987 -0.001012  0.445871  1.000000"
      ]
     },
     "metadata": {},
     "output_type": "display_data"
    },
    {
     "data": {
      "image/png": "[encoded data removed]",
      "text/plain": [
       "<Figure size 500x500 with 2 Axes>"
      ]
     },
     "metadata": {},
     "output_type": "display_data"
    }
   ],
   "source": [
    "print('Корреляции 3-го региона: ')\n",
    "display(data_2.corr())\n",
    "\n",
    "plt.figure(figsize=(5, 5))\n",
    "sns.heatmap(data_2.corr(),\n",
    "            xticklabels=data_2.corr().columns,\n",
    "            yticklabels=data_2.corr().columns,\n",
    "            cmap='RdYlGn',\n",
    "            center=0,\n",
    "            annot=True)\n",
    "\n",
    "plt.title('Корреляция значений 3-го региона', fontsize=14)\n",
    "plt.xticks(fontsize=12)\n",
    "plt.yticks(fontsize=12)\n",
    "plt.show()"
   ]
  },
  {
   "cell_type": "markdown",
   "metadata": {},
   "source": [
    "Стоит отметить, что на графике корреляции видна сильная зависимость целевого признака `f2` и `product` ."
   ]
  },
  {
   "cell_type": "markdown",
   "metadata": {},
   "source": [
    "## Обучение и проверка модели"
   ]
  },
  {
   "cell_type": "markdown",
   "metadata": {},
   "source": [
    "Необходимо подготовить данные для обучения модели, разделив данные на тренировочную и валидационную выборки в соотношении 4:1"
   ]
  },
  {
   "cell_type": "code",
   "execution_count": 75,
   "metadata": {},
   "outputs": [],
   "source": [
    "data_0 = data_0.drop('id', axis=1)\n",
    "data_1 = data_1.drop('id', axis=1)\n",
    "data_2 = data_2.drop('id', axis=1)"
   ]
  },
  {
   "cell_type": "code",
   "execution_count": 76,
   "metadata": {
    "scrolled": true
   },
   "outputs": [
    {
     "data": {
      "text/plain": [
       "(         f0        f1        f2     product\n",
       " 0  0.705745 -0.497823  1.221170  105.280062\n",
       " 1  1.334711 -0.340164  4.365080   73.037750\n",
       " 2  1.022732  0.151990  1.419926   85.265647\n",
       " 3 -0.032172  0.139033  2.978566  168.620776\n",
       " 4  1.988431  0.155413  4.751769  154.036647,\n",
       "           f0         f1        f2     product\n",
       " 0 -15.001348  -8.276000 -0.005876    3.179103\n",
       " 1  14.272088  -3.475083  0.999183   26.953261\n",
       " 2   6.263187  -5.948386  5.001160  134.766305\n",
       " 3 -13.081196 -11.506057  4.999415  137.945408\n",
       " 4  12.702195  -8.147433  5.004363  134.766305,\n",
       "          f0        f1        f2     product\n",
       " 0 -1.146987  0.963328 -0.828965   27.758673\n",
       " 1  0.262778  0.269839 -2.530187   56.069697\n",
       " 2  0.194587  0.289035 -5.586433   62.871910\n",
       " 3  2.236060 -0.553760  0.930038  114.572842\n",
       " 4 -0.515993  1.716266  5.899011  149.600746)"
      ]
     },
     "execution_count": 76,
     "metadata": {},
     "output_type": "execute_result"
    }
   ],
   "source": [
    "data_0.head(), data_1.head(), data_2.head()\n"
   ]
  },
  {
   "cell_type": "markdown",
   "metadata": {},
   "source": [
    "В данных видны величины разных количеств, следует рассмотреть через призму .describe"
   ]
  },
  {
   "cell_type": "code",
   "execution_count": 77,
   "metadata": {},
   "outputs": [
    {
     "data": {
      "text/plain": [
       "(                  f0             f1             f2        product\n",
       " count  100000.000000  100000.000000  100000.000000  100000.000000\n",
       " mean        0.500419       0.250143       2.502647      92.500000\n",
       " std         0.871832       0.504433       3.248248      44.288691\n",
       " min        -1.408605      -0.848218     -12.088328       0.000000\n",
       " 25%        -0.072580      -0.200881       0.287748      56.497507\n",
       " 50%         0.502360       0.250252       2.515969      91.849972\n",
       " 75%         1.073581       0.700646       4.715088     128.564089\n",
       " max         2.362331       1.343769      16.003790     185.364347,\n",
       "                   f0             f1             f2        product\n",
       " count  100000.000000  100000.000000  100000.000000  100000.000000\n",
       " mean        1.141296      -4.796579       2.494541      68.825000\n",
       " std         8.965932       5.119872       1.703572      45.944423\n",
       " min       -31.609576     -26.358598      -0.018144       0.000000\n",
       " 25%        -6.298551      -8.267985       1.000021      26.953261\n",
       " 50%         1.153055      -4.813172       2.011479      57.085625\n",
       " 75%         8.621015      -1.332816       3.999904     107.813044\n",
       " max        29.421755      18.734063       5.019721     137.945408,\n",
       "                   f0             f1             f2        product\n",
       " count  100000.000000  100000.000000  100000.000000  100000.000000\n",
       " mean        0.002023      -0.002081       2.495128      95.000000\n",
       " std         1.732045       1.730417       3.473445      44.749921\n",
       " min        -8.760004      -7.084020     -11.970335       0.000000\n",
       " 25%        -1.162288      -1.174820       0.130359      59.450441\n",
       " 50%         0.009424      -0.009482       2.484236      94.925613\n",
       " 75%         1.158535       1.163678       4.858794     130.595027\n",
       " max         7.238262       7.844801      16.739402     190.029838)"
      ]
     },
     "execution_count": 77,
     "metadata": {},
     "output_type": "execute_result"
    }
   ],
   "source": [
    "data_0.describe(), data_1.describe(), data_2.describe()"
   ]
  },
  {
   "cell_type": "markdown",
   "metadata": {},
   "source": [
    "### Разделение данные на тренировочную и валидационные выборки"
   ]
  },
  {
   "cell_type": "code",
   "execution_count": 84,
   "metadata": {},
   "outputs": [],
   "source": [
    "# Обозначение целевого признака в выборках\n",
    "\n",
    "target_0 = data_0['product']\n",
    "features_0 = data_0.drop(['product'], axis=1)\n",
    "\n",
    "target_1 = data_1['product']\n",
    "features_1 = data_1.drop(['product'], axis=1)\n",
    "\n",
    "target_2 = data_2['product']\n",
    "features_2 = data_2.drop(['product'], axis=1)"
   ]
  },
  {
   "cell_type": "markdown",
   "metadata": {},
   "source": [
    "#### Разделение данных 1-го региона на выборки"
   ]
  },
  {
   "cell_type": "code",
   "execution_count": 85,
   "metadata": {},
   "outputs": [
    {
     "name": "stdout",
     "output_type": "stream",
     "text": [
      "Размер обучающей выборки: (75000, 3)\n",
      "Размер валидационной выборки: (25000, 3)\n"
     ]
    }
   ],
   "source": [
    "features_train_0, features_valid_0, target_train_0, target_valid_0 = train_test_split(\n",
    "    features_0, target_0, test_size=0.25, random_state=112263)\n",
    "\n",
    "print(f'Размер обучающей выборки: {features_train_0.shape}')\n",
    "print(f'Размер валидационной выборки: {features_valid_0.shape}')"
   ]
  },
  {
   "cell_type": "code",
   "execution_count": 86,
   "metadata": {
    "scrolled": true
   },
   "outputs": [
    {
     "name": "stdout",
     "output_type": "stream",
     "text": [
      "             f0        f1        f2\n",
      "46195  1.055228 -1.411454  0.296985\n",
      "25047  1.665126  0.376133  0.048661\n",
      "72590  0.530919 -1.259375 -1.031486\n",
      "52365  0.037220  1.312015 -0.350315\n",
      "49975  0.030287  1.517056  0.086117\n",
      "             f0        f1        f2\n",
      "19109  0.923299 -1.581602  0.421151\n",
      "50437  1.250035 -0.879698 -0.115610\n",
      "63702 -0.146717  1.290690 -1.144492\n",
      "43926  1.722898 -0.105218  0.183141\n",
      "64906  0.287500  0.011847  1.509020\n"
     ]
    }
   ],
   "source": [
    "# StandardScaler данных первого региона\n",
    "\n",
    "numeric = ['f0', 'f1', 'f2']\n",
    "scaler_0 = StandardScaler()\n",
    "scaler_0.fit(features_train_0[numeric])\n",
    "features_train_0[numeric] = scaler_0.transform(features_train_0[numeric])\n",
    "features_valid_0[numeric] = scaler_0.transform(features_valid_0[numeric])\n",
    "\n",
    "print(features_train_0.head())\n",
    "print(features_valid_0.head())"
   ]
  },
  {
   "cell_type": "markdown",
   "metadata": {},
   "source": [
    "#### Разделение данных 2-го региона на выборки"
   ]
  },
  {
   "cell_type": "code",
   "execution_count": 87,
   "metadata": {
    "scrolled": true
   },
   "outputs": [
    {
     "name": "stdout",
     "output_type": "stream",
     "text": [
      "Размер обучающей выборки: (75000, 3)\n",
      "Размер валидационной выборки: (25000, 3)\n"
     ]
    }
   ],
   "source": [
    "features_train_1, features_valid_1, target_train_1, target_valid_1 = train_test_split(\n",
    "    features_1, target_1, test_size=0.25, random_state=112263)\n",
    "\n",
    "print(f'Размер обучающей выборки: {features_train_1.shape}')\n",
    "print(f'Размер валидационной выборки: {features_valid_1.shape}')"
   ]
  },
  {
   "cell_type": "code",
   "execution_count": 88,
   "metadata": {},
   "outputs": [
    {
     "name": "stdout",
     "output_type": "stream",
     "text": [
      "             f0        f1        f2\n",
      "46195 -1.064824 -1.396606 -0.877309\n",
      "25047  0.051490 -1.191646  0.291261\n",
      "72590  0.823502 -1.079048  0.295679\n",
      "52365 -0.503993 -1.950349  0.298783\n",
      "49975  0.511618 -0.499494 -1.465044\n",
      "             f0        f1        f2\n",
      "19109  0.836896 -1.379857 -1.462314\n",
      "50437  0.819426  2.206897  1.467563\n",
      "63702 -1.208456  0.197830  0.298090\n",
      "43926  0.111555  0.874181  1.465443\n",
      "64906  1.352866 -0.587236 -0.294792\n"
     ]
    }
   ],
   "source": [
    "# StandardScaler данных второго региона\n",
    "\n",
    "scaler_1 = StandardScaler()\n",
    "scaler_1.fit(features_train_1[numeric])\n",
    "features_train_1[numeric] = scaler_1.transform(features_train_1[numeric])\n",
    "features_valid_1[numeric] = scaler_1.transform(features_valid_1[numeric])\n",
    "\n",
    "print(features_train_1.head())\n",
    "print(features_valid_1.head())"
   ]
  },
  {
   "cell_type": "markdown",
   "metadata": {},
   "source": [
    "#### Разделение данных 3-го региона на выборки"
   ]
  },
  {
   "cell_type": "code",
   "execution_count": 89,
   "metadata": {},
   "outputs": [
    {
     "name": "stdout",
     "output_type": "stream",
     "text": [
      "Размер обучающей выборки: (75000, 3)\n",
      "Размер валидационной выборки: (25000, 3)\n"
     ]
    }
   ],
   "source": [
    "features_train_2, features_valid_2, target_train_2, target_valid_2 = train_test_split(\n",
    "    features_2, target_2, test_size=0.25, random_state=112263)\n",
    "\n",
    "print(f'Размер обучающей выборки: {features_train_0.shape}')\n",
    "print(f'Размер валидационной выборки: {features_valid_0.shape}')"
   ]
  },
  {
   "cell_type": "code",
   "execution_count": 90,
   "metadata": {},
   "outputs": [
    {
     "name": "stdout",
     "output_type": "stream",
     "text": [
      "             f0        f1        f2\n",
      "46195 -0.865644  0.194286 -0.020176\n",
      "25047  1.234964  0.455858  0.994995\n",
      "72590 -0.940211 -0.264710 -0.484400\n",
      "52365 -0.661425  1.684378 -0.468099\n",
      "49975  0.211364 -1.576459 -1.196953\n",
      "             f0        f1        f2\n",
      "19109 -1.080343 -0.456520 -0.051314\n",
      "50437  0.292995 -1.002271 -0.335452\n",
      "63702 -0.496079  1.452022 -0.244353\n",
      "43926 -1.542887  0.905610 -2.303038\n",
      "64906  0.428048  0.681811 -0.610899\n"
     ]
    }
   ],
   "source": [
    "# StandardScaler данных второго региона\n",
    "\n",
    "scaler_2 = StandardScaler()\n",
    "scaler_2.fit(features_train_2[numeric])\n",
    "features_train_2[numeric] = scaler_2.transform(features_train_2[numeric])\n",
    "features_valid_2[numeric] = scaler_2.transform(features_valid_2[numeric])\n",
    "\n",
    "print(features_train_2.head())\n",
    "print(features_valid_2.head())"
   ]
  },
  {
   "cell_type": "markdown",
   "metadata": {},
   "source": [
    "### Обучение модели и рассчет предсказаний"
   ]
  },
  {
   "cell_type": "markdown",
   "metadata": {},
   "source": [
    "Для обучения была выбрана модель Linear Regression, поскольку не требует дополнительного поиска гиперпараметров, что во всяком случае не указано в ТЗ "
   ]
  },
  {
   "cell_type": "code",
   "execution_count": 91,
   "metadata": {},
   "outputs": [
    {
     "name": "stdout",
     "output_type": "stream",
     "text": [
      "Результаты модели для первого региона: \n",
      "RMSE: 37.65\n"
     ]
    }
   ],
   "source": [
    "model_lr_0=LinearRegression()\n",
    "model_lr_0.fit(features_train_0,target_train_0)\n",
    "predict_lr_0=model_lr_0.predict(features_valid_0)\n",
    "\n",
    "rmse_lr_0 = mse(target_valid_0, predict_lr_0)**0.5\n",
    "r2_lr_0 = r2_score(target_valid_0, predict_lr_0)\n",
    "\n",
    "print('Результаты модели для первого региона: ')\n",
    "print(f'RMSE: {rmse_lr_0.round(2)}')\n",
    "# print(f'R2: {r2_lr_0.round(2)}')"
   ]
  },
  {
   "cell_type": "code",
   "execution_count": 92,
   "metadata": {},
   "outputs": [
    {
     "name": "stdout",
     "output_type": "stream",
     "text": [
      "Результаты модели для второго региона: \n",
      "RMSE: 0.9\n"
     ]
    }
   ],
   "source": [
    "model_lr_1=LinearRegression()\n",
    "model_lr_1.fit(features_train_1,target_train_1)\n",
    "predict_lr_1=model_lr_1.predict(features_valid_1)\n",
    "\n",
    "rmse_lr_1 = mse(target_valid_1, predict_lr_1)**0.5\n",
    "r2_lr_1 = r2_score(target_valid_1, predict_lr_1)\n",
    "\n",
    "print('Результаты модели для второго региона: ')\n",
    "print(f'RMSE: {rmse_lr_1.round(2)}')\n"
   ]
  },
  {
   "cell_type": "code",
   "execution_count": 93,
   "metadata": {},
   "outputs": [
    {
     "name": "stdout",
     "output_type": "stream",
     "text": [
      "Результаты модели для третьего региона: \n",
      "RMSE: 40.15\n"
     ]
    }
   ],
   "source": [
    "model_lr_2=LinearRegression()\n",
    "model_lr_2.fit(features_train_2,target_train_2)\n",
    "predict_lr_2=model_lr_2.predict(features_valid_2)\n",
    "\n",
    "rmse_lr_2 = mse(target_valid_2, predict_lr_2)**0.5\n",
    "r2_lr_2 = r2_score(target_valid_2, predict_lr_2)\n",
    "\n",
    "print('Результаты модели для третьего региона: ')\n",
    "print(f'RMSE: {rmse_lr_2.round(2)}')\n"
   ]
  },
  {
   "cell_type": "code",
   "execution_count": 94,
   "metadata": {},
   "outputs": [
    {
     "name": "stdout",
     "output_type": "stream",
     "text": [
      "Средний запас сырья в 1 регионе: 92.49, RMSE: 37.65\n",
      "Средний запас сырья в 2 регионе: 68.88, RMSE: 0.9\n",
      "Средний запас сырья в 3 регионе: 95.17, RMSE: 40.15\n"
     ]
    }
   ],
   "source": [
    "print(f'Средний запас сырья в 1 регионе: {predict_lr_0.mean().round(2)}, RMSE: {rmse_lr_0.round(2)}')\n",
    "print(f'Средний запас сырья в 2 регионе: {predict_lr_1.mean().round(2)}, RMSE: {rmse_lr_1.round(2)}')\n",
    "print(f'Средний запас сырья в 3 регионе: {predict_lr_2.mean().round(2)}, RMSE: {rmse_lr_2.round(2)}')"
   ]
  },
  {
   "cell_type": "markdown",
   "metadata": {},
   "source": [
    "Модели обучены, рассчитаные средние объемы запаса сырья в регионах, рассчитаны значения вероятности ошибки RMSE. Стоит отметить что значение RMSE во втором регионе значительно отличается от остальных"
   ]
  },
  {
   "cell_type": "markdown",
   "metadata": {},
   "source": [
    "## Подготовка к расчёту прибыли"
   ]
  },
  {
   "cell_type": "markdown",
   "metadata": {},
   "source": [
    "Все ключевые значения для расчётов сохраняем в отдельных переменных"
   ]
  },
  {
   "cell_type": "code",
   "execution_count": 95,
   "metadata": {},
   "outputs": [],
   "source": [
    "budget = 10000000  # Бюджет на разработку скважин в регионе, тыс. руб\n",
    "income_one_product = 450  # Доход единицы продукта, тыс. руб\n",
    "target_proba_loss = 0.025  # Вероятность убытка\n",
    "\n",
    "product_mean_0 = data_0['product'].mean()\n",
    "product_mean_1 = data_1['product'].mean()\n",
    "product_mean_2 = data_2['product'].mean()"
   ]
  },
  {
   "cell_type": "code",
   "execution_count": 96,
   "metadata": {},
   "outputs": [
    {
     "name": "stdout",
     "output_type": "stream",
     "text": [
      "Cредний запас в 1 регионе: 92.50 млн. баррелей\n",
      "Cредний запас в 2 регионе: 68.83 млн. баррелей\n",
      "Cредний запас в 3 регионе: 95.00 млн. баррелей\n"
     ]
    }
   ],
   "source": [
    "print('Cредний запас в 1 регионе: {:.2f} млн. баррелей'.format(product_mean_0))\n",
    "print('Cредний запас в 2 регионе: {:.2f} млн. баррелей'.format(product_mean_1))\n",
    "print('Cредний запас в 3 регионе: {:.2f} млн. баррелей'.format(product_mean_2))"
   ]
  },
  {
   "cell_type": "code",
   "execution_count": 97,
   "metadata": {},
   "outputs": [
    {
     "name": "stdout",
     "output_type": "stream",
     "text": [
      "Бюджет на разработку одной скважины: 50.0 млн.руб\n"
     ]
    }
   ],
   "source": [
    "budget_per_point = (budget / 200)\n",
    "print(f'Бюджет на разработку одной скважины: {budget_per_point/1000} млн.руб')"
   ]
  },
  {
   "cell_type": "markdown",
   "metadata": {},
   "source": [
    "Рассчитываем достаточный объём сырья для безубыточной разработки новой скважины"
   ]
  },
  {
   "cell_type": "code",
   "execution_count": 98,
   "metadata": {
    "scrolled": true
   },
   "outputs": [
    {
     "name": "stdout",
     "output_type": "stream",
     "text": [
      "Минимальный объём скважины для безубыточной разработки: 111.11 тыс. баррелей\n"
     ]
    }
   ],
   "source": [
    "product_volume = budget_per_point / income_one_product\n",
    "print('Минимальный объём скважины для безубыточной разработки: {:.2f} тыс. баррелей'\n",
    "    .format(product_volume))"
   ]
  },
  {
   "cell_type": "code",
   "execution_count": 99,
   "metadata": {},
   "outputs": [
    {
     "name": "stdout",
     "output_type": "stream",
     "text": [
      "Разница объёма сырья для безубыточной разработки скважины и среднего значения: 18.61 тыс.баррелей\n",
      "В процентах это: -16.75% \n"
     ]
    }
   ],
   "source": [
    "print('Разница объёма сырья для безубыточной разработки скважины и среднего значения: {:.2f} тыс.баррелей'\n",
    "    .format(product_volume - product_mean_0))\n",
    "print('В процентах это: {:.2%} '.format(product_mean_0 / product_volume - 1))"
   ]
  },
  {
   "cell_type": "markdown",
   "metadata": {},
   "source": [
    "### Сравним полученный объём сырья со средним запасом в каждом регионе"
   ]
  },
  {
   "cell_type": "markdown",
   "metadata": {},
   "source": [
    "#### Рассчет для первого региона "
   ]
  },
  {
   "cell_type": "code",
   "execution_count": 100,
   "metadata": {},
   "outputs": [
    {
     "data": {
      "text/html": [
       "<div>\n",
       "<style scoped>\n",
       "    .dataframe tbody tr th:only-of-type {\n",
       "        vertical-align: middle;\n",
       "    }\n",
       "\n",
       "    .dataframe tbody tr th {\n",
       "        vertical-align: top;\n",
       "    }\n",
       "\n",
       "    .dataframe thead th {\n",
       "        text-align: right;\n",
       "    }\n",
       "</style>\n",
       "<table border=\"1\" class=\"dataframe\">\n",
       "  <thead>\n",
       "    <tr style=\"text-align: right;\">\n",
       "      <th></th>\n",
       "      <th>f0</th>\n",
       "      <th>f1</th>\n",
       "      <th>f2</th>\n",
       "      <th>product</th>\n",
       "      <th>profit</th>\n",
       "    </tr>\n",
       "  </thead>\n",
       "  <tbody>\n",
       "    <tr>\n",
       "      <th>0</th>\n",
       "      <td>0.705745</td>\n",
       "      <td>-0.497823</td>\n",
       "      <td>1.221170</td>\n",
       "      <td>105.280062</td>\n",
       "      <td>47376.03</td>\n",
       "    </tr>\n",
       "    <tr>\n",
       "      <th>1</th>\n",
       "      <td>1.334711</td>\n",
       "      <td>-0.340164</td>\n",
       "      <td>4.365080</td>\n",
       "      <td>73.037750</td>\n",
       "      <td>32866.99</td>\n",
       "    </tr>\n",
       "    <tr>\n",
       "      <th>2</th>\n",
       "      <td>1.022732</td>\n",
       "      <td>0.151990</td>\n",
       "      <td>1.419926</td>\n",
       "      <td>85.265647</td>\n",
       "      <td>38369.54</td>\n",
       "    </tr>\n",
       "    <tr>\n",
       "      <th>3</th>\n",
       "      <td>-0.032172</td>\n",
       "      <td>0.139033</td>\n",
       "      <td>2.978566</td>\n",
       "      <td>168.620776</td>\n",
       "      <td>75879.35</td>\n",
       "    </tr>\n",
       "    <tr>\n",
       "      <th>4</th>\n",
       "      <td>1.988431</td>\n",
       "      <td>0.155413</td>\n",
       "      <td>4.751769</td>\n",
       "      <td>154.036647</td>\n",
       "      <td>69316.49</td>\n",
       "    </tr>\n",
       "  </tbody>\n",
       "</table>\n",
       "</div>"
      ],
      "text/plain": [
       "         f0        f1        f2     product    profit\n",
       "0  0.705745 -0.497823  1.221170  105.280062  47376.03\n",
       "1  1.334711 -0.340164  4.365080   73.037750  32866.99\n",
       "2  1.022732  0.151990  1.419926   85.265647  38369.54\n",
       "3 -0.032172  0.139033  2.978566  168.620776  75879.35\n",
       "4  1.988431  0.155413  4.751769  154.036647  69316.49"
      ]
     },
     "execution_count": 100,
     "metadata": {},
     "output_type": "execute_result"
    }
   ],
   "source": [
    "data_0['profit'] = (data_0['product'] * (income_one_product)).round(2) # profit - Выручка, размерность: тыс. руб\n",
    "data_0.head()"
   ]
  },
  {
   "cell_type": "markdown",
   "metadata": {},
   "source": [
    "Рассчитаем показатели окупаемости (ROI) скважин"
   ]
  },
  {
   "cell_type": "code",
   "execution_count": 101,
   "metadata": {
    "scrolled": false
   },
   "outputs": [
    {
     "data": {
      "text/html": [
       "<div>\n",
       "<style scoped>\n",
       "    .dataframe tbody tr th:only-of-type {\n",
       "        vertical-align: middle;\n",
       "    }\n",
       "\n",
       "    .dataframe tbody tr th {\n",
       "        vertical-align: top;\n",
       "    }\n",
       "\n",
       "    .dataframe thead th {\n",
       "        text-align: right;\n",
       "    }\n",
       "</style>\n",
       "<table border=\"1\" class=\"dataframe\">\n",
       "  <thead>\n",
       "    <tr style=\"text-align: right;\">\n",
       "      <th></th>\n",
       "      <th>f0</th>\n",
       "      <th>f1</th>\n",
       "      <th>f2</th>\n",
       "      <th>product</th>\n",
       "      <th>profit</th>\n",
       "      <th>roi_%</th>\n",
       "    </tr>\n",
       "  </thead>\n",
       "  <tbody>\n",
       "    <tr>\n",
       "      <th>0</th>\n",
       "      <td>0.705745</td>\n",
       "      <td>-0.497823</td>\n",
       "      <td>1.221170</td>\n",
       "      <td>105.280062</td>\n",
       "      <td>47376.03</td>\n",
       "      <td>-5.25</td>\n",
       "    </tr>\n",
       "    <tr>\n",
       "      <th>1</th>\n",
       "      <td>1.334711</td>\n",
       "      <td>-0.340164</td>\n",
       "      <td>4.365080</td>\n",
       "      <td>73.037750</td>\n",
       "      <td>32866.99</td>\n",
       "      <td>-34.27</td>\n",
       "    </tr>\n",
       "    <tr>\n",
       "      <th>2</th>\n",
       "      <td>1.022732</td>\n",
       "      <td>0.151990</td>\n",
       "      <td>1.419926</td>\n",
       "      <td>85.265647</td>\n",
       "      <td>38369.54</td>\n",
       "      <td>-23.26</td>\n",
       "    </tr>\n",
       "    <tr>\n",
       "      <th>3</th>\n",
       "      <td>-0.032172</td>\n",
       "      <td>0.139033</td>\n",
       "      <td>2.978566</td>\n",
       "      <td>168.620776</td>\n",
       "      <td>75879.35</td>\n",
       "      <td>51.76</td>\n",
       "    </tr>\n",
       "    <tr>\n",
       "      <th>4</th>\n",
       "      <td>1.988431</td>\n",
       "      <td>0.155413</td>\n",
       "      <td>4.751769</td>\n",
       "      <td>154.036647</td>\n",
       "      <td>69316.49</td>\n",
       "      <td>38.63</td>\n",
       "    </tr>\n",
       "  </tbody>\n",
       "</table>\n",
       "</div>"
      ],
      "text/plain": [
       "         f0        f1        f2     product    profit  roi_%\n",
       "0  0.705745 -0.497823  1.221170  105.280062  47376.03  -5.25\n",
       "1  1.334711 -0.340164  4.365080   73.037750  32866.99 -34.27\n",
       "2  1.022732  0.151990  1.419926   85.265647  38369.54 -23.26\n",
       "3 -0.032172  0.139033  2.978566  168.620776  75879.35  51.76\n",
       "4  1.988431  0.155413  4.751769  154.036647  69316.49  38.63"
      ]
     },
     "execution_count": 101,
     "metadata": {},
     "output_type": "execute_result"
    }
   ],
   "source": [
    "data_0['roi_%'] = ((data_0['profit'] - budget_per_point) / budget_per_point * 100).round(2)\n",
    "data_0.head()"
   ]
  },
  {
   "cell_type": "code",
   "execution_count": 102,
   "metadata": {},
   "outputs": [
    {
     "name": "stdout",
     "output_type": "stream",
     "text": [
      "18.61111111111137\n",
      "-0.1675000000000023\n"
     ]
    }
   ],
   "source": [
    "loss_volume_0 = product_volume - product_mean_0\n",
    "loss_volume_percent_0 = product_mean_0 / product_volume - 1\n",
    "\n",
    "print(loss_volume_0)\n",
    "print(loss_volume_percent_0)"
   ]
  },
  {
   "cell_type": "markdown",
   "metadata": {},
   "source": [
    "Определим значение ROI для каждой скважины по отношению к затратам на разработку"
   ]
  },
  {
   "cell_type": "code",
   "execution_count": 103,
   "metadata": {
    "scrolled": true
   },
   "outputs": [
    {
     "name": "stdout",
     "output_type": "stream",
     "text": [
      "Первый регион: \n",
      "Разница объёма сырья для безубыточной разработки скважины и среднего значения: 18.61 тыс.баррелей\n",
      "В процентах это: -16.75% \n"
     ]
    }
   ],
   "source": [
    "print('Первый регион: ')\n",
    "print('Разница объёма сырья для безубыточной разработки скважины и среднего значения: {:.2f} тыс.баррелей'\n",
    "    .format(loss_volume_0))\n",
    "print('В процентах это: {:.2%} '.format(loss_volume_percent_0))"
   ]
  },
  {
   "cell_type": "markdown",
   "metadata": {},
   "source": [
    "#### Рассчет для второго региона "
   ]
  },
  {
   "cell_type": "code",
   "execution_count": 104,
   "metadata": {},
   "outputs": [
    {
     "data": {
      "text/html": [
       "<div>\n",
       "<style scoped>\n",
       "    .dataframe tbody tr th:only-of-type {\n",
       "        vertical-align: middle;\n",
       "    }\n",
       "\n",
       "    .dataframe tbody tr th {\n",
       "        vertical-align: top;\n",
       "    }\n",
       "\n",
       "    .dataframe thead th {\n",
       "        text-align: right;\n",
       "    }\n",
       "</style>\n",
       "<table border=\"1\" class=\"dataframe\">\n",
       "  <thead>\n",
       "    <tr style=\"text-align: right;\">\n",
       "      <th></th>\n",
       "      <th>f0</th>\n",
       "      <th>f1</th>\n",
       "      <th>f2</th>\n",
       "      <th>product</th>\n",
       "      <th>profit</th>\n",
       "    </tr>\n",
       "  </thead>\n",
       "  <tbody>\n",
       "    <tr>\n",
       "      <th>0</th>\n",
       "      <td>-15.001348</td>\n",
       "      <td>-8.276000</td>\n",
       "      <td>-0.005876</td>\n",
       "      <td>3.179103</td>\n",
       "      <td>1430.60</td>\n",
       "    </tr>\n",
       "    <tr>\n",
       "      <th>1</th>\n",
       "      <td>14.272088</td>\n",
       "      <td>-3.475083</td>\n",
       "      <td>0.999183</td>\n",
       "      <td>26.953261</td>\n",
       "      <td>12128.97</td>\n",
       "    </tr>\n",
       "    <tr>\n",
       "      <th>2</th>\n",
       "      <td>6.263187</td>\n",
       "      <td>-5.948386</td>\n",
       "      <td>5.001160</td>\n",
       "      <td>134.766305</td>\n",
       "      <td>60644.84</td>\n",
       "    </tr>\n",
       "    <tr>\n",
       "      <th>3</th>\n",
       "      <td>-13.081196</td>\n",
       "      <td>-11.506057</td>\n",
       "      <td>4.999415</td>\n",
       "      <td>137.945408</td>\n",
       "      <td>62075.43</td>\n",
       "    </tr>\n",
       "    <tr>\n",
       "      <th>4</th>\n",
       "      <td>12.702195</td>\n",
       "      <td>-8.147433</td>\n",
       "      <td>5.004363</td>\n",
       "      <td>134.766305</td>\n",
       "      <td>60644.84</td>\n",
       "    </tr>\n",
       "  </tbody>\n",
       "</table>\n",
       "</div>"
      ],
      "text/plain": [
       "          f0         f1        f2     product    profit\n",
       "0 -15.001348  -8.276000 -0.005876    3.179103   1430.60\n",
       "1  14.272088  -3.475083  0.999183   26.953261  12128.97\n",
       "2   6.263187  -5.948386  5.001160  134.766305  60644.84\n",
       "3 -13.081196 -11.506057  4.999415  137.945408  62075.43\n",
       "4  12.702195  -8.147433  5.004363  134.766305  60644.84"
      ]
     },
     "execution_count": 104,
     "metadata": {},
     "output_type": "execute_result"
    }
   ],
   "source": [
    "\n",
    "data_1['profit'] = (data_1['product'] * (income_one_product)).round(2)  # profit - Выручка, размерность: тыс.руб\n",
    "data_1.head()"
   ]
  },
  {
   "cell_type": "markdown",
   "metadata": {},
   "source": [
    "Рассчитаем показатели окупаемости (ROI) скважин"
   ]
  },
  {
   "cell_type": "code",
   "execution_count": 105,
   "metadata": {
    "scrolled": false
   },
   "outputs": [
    {
     "data": {
      "text/html": [
       "<div>\n",
       "<style scoped>\n",
       "    .dataframe tbody tr th:only-of-type {\n",
       "        vertical-align: middle;\n",
       "    }\n",
       "\n",
       "    .dataframe tbody tr th {\n",
       "        vertical-align: top;\n",
       "    }\n",
       "\n",
       "    .dataframe thead th {\n",
       "        text-align: right;\n",
       "    }\n",
       "</style>\n",
       "<table border=\"1\" class=\"dataframe\">\n",
       "  <thead>\n",
       "    <tr style=\"text-align: right;\">\n",
       "      <th></th>\n",
       "      <th>f0</th>\n",
       "      <th>f1</th>\n",
       "      <th>f2</th>\n",
       "      <th>product</th>\n",
       "      <th>profit</th>\n",
       "      <th>roi_%</th>\n",
       "    </tr>\n",
       "  </thead>\n",
       "  <tbody>\n",
       "    <tr>\n",
       "      <th>0</th>\n",
       "      <td>-15.001348</td>\n",
       "      <td>-8.276000</td>\n",
       "      <td>-0.005876</td>\n",
       "      <td>3.179103</td>\n",
       "      <td>1430.60</td>\n",
       "      <td>-97.14</td>\n",
       "    </tr>\n",
       "    <tr>\n",
       "      <th>1</th>\n",
       "      <td>14.272088</td>\n",
       "      <td>-3.475083</td>\n",
       "      <td>0.999183</td>\n",
       "      <td>26.953261</td>\n",
       "      <td>12128.97</td>\n",
       "      <td>-75.74</td>\n",
       "    </tr>\n",
       "    <tr>\n",
       "      <th>2</th>\n",
       "      <td>6.263187</td>\n",
       "      <td>-5.948386</td>\n",
       "      <td>5.001160</td>\n",
       "      <td>134.766305</td>\n",
       "      <td>60644.84</td>\n",
       "      <td>21.29</td>\n",
       "    </tr>\n",
       "    <tr>\n",
       "      <th>3</th>\n",
       "      <td>-13.081196</td>\n",
       "      <td>-11.506057</td>\n",
       "      <td>4.999415</td>\n",
       "      <td>137.945408</td>\n",
       "      <td>62075.43</td>\n",
       "      <td>24.15</td>\n",
       "    </tr>\n",
       "    <tr>\n",
       "      <th>4</th>\n",
       "      <td>12.702195</td>\n",
       "      <td>-8.147433</td>\n",
       "      <td>5.004363</td>\n",
       "      <td>134.766305</td>\n",
       "      <td>60644.84</td>\n",
       "      <td>21.29</td>\n",
       "    </tr>\n",
       "  </tbody>\n",
       "</table>\n",
       "</div>"
      ],
      "text/plain": [
       "          f0         f1        f2     product    profit  roi_%\n",
       "0 -15.001348  -8.276000 -0.005876    3.179103   1430.60 -97.14\n",
       "1  14.272088  -3.475083  0.999183   26.953261  12128.97 -75.74\n",
       "2   6.263187  -5.948386  5.001160  134.766305  60644.84  21.29\n",
       "3 -13.081196 -11.506057  4.999415  137.945408  62075.43  24.15\n",
       "4  12.702195  -8.147433  5.004363  134.766305  60644.84  21.29"
      ]
     },
     "execution_count": 105,
     "metadata": {},
     "output_type": "execute_result"
    }
   ],
   "source": [
    "\n",
    "data_1['roi_%'] = ((data_1['profit'] - budget_per_point) / budget_per_point * 100).round(2)\n",
    "data_1.head()"
   ]
  },
  {
   "cell_type": "code",
   "execution_count": 106,
   "metadata": {},
   "outputs": [
    {
     "name": "stdout",
     "output_type": "stream",
     "text": [
      "42.2861111110855\n",
      "-0.3805749999997695\n"
     ]
    }
   ],
   "source": [
    "loss_volume_1 = product_volume - product_mean_1\n",
    "loss_volume_percent_1 = product_mean_1 / product_volume - 1\n",
    "\n",
    "print(loss_volume_1)\n",
    "print(loss_volume_percent_1)\n"
   ]
  },
  {
   "cell_type": "code",
   "execution_count": 107,
   "metadata": {
    "scrolled": true
   },
   "outputs": [
    {
     "name": "stdout",
     "output_type": "stream",
     "text": [
      "Второй регион: \n",
      "Разница объёма сырья для безубыточной разработки скважины и среднего значения: 42.29 тыс.баррелей\n",
      "В процентах это: -38.06% \n"
     ]
    }
   ],
   "source": [
    "print('Второй регион: ')\n",
    "print('Разница объёма сырья для безубыточной разработки скважины и среднего значения: {:.2f} тыс.баррелей'\n",
    "    .format(loss_volume_1))\n",
    "print('В процентах это: {:.2%} '.format(loss_volume_percent_1))"
   ]
  },
  {
   "cell_type": "markdown",
   "metadata": {},
   "source": [
    "#### Рассчет для третьего региона "
   ]
  },
  {
   "cell_type": "code",
   "execution_count": 108,
   "metadata": {},
   "outputs": [
    {
     "data": {
      "text/html": [
       "<div>\n",
       "<style scoped>\n",
       "    .dataframe tbody tr th:only-of-type {\n",
       "        vertical-align: middle;\n",
       "    }\n",
       "\n",
       "    .dataframe tbody tr th {\n",
       "        vertical-align: top;\n",
       "    }\n",
       "\n",
       "    .dataframe thead th {\n",
       "        text-align: right;\n",
       "    }\n",
       "</style>\n",
       "<table border=\"1\" class=\"dataframe\">\n",
       "  <thead>\n",
       "    <tr style=\"text-align: right;\">\n",
       "      <th></th>\n",
       "      <th>f0</th>\n",
       "      <th>f1</th>\n",
       "      <th>f2</th>\n",
       "      <th>product</th>\n",
       "      <th>profit</th>\n",
       "    </tr>\n",
       "  </thead>\n",
       "  <tbody>\n",
       "    <tr>\n",
       "      <th>0</th>\n",
       "      <td>-1.146987</td>\n",
       "      <td>0.963328</td>\n",
       "      <td>-0.828965</td>\n",
       "      <td>27.758673</td>\n",
       "      <td>12491.40</td>\n",
       "    </tr>\n",
       "    <tr>\n",
       "      <th>1</th>\n",
       "      <td>0.262778</td>\n",
       "      <td>0.269839</td>\n",
       "      <td>-2.530187</td>\n",
       "      <td>56.069697</td>\n",
       "      <td>25231.36</td>\n",
       "    </tr>\n",
       "    <tr>\n",
       "      <th>2</th>\n",
       "      <td>0.194587</td>\n",
       "      <td>0.289035</td>\n",
       "      <td>-5.586433</td>\n",
       "      <td>62.871910</td>\n",
       "      <td>28292.36</td>\n",
       "    </tr>\n",
       "    <tr>\n",
       "      <th>3</th>\n",
       "      <td>2.236060</td>\n",
       "      <td>-0.553760</td>\n",
       "      <td>0.930038</td>\n",
       "      <td>114.572842</td>\n",
       "      <td>51557.78</td>\n",
       "    </tr>\n",
       "    <tr>\n",
       "      <th>4</th>\n",
       "      <td>-0.515993</td>\n",
       "      <td>1.716266</td>\n",
       "      <td>5.899011</td>\n",
       "      <td>149.600746</td>\n",
       "      <td>67320.34</td>\n",
       "    </tr>\n",
       "  </tbody>\n",
       "</table>\n",
       "</div>"
      ],
      "text/plain": [
       "         f0        f1        f2     product    profit\n",
       "0 -1.146987  0.963328 -0.828965   27.758673  12491.40\n",
       "1  0.262778  0.269839 -2.530187   56.069697  25231.36\n",
       "2  0.194587  0.289035 -5.586433   62.871910  28292.36\n",
       "3  2.236060 -0.553760  0.930038  114.572842  51557.78\n",
       "4 -0.515993  1.716266  5.899011  149.600746  67320.34"
      ]
     },
     "execution_count": 108,
     "metadata": {},
     "output_type": "execute_result"
    }
   ],
   "source": [
    "\n",
    "data_2['profit'] = (data_2['product'] * (income_one_product)).round(2)  # profit - Выручка, размерность: тыс.руб\n",
    "data_2.head()"
   ]
  },
  {
   "cell_type": "markdown",
   "metadata": {},
   "source": [
    "Рассчитаем показатели окупаемости (ROI) скважин"
   ]
  },
  {
   "cell_type": "code",
   "execution_count": 109,
   "metadata": {
    "scrolled": false
   },
   "outputs": [
    {
     "data": {
      "text/html": [
       "<div>\n",
       "<style scoped>\n",
       "    .dataframe tbody tr th:only-of-type {\n",
       "        vertical-align: middle;\n",
       "    }\n",
       "\n",
       "    .dataframe tbody tr th {\n",
       "        vertical-align: top;\n",
       "    }\n",
       "\n",
       "    .dataframe thead th {\n",
       "        text-align: right;\n",
       "    }\n",
       "</style>\n",
       "<table border=\"1\" class=\"dataframe\">\n",
       "  <thead>\n",
       "    <tr style=\"text-align: right;\">\n",
       "      <th></th>\n",
       "      <th>f0</th>\n",
       "      <th>f1</th>\n",
       "      <th>f2</th>\n",
       "      <th>product</th>\n",
       "      <th>profit</th>\n",
       "      <th>roi_%</th>\n",
       "    </tr>\n",
       "  </thead>\n",
       "  <tbody>\n",
       "    <tr>\n",
       "      <th>0</th>\n",
       "      <td>-1.146987</td>\n",
       "      <td>0.963328</td>\n",
       "      <td>-0.828965</td>\n",
       "      <td>27.758673</td>\n",
       "      <td>12491.40</td>\n",
       "      <td>-75.02</td>\n",
       "    </tr>\n",
       "    <tr>\n",
       "      <th>1</th>\n",
       "      <td>0.262778</td>\n",
       "      <td>0.269839</td>\n",
       "      <td>-2.530187</td>\n",
       "      <td>56.069697</td>\n",
       "      <td>25231.36</td>\n",
       "      <td>-49.54</td>\n",
       "    </tr>\n",
       "    <tr>\n",
       "      <th>2</th>\n",
       "      <td>0.194587</td>\n",
       "      <td>0.289035</td>\n",
       "      <td>-5.586433</td>\n",
       "      <td>62.871910</td>\n",
       "      <td>28292.36</td>\n",
       "      <td>-43.42</td>\n",
       "    </tr>\n",
       "    <tr>\n",
       "      <th>3</th>\n",
       "      <td>2.236060</td>\n",
       "      <td>-0.553760</td>\n",
       "      <td>0.930038</td>\n",
       "      <td>114.572842</td>\n",
       "      <td>51557.78</td>\n",
       "      <td>3.12</td>\n",
       "    </tr>\n",
       "    <tr>\n",
       "      <th>4</th>\n",
       "      <td>-0.515993</td>\n",
       "      <td>1.716266</td>\n",
       "      <td>5.899011</td>\n",
       "      <td>149.600746</td>\n",
       "      <td>67320.34</td>\n",
       "      <td>34.64</td>\n",
       "    </tr>\n",
       "  </tbody>\n",
       "</table>\n",
       "</div>"
      ],
      "text/plain": [
       "         f0        f1        f2     product    profit  roi_%\n",
       "0 -1.146987  0.963328 -0.828965   27.758673  12491.40 -75.02\n",
       "1  0.262778  0.269839 -2.530187   56.069697  25231.36 -49.54\n",
       "2  0.194587  0.289035 -5.586433   62.871910  28292.36 -43.42\n",
       "3  2.236060 -0.553760  0.930038  114.572842  51557.78   3.12\n",
       "4 -0.515993  1.716266  5.899011  149.600746  67320.34  34.64"
      ]
     },
     "execution_count": 109,
     "metadata": {},
     "output_type": "execute_result"
    }
   ],
   "source": [
    "\n",
    "data_2['roi_%'] = ((data_2['profit'] - budget_per_point) / budget_per_point * 100).round(2)\n",
    "data_2.head()"
   ]
  },
  {
   "cell_type": "code",
   "execution_count": 110,
   "metadata": {},
   "outputs": [
    {
     "name": "stdout",
     "output_type": "stream",
     "text": [
      "16.111111111110702\n",
      "-0.14499999999999635\n"
     ]
    }
   ],
   "source": [
    "loss_volume_2 = product_volume - product_mean_2\n",
    "loss_volume_percent_2 = product_mean_2 / product_volume - 1\n",
    "\n",
    "print(loss_volume_2)\n",
    "print(loss_volume_percent_2)\n"
   ]
  },
  {
   "cell_type": "code",
   "execution_count": 111,
   "metadata": {
    "scrolled": false
   },
   "outputs": [
    {
     "name": "stdout",
     "output_type": "stream",
     "text": [
      "Первый регион: \n",
      "Разница объёма сырья для безубыточной разработки скважины и среднего значения: 16.11 тыс.баррелей\n",
      "В процентах это: -14.50% \n"
     ]
    }
   ],
   "source": [
    "print('Первый регион: ')\n",
    "print('Разница объёма сырья для безубыточной разработки скважины и среднего значения: {:.2f} тыс.баррелей'\n",
    "    .format(loss_volume_2))\n",
    "print('В процентах это: {:.2%} '.format(loss_volume_percent_2))"
   ]
  },
  {
   "cell_type": "markdown",
   "metadata": {},
   "source": [
    "Стоит отметить, что среднее количество запасов сырья по регионам недостаточно для окупаемости разработки, необходимо выбрать скважины с максимальными запасами сырья"
   ]
  },
  {
   "cell_type": "markdown",
   "metadata": {},
   "source": [
    "### Создание функции для расчёта прибыли по выбранным скважинам и предсказаниям модели"
   ]
  },
  {
   "cell_type": "markdown",
   "metadata": {},
   "source": [
    "Выберем скважины с максимальными значениями предсказаний"
   ]
  },
  {
   "cell_type": "code",
   "execution_count": 112,
   "metadata": {},
   "outputs": [
    {
     "data": {
      "text/plain": [
       "array([115.65489045, 100.32452814,  58.48961265, ..., 100.74773902,\n",
       "       132.06262883,  88.53127877])"
      ]
     },
     "execution_count": 112,
     "metadata": {},
     "output_type": "execute_result"
    }
   ],
   "source": [
    "predict_lr_0"
   ]
  },
  {
   "cell_type": "code",
   "execution_count": 113,
   "metadata": {},
   "outputs": [
    {
     "data": {
      "text/plain": [
       "78948    175.586829\n",
       "43388    175.565207\n",
       "17908    172.837709\n",
       "93716    172.353609\n",
       "42379    170.820965\n",
       "            ...    \n",
       "79044    146.975342\n",
       "55956    146.948194\n",
       "88079    146.921022\n",
       "71642    146.917687\n",
       "48623    146.831554\n",
       "Length: 200, dtype: float64"
      ]
     },
     "execution_count": 113,
     "metadata": {},
     "output_type": "execute_result"
    }
   ],
   "source": [
    "\n",
    "predict_sorted_0 = pd.Series(predict_lr_0, index=target_valid_0.index).sort_values(ascending=False)\n",
    "predict_sorted_1 = pd.Series(predict_lr_1, index=target_valid_1.index).sort_values(ascending=False)\n",
    "predict_sorted_2 = pd.Series(predict_lr_2, index=target_valid_2.index).sort_values(ascending=False)\n",
    "\n",
    "selected_top_0 = predict_sorted_0[:200]\n",
    "selected_top_0\n"
   ]
  },
  {
   "cell_type": "markdown",
   "metadata": {},
   "source": [
    "Суммируем целевые значения объёма сырья, соответствующее этим предсказаниям"
   ]
  },
  {
   "cell_type": "code",
   "execution_count": 114,
   "metadata": {},
   "outputs": [
    {
     "name": "stdout",
     "output_type": "stream",
     "text": [
      "Запас сырья в 200 лучших скважинах в сумме составит: 30725.95 тыс. баррелей\n"
     ]
    }
   ],
   "source": [
    "selected_top_0_sum = selected_top_0.sum()\n",
    "\n",
    "print('Запас сырья в 200 лучших скважинах в сумме составит: {:.2f} тыс. баррелей'\n",
    "    .format(selected_top_0_sum))"
   ]
  },
  {
   "cell_type": "markdown",
   "metadata": {},
   "source": [
    "Рассчитаем прибыль для полученного объёма сырья"
   ]
  },
  {
   "cell_type": "code",
   "execution_count": 115,
   "metadata": {
    "scrolled": true
   },
   "outputs": [
    {
     "name": "stdout",
     "output_type": "stream",
     "text": [
      "Прибыль от полученного объёма сырья составит: 3826679.55 тыс. рублей\n"
     ]
    }
   ],
   "source": [
    "profit_pred_0 = (selected_top_0_sum * income_one_product) - budget\n",
    "\n",
    "print('Прибыль от полученного объёма сырья составит: {:.2f} тыс. рублей'\n",
    "    .format(profit_pred_0))"
   ]
  },
  {
   "cell_type": "markdown",
   "metadata": {},
   "source": [
    "Создаем функцию для расчёта прибыли"
   ]
  },
  {
   "cell_type": "code",
   "execution_count": 116,
   "metadata": {},
   "outputs": [],
   "source": [
    "def profit_region_func(predict, target, count):\n",
    "    predict_sorted = pd.Series(predict, index=target.index).sort_values(ascending=False)\n",
    "    selected_top = predict_sorted[:count].sum()\n",
    "    profit_pred=(selected_top*income_one_product)-budget\n",
    "   \n",
    "    print('Суммарный запас сырья 200 лучших скважинах составляет: {:.2f} тыс. баррелей'\n",
    "    .format(selected_top))\n",
    "    print('Прибыль от полученного объёма сырья составляет: {:.2f} млн. рублей'\n",
    "    .format(profit_pred/1000))"
   ]
  },
  {
   "cell_type": "markdown",
   "metadata": {},
   "source": [
    "### Рассчет прибыли для полученного объёма сырья по регионам"
   ]
  },
  {
   "cell_type": "markdown",
   "metadata": {},
   "source": [
    "**Прибыль для первого региона**"
   ]
  },
  {
   "cell_type": "code",
   "execution_count": 117,
   "metadata": {
    "scrolled": true
   },
   "outputs": [
    {
     "name": "stdout",
     "output_type": "stream",
     "text": [
      "Суммарный запас сырья 200 лучших скважинах составляет: 30725.95 тыс. баррелей\n",
      "Прибыль от полученного объёма сырья составляет: 3826.68 млн. рублей\n"
     ]
    }
   ],
   "source": [
    "profit_region_func(predict_lr_0, target_valid_0, 200)"
   ]
  },
  {
   "cell_type": "markdown",
   "metadata": {},
   "source": [
    "**Прибыль для второго региона**"
   ]
  },
  {
   "cell_type": "code",
   "execution_count": 118,
   "metadata": {
    "scrolled": true
   },
   "outputs": [
    {
     "name": "stdout",
     "output_type": "stream",
     "text": [
      "Суммарный запас сырья 200 лучших скважинах составляет: 27767.08 тыс. баррелей\n",
      "Прибыль от полученного объёма сырья составляет: 2495.18 млн. рублей\n"
     ]
    }
   ],
   "source": [
    "profit_region_func(predict_lr_1, target_valid_1, 200)"
   ]
  },
  {
   "cell_type": "markdown",
   "metadata": {},
   "source": [
    "**Прибыль для третьего региона**"
   ]
  },
  {
   "cell_type": "code",
   "execution_count": 119,
   "metadata": {
    "scrolled": false
   },
   "outputs": [
    {
     "name": "stdout",
     "output_type": "stream",
     "text": [
      "Суммарный запас сырья 200 лучших скважинах составляет: 29794.29 тыс. баррелей\n",
      "Прибыль от полученного объёма сырья составляет: 3407.43 млн. рублей\n"
     ]
    }
   ],
   "source": [
    "profit_region_func(predict_lr_2, target_valid_2, 200)"
   ]
  },
  {
   "cell_type": "markdown",
   "metadata": {},
   "source": [
    "### Вывод по разделу"
   ]
  },
  {
   "cell_type": "markdown",
   "metadata": {},
   "source": [
    "Был рассчитан минимальный объем сырья для безубыточной разработки скважин.  \n",
    "Был рассчитан средний объем сырья скважин по каждому региону, однако ввиду недостаточного колличества запасов было принято решение брать в рассчет объекты с максимальным запасов сырья - 200 лучших от каждого региона.  \n",
    "Была создана функция для рассчета объемов сырья и прибыли по регионам, и по результатам анализа все три региона оказались потенциально прибыльными.  "
   ]
  },
  {
   "cell_type": "markdown",
   "metadata": {},
   "source": [
    "## Расчёт прибыли и рисков "
   ]
  },
  {
   "cell_type": "markdown",
   "metadata": {},
   "source": [
    "Применим технику Bootstrap с 1000 выборок для рассчета распределение прибыли.  \n",
    "Рассчитаем среднюю прибыль, 95%-й доверительный интервал и риск убытков"
   ]
  },
  {
   "cell_type": "code",
   "execution_count": 120,
   "metadata": {},
   "outputs": [],
   "source": [
    "def revenue_region_func(predict, target, count):\n",
    "    predict_sorted = pd.Series(predict).sort_values(ascending=False)\n",
    "    selected_top = target[predict_sorted.index][:count]\n",
    "    product = selected_top.sum()\n",
    "    revenue = product * income_one_product\n",
    "    return revenue - budget"
   ]
  },
  {
   "cell_type": "code",
   "execution_count": 121,
   "metadata": {},
   "outputs": [],
   "source": [
    "def bootstrap_1000(target, predict):\n",
    "    values = []\n",
    "    count = 0\n",
    "    state = np.random.RandomState(1984)\n",
    "    predict_e = pd.Series(predict, index=target.index)\n",
    "\n",
    "    for i in range(1000):\n",
    "        target_subsample = target.sample(n=500, replace=True, random_state=state)\n",
    "\n",
    "        probs_subsample = predict_e[target_subsample.index]\n",
    "        values.append(revenue_region_func(probs_subsample, target_subsample, 200))\n",
    "    for i in values:\n",
    "        if i < 0:\n",
    "            count = count + 1\n",
    "\n",
    "    values = pd.Series(values)\n",
    "    mean = values.mean()\n",
    "    confidence_interval = st.t.interval(0.95, len(values) - 1, values.mean(), values.sem())\n",
    "\n",
    "    plt.title('Распределение прибыли')\n",
    "    values.plot(kind=\"hist\", grid=True, figsize=(6, 4))\n",
    "    plt.xlabel('Прибыль, тыс. руб')\n",
    "    plt.ylabel('Количество')\n",
    "    plt.show()\n",
    "\n",
    "    low_quantile_95 = values.quantile(0.025)\n",
    "    high_quantile_95 = values.quantile(0.975)\n",
    "\n",
    "    print('Средняя прибыль: {:.2f} млн. руб'.format(mean / 1000))\n",
    "    print('С вероятностью 95% прибыль в регионе составляет от: {:.2f} млн. руб до: {:.2f} млн. руб'\n",
    "        .format((low_quantile_95 / 1000), (high_quantile_95 / 1000)))\n",
    "    print('95% доверительный интервал: от {:.2f} млн.руб до {:.2f} млн.руб'.\n",
    "          format((confidence_interval[0] / 1000), (confidence_interval[1] / 1000)))\n",
    "    print('Процент вероятности убытка в регионе составляет {:.1%}'.format(count / 1000))"
   ]
  },
  {
   "cell_type": "code",
   "execution_count": 122,
   "metadata": {
    "scrolled": false
   },
   "outputs": [
    {
     "name": "stdout",
     "output_type": "stream",
     "text": [
      "Первый регион\n"
     ]
    },
    {
     "data": {
      "image/png": "[encoded data removed]",
      "text/plain": [
       "<Figure size 600x400 with 1 Axes>"
      ]
     },
     "metadata": {},
     "output_type": "display_data"
    },
    {
     "name": "stdout",
     "output_type": "stream",
     "text": [
      "Средняя прибыль: 484.62 млн. руб\n",
      "С вероятностью 95% прибыль в регионе составляет от: -40.10 млн. руб до: 1017.75 млн. руб\n",
      "95% доверительный интервал: от 467.84 млн.руб до 501.39 млн.руб\n",
      "Процент вероятности убытка в регионе составляет 3.3%\n"
     ]
    }
   ],
   "source": [
    "print('Первый регион')\n",
    "bootstrap_1000(target_valid_0, predict_lr_0)"
   ]
  },
  {
   "cell_type": "code",
   "execution_count": 123,
   "metadata": {
    "scrolled": false
   },
   "outputs": [
    {
     "name": "stdout",
     "output_type": "stream",
     "text": [
      "Второй регион\n"
     ]
    },
    {
     "data": {
      "image/png": "[encoded data removed]",
      "text/plain": [
       "<Figure size 600x400 with 1 Axes>"
      ]
     },
     "metadata": {},
     "output_type": "display_data"
    },
    {
     "name": "stdout",
     "output_type": "stream",
     "text": [
      "Средняя прибыль: 512.73 млн. руб\n",
      "С вероятностью 95% прибыль в регионе составляет от: 89.47 млн. руб до: 912.31 млн. руб\n",
      "95% доверительный интервал: от 499.54 млн.руб до 525.92 млн.руб\n",
      "Процент вероятности убытка в регионе составляет 0.8%\n"
     ]
    }
   ],
   "source": [
    "print('Второй регион')\n",
    "bootstrap_1000(target_valid_1, predict_lr_1)"
   ]
  },
  {
   "cell_type": "code",
   "execution_count": 124,
   "metadata": {
    "scrolled": false
   },
   "outputs": [
    {
     "name": "stdout",
     "output_type": "stream",
     "text": [
      "Третий регион\n"
     ]
    },
    {
     "data": {
      "image/png": "[encoded data removed]",
      "text/plain": [
       "<Figure size 600x400 with 1 Axes>"
      ]
     },
     "metadata": {},
     "output_type": "display_data"
    },
    {
     "name": "stdout",
     "output_type": "stream",
     "text": [
      "Средняя прибыль: 325.61 млн. руб\n",
      "С вероятностью 95% прибыль в регионе составляет от: -236.33 млн. руб до: 892.00 млн. руб\n",
      "95% доверительный интервал: от 307.81 млн.руб до 343.40 млн.руб\n",
      "Процент вероятности убытка в регионе составляет 12.8%\n"
     ]
    }
   ],
   "source": [
    "print('Третий регион')\n",
    "bootstrap_1000(target_valid_2, predict_lr_2)"
   ]
  },
  {
   "cell_type": "markdown",
   "metadata": {},
   "source": [
    "### Вывод по разделу"
   ]
  },
  {
   "cell_type": "markdown",
   "metadata": {},
   "source": [
    "Проведя анализ распределения средних значений прибыли с региоов, самым прибыльным оказался второй регион, средняя прибыль в этом регионе составит 512.73 млн.рублей. Первый и третий регионы не прошли отбор ввиду своего превышающего порога допустимого убытка 2,5%.  \n",
    "Несмотря на немного уступающий объем запасов сырья в регионе, прогноз доходности скважин во втором регионе выше других.  \n",
    "Для разработки следует выбрать второй регион, в частности, 200 объектов с наивысшими запасами сырья.  \n",
    "Анализ данных показал следующие результаты по данному региону: \n",
    "- Суммарный запас сырья 200 лучших скважинах составляет: 27767.08 тыс. баррелей  \n",
    "- Прибыль от полученного объёма сырья составляет: 2495.18 млн. рублей  \n",
    "- Процент вероятности убытка составляет 0.8%\n",
    "- Средняя прибыль составляет: 512.73 млн. руб"
   ]
  },
  {
   "cell_type": "markdown",
   "metadata": {},
   "source": [
    "## Общий вывод"
   ]
  },
  {
   "cell_type": "markdown",
   "metadata": {},
   "source": [
    "Были проанализированны данные проб нефти в трех регионах.  \n",
    "В ходе предобработки данных не было выявлено пропусков, отклонений или прочих аномалий.  \n",
    "Была проведена стандартизация данных, моделью для предсказания была выбрана Linear Regression, так же была применена техника Bootstrap. \n",
    "\n",
    "В ходе анализа данных было установлено, что общего объема сырья недостаточно для окупаемости разработки, а по оценкам вероятности риска было принятор решение выбрать 200 объектов в регионе с наибольшими запасами сырья.  \n",
    "Для лучшего региона с наименьшей оценкой вероятности убытка с такими объектами был рассчитан суммарый запас, прибыль от полученного объема, средняя прибыль. На основе следующих данных для разработки следует выбрать второй регион.\n",
    " \n",
    "Анализ данных по данному региону показал следующие результаты: \n",
    "- Суммарный запас сырья 200 лучших скважинах составляет: 27767.08 тыс. баррелей  \n",
    "- Прибыль от полученного объёма сырья составляет: 2495.18 млн. рублей \n",
    "- Процент вероятности убытка составляет 0.8%\n",
    "- Средняя прибыль составляет: 512.73 млн. руб\n",
    "\n",
    "\n",
    "Два других региона не прошли отбор ввиду своего превышающего порога допустимого убытка 2,5%, несмотря даже на чуть превышающие запасы сырья в регионах"
   ]
  }
 ],
 "metadata": {
  "ExecuteTimeLog": [
   {
    "duration": 3569,
    "start_time": "2023-04-06T14:44:58.718Z"
   },
   {
    "duration": 1221,
    "start_time": "2023-04-06T14:45:02.289Z"
   },
   {
    "duration": 12,
    "start_time": "2023-04-06T14:45:03.512Z"
   },
   {
    "duration": 4,
    "start_time": "2023-04-06T14:45:03.534Z"
   },
   {
    "duration": 46,
    "start_time": "2023-04-06T14:45:03.541Z"
   },
   {
    "duration": 17,
    "start_time": "2023-04-06T14:45:03.588Z"
   },
   {
    "duration": 177,
    "start_time": "2023-04-06T14:45:03.607Z"
   },
   {
    "duration": 31,
    "start_time": "2023-04-06T14:45:03.786Z"
   },
   {
    "duration": 93,
    "start_time": "2023-04-06T14:45:03.819Z"
   },
   {
    "duration": 255,
    "start_time": "2023-04-06T14:45:03.914Z"
   },
   {
    "duration": 215,
    "start_time": "2023-04-06T14:45:04.170Z"
   },
   {
    "duration": 215,
    "start_time": "2023-04-06T14:45:04.387Z"
   },
   {
    "duration": 477,
    "start_time": "2023-04-06T14:45:04.604Z"
   },
   {
    "duration": 511,
    "start_time": "2023-04-06T14:45:05.085Z"
   },
   {
    "duration": 471,
    "start_time": "2023-04-06T14:45:05.598Z"
   },
   {
    "duration": 81,
    "start_time": "2023-04-06T14:45:06.071Z"
   },
   {
    "duration": 19,
    "start_time": "2023-04-06T14:45:06.154Z"
   },
   {
    "duration": 28,
    "start_time": "2023-04-06T14:45:06.174Z"
   },
   {
    "duration": 16,
    "start_time": "2023-04-06T14:45:06.203Z"
   },
   {
    "duration": 29,
    "start_time": "2023-04-06T14:45:06.220Z"
   },
   {
    "duration": 188,
    "start_time": "2023-04-06T14:45:06.251Z"
   },
   {
    "duration": 194,
    "start_time": "2023-04-06T14:45:06.442Z"
   },
   {
    "duration": 104,
    "start_time": "2023-04-06T14:45:06.639Z"
   },
   {
    "duration": 8,
    "start_time": "2023-04-06T14:45:06.745Z"
   },
   {
    "duration": 6,
    "start_time": "2023-04-06T14:45:06.754Z"
   },
   {
    "duration": 13,
    "start_time": "2023-04-06T14:45:06.761Z"
   },
   {
    "duration": 6,
    "start_time": "2023-04-06T14:45:06.776Z"
   },
   {
    "duration": 9,
    "start_time": "2023-04-06T14:45:06.783Z"
   },
   {
    "duration": 18,
    "start_time": "2023-04-06T14:45:06.794Z"
   },
   {
    "duration": 21,
    "start_time": "2023-04-06T14:45:06.814Z"
   },
   {
    "duration": 4,
    "start_time": "2023-04-06T14:45:06.837Z"
   },
   {
    "duration": 17,
    "start_time": "2023-04-06T14:45:06.843Z"
   },
   {
    "duration": 17,
    "start_time": "2023-04-06T14:45:06.862Z"
   },
   {
    "duration": 12,
    "start_time": "2023-04-06T14:45:06.881Z"
   },
   {
    "duration": 3,
    "start_time": "2023-04-06T14:45:06.894Z"
   },
   {
    "duration": 13,
    "start_time": "2023-04-06T14:45:06.898Z"
   },
   {
    "duration": 14,
    "start_time": "2023-04-06T14:45:06.912Z"
   },
   {
    "duration": 11,
    "start_time": "2023-04-06T14:45:06.935Z"
   },
   {
    "duration": 4,
    "start_time": "2023-04-06T14:45:06.948Z"
   },
   {
    "duration": 6,
    "start_time": "2023-04-06T14:45:06.954Z"
   },
   {
    "duration": 23,
    "start_time": "2023-04-06T14:45:06.963Z"
   },
   {
    "duration": 19,
    "start_time": "2023-04-06T14:45:06.988Z"
   },
   {
    "duration": 3,
    "start_time": "2023-04-06T14:45:07.008Z"
   },
   {
    "duration": 5,
    "start_time": "2023-04-06T14:45:07.013Z"
   },
   {
    "duration": 4,
    "start_time": "2023-04-06T14:45:07.034Z"
   },
   {
    "duration": 8,
    "start_time": "2023-04-06T14:45:07.040Z"
   },
   {
    "duration": 9,
    "start_time": "2023-04-06T14:45:07.050Z"
   },
   {
    "duration": 31,
    "start_time": "2023-04-06T14:45:07.061Z"
   },
   {
    "duration": 4,
    "start_time": "2023-04-06T14:45:07.094Z"
   },
   {
    "duration": 23,
    "start_time": "2023-04-06T14:45:07.100Z"
   },
   {
    "duration": 1399,
    "start_time": "2023-04-06T14:45:07.124Z"
   },
   {
    "duration": 1378,
    "start_time": "2023-04-06T14:45:08.525Z"
   },
   {
    "duration": 1356,
    "start_time": "2023-04-06T14:45:09.905Z"
   },
   {
    "duration": 3,
    "start_time": "2023-04-06T14:45:15.399Z"
   },
   {
    "duration": 6,
    "start_time": "2023-04-06T14:45:15.567Z"
   },
   {
    "duration": 1434,
    "start_time": "2023-04-06T14:45:15.742Z"
   },
   {
    "duration": 1429,
    "start_time": "2023-04-06T14:45:17.177Z"
   },
   {
    "duration": 1415,
    "start_time": "2023-04-06T14:45:18.607Z"
   },
   {
    "duration": 4,
    "start_time": "2023-04-06T14:45:20.794Z"
   },
   {
    "duration": 7,
    "start_time": "2023-04-06T14:45:20.992Z"
   },
   {
    "duration": 1415,
    "start_time": "2023-04-06T14:45:21.398Z"
   },
   {
    "duration": 1467,
    "start_time": "2023-04-06T14:45:22.815Z"
   },
   {
    "duration": 1469,
    "start_time": "2023-04-06T14:45:24.283Z"
   },
   {
    "duration": 5228,
    "start_time": "2023-04-09T08:44:29.512Z"
   },
   {
    "duration": 1157,
    "start_time": "2023-04-09T08:44:34.742Z"
   },
   {
    "duration": 13,
    "start_time": "2023-04-09T08:44:35.901Z"
   },
   {
    "duration": 20,
    "start_time": "2023-04-09T08:44:35.915Z"
   },
   {
    "duration": 18,
    "start_time": "2023-04-09T08:44:35.938Z"
   },
   {
    "duration": 18,
    "start_time": "2023-04-09T08:44:35.958Z"
   },
   {
    "duration": 227,
    "start_time": "2023-04-09T08:44:35.978Z"
   },
   {
    "duration": 56,
    "start_time": "2023-04-09T08:44:36.207Z"
   },
   {
    "duration": 138,
    "start_time": "2023-04-09T08:44:36.265Z"
   },
   {
    "duration": 305,
    "start_time": "2023-04-09T08:44:36.405Z"
   },
   {
    "duration": 247,
    "start_time": "2023-04-09T08:44:36.712Z"
   },
   {
    "duration": 259,
    "start_time": "2023-04-09T08:44:36.961Z"
   },
   {
    "duration": 19,
    "start_time": "2023-04-09T08:44:37.222Z"
   },
   {
    "duration": 18,
    "start_time": "2023-04-09T08:44:37.244Z"
   },
   {
    "duration": 120,
    "start_time": "2023-04-09T08:44:37.263Z"
   },
   {
    "duration": 2,
    "start_time": "2023-04-09T08:44:37.385Z"
   },
   {
    "duration": 121,
    "start_time": "2023-04-09T08:44:37.389Z"
   },
   {
    "duration": 40,
    "start_time": "2023-04-09T08:44:37.512Z"
   },
   {
    "duration": 48,
    "start_time": "2023-04-09T08:44:37.553Z"
   },
   {
    "duration": 21,
    "start_time": "2023-04-09T08:44:37.603Z"
   },
   {
    "duration": 13,
    "start_time": "2023-04-09T08:44:37.626Z"
   },
   {
    "duration": 14,
    "start_time": "2023-04-09T08:44:37.641Z"
   },
   {
    "duration": 77,
    "start_time": "2023-04-09T08:44:37.657Z"
   },
   {
    "duration": 132,
    "start_time": "2023-04-09T08:44:37.737Z"
   },
   {
    "duration": 14,
    "start_time": "2023-04-09T08:44:41.684Z"
   },
   {
    "duration": 4,
    "start_time": "2023-04-09T12:10:08.860Z"
   },
   {
    "duration": 1150,
    "start_time": "2023-04-09T12:10:08.867Z"
   },
   {
    "duration": 14,
    "start_time": "2023-04-09T12:10:10.018Z"
   },
   {
    "duration": 30,
    "start_time": "2023-04-09T12:10:10.034Z"
   },
   {
    "duration": 20,
    "start_time": "2023-04-09T12:10:10.066Z"
   },
   {
    "duration": 13,
    "start_time": "2023-04-09T12:10:10.088Z"
   },
   {
    "duration": 224,
    "start_time": "2023-04-09T12:10:10.102Z"
   },
   {
    "duration": 57,
    "start_time": "2023-04-09T12:10:10.328Z"
   },
   {
    "duration": 131,
    "start_time": "2023-04-09T12:10:10.387Z"
   },
   {
    "duration": 281,
    "start_time": "2023-04-09T12:10:10.520Z"
   },
   {
    "duration": 356,
    "start_time": "2023-04-09T12:10:10.804Z"
   },
   {
    "duration": 285,
    "start_time": "2023-04-09T12:10:11.162Z"
   },
   {
    "duration": 13,
    "start_time": "2023-04-09T12:10:11.454Z"
   },
   {
    "duration": 17,
    "start_time": "2023-04-09T12:10:11.469Z"
   },
   {
    "duration": 115,
    "start_time": "2023-04-09T12:10:11.488Z"
   },
   {
    "duration": 2,
    "start_time": "2023-04-09T12:10:11.605Z"
   },
   {
    "duration": 6,
    "start_time": "2023-04-09T12:10:11.609Z"
   },
   {
    "duration": 8,
    "start_time": "2023-04-09T12:10:11.616Z"
   },
   {
    "duration": 7,
    "start_time": "2023-04-09T12:10:11.626Z"
   },
   {
    "duration": 3,
    "start_time": "2023-04-09T12:10:11.641Z"
   },
   {
    "duration": 16,
    "start_time": "2023-04-09T12:10:11.650Z"
   },
   {
    "duration": 12,
    "start_time": "2023-04-09T12:10:11.668Z"
   },
   {
    "duration": 26,
    "start_time": "2023-04-09T12:10:11.681Z"
   },
   {
    "duration": 25,
    "start_time": "2023-04-09T12:10:11.711Z"
   },
   {
    "duration": 20,
    "start_time": "2023-04-09T12:10:11.738Z"
   },
   {
    "duration": 27,
    "start_time": "2023-04-09T12:10:11.760Z"
   },
   {
    "duration": 15,
    "start_time": "2023-04-09T12:10:11.788Z"
   },
   {
    "duration": 57,
    "start_time": "2023-04-09T12:10:11.805Z"
   },
   {
    "duration": 81,
    "start_time": "2023-04-09T12:10:11.864Z"
   },
   {
    "duration": 124,
    "start_time": "2023-04-09T12:10:11.947Z"
   },
   {
    "duration": 197,
    "start_time": "2023-04-09T12:10:12.073Z"
   },
   {
    "duration": 81,
    "start_time": "2023-04-09T12:10:12.273Z"
   },
   {
    "duration": 105,
    "start_time": "2023-04-09T12:10:12.361Z"
   },
   {
    "duration": 5,
    "start_time": "2023-04-09T12:10:12.468Z"
   },
   {
    "duration": 11,
    "start_time": "2023-04-09T12:10:12.474Z"
   },
   {
    "duration": 7,
    "start_time": "2023-04-09T12:10:12.487Z"
   },
   {
    "duration": 7,
    "start_time": "2023-04-09T12:10:12.496Z"
   },
   {
    "duration": 141,
    "start_time": "2023-04-09T12:10:12.504Z"
   },
   {
    "duration": 0,
    "start_time": "2023-04-09T12:10:12.647Z"
   },
   {
    "duration": 0,
    "start_time": "2023-04-09T12:10:12.647Z"
   },
   {
    "duration": 0,
    "start_time": "2023-04-09T12:10:12.648Z"
   },
   {
    "duration": 0,
    "start_time": "2023-04-09T12:10:12.649Z"
   },
   {
    "duration": 0,
    "start_time": "2023-04-09T12:10:12.650Z"
   },
   {
    "duration": 0,
    "start_time": "2023-04-09T12:10:12.651Z"
   },
   {
    "duration": 0,
    "start_time": "2023-04-09T12:10:12.652Z"
   },
   {
    "duration": 0,
    "start_time": "2023-04-09T12:10:12.653Z"
   },
   {
    "duration": 0,
    "start_time": "2023-04-09T12:10:12.654Z"
   },
   {
    "duration": 0,
    "start_time": "2023-04-09T12:10:12.655Z"
   },
   {
    "duration": 0,
    "start_time": "2023-04-09T12:10:12.656Z"
   },
   {
    "duration": 0,
    "start_time": "2023-04-09T12:10:12.657Z"
   },
   {
    "duration": 0,
    "start_time": "2023-04-09T12:10:12.659Z"
   },
   {
    "duration": 0,
    "start_time": "2023-04-09T12:10:12.660Z"
   },
   {
    "duration": 0,
    "start_time": "2023-04-09T12:10:12.661Z"
   },
   {
    "duration": 0,
    "start_time": "2023-04-09T12:10:12.662Z"
   },
   {
    "duration": 0,
    "start_time": "2023-04-09T12:10:12.663Z"
   },
   {
    "duration": 0,
    "start_time": "2023-04-09T12:10:12.664Z"
   },
   {
    "duration": 0,
    "start_time": "2023-04-09T12:10:12.665Z"
   },
   {
    "duration": 0,
    "start_time": "2023-04-09T12:10:12.666Z"
   },
   {
    "duration": 0,
    "start_time": "2023-04-09T12:10:12.667Z"
   },
   {
    "duration": 0,
    "start_time": "2023-04-09T12:10:12.667Z"
   },
   {
    "duration": 0,
    "start_time": "2023-04-09T12:10:12.668Z"
   },
   {
    "duration": 0,
    "start_time": "2023-04-09T12:10:12.670Z"
   },
   {
    "duration": 14,
    "start_time": "2023-04-09T12:10:34.824Z"
   },
   {
    "duration": 14,
    "start_time": "2023-04-09T12:10:37.866Z"
   },
   {
    "duration": 16,
    "start_time": "2023-04-09T12:10:42.781Z"
   },
   {
    "duration": 5,
    "start_time": "2023-04-09T12:10:48.506Z"
   },
   {
    "duration": 20,
    "start_time": "2023-04-09T12:10:55.864Z"
   },
   {
    "duration": 16,
    "start_time": "2023-04-09T12:11:08.310Z"
   },
   {
    "duration": 2180,
    "start_time": "2023-04-09T12:11:08.821Z"
   },
   {
    "duration": 0,
    "start_time": "2023-04-09T12:11:11.003Z"
   },
   {
    "duration": 0,
    "start_time": "2023-04-09T12:11:11.004Z"
   },
   {
    "duration": 14,
    "start_time": "2023-04-09T12:11:11.010Z"
   },
   {
    "duration": 1766,
    "start_time": "2023-04-09T12:11:11.702Z"
   },
   {
    "duration": 0,
    "start_time": "2023-04-09T12:11:13.470Z"
   },
   {
    "duration": 0,
    "start_time": "2023-04-09T12:11:13.472Z"
   },
   {
    "duration": 0,
    "start_time": "2023-04-09T12:11:13.472Z"
   },
   {
    "duration": 0,
    "start_time": "2023-04-09T12:11:13.473Z"
   },
   {
    "duration": 0,
    "start_time": "2023-04-09T12:11:13.484Z"
   },
   {
    "duration": 0,
    "start_time": "2023-04-09T12:11:13.489Z"
   },
   {
    "duration": 0,
    "start_time": "2023-04-09T12:11:13.491Z"
   },
   {
    "duration": 0,
    "start_time": "2023-04-09T12:11:13.492Z"
   },
   {
    "duration": 0,
    "start_time": "2023-04-09T12:11:13.493Z"
   },
   {
    "duration": 0,
    "start_time": "2023-04-09T12:11:13.495Z"
   },
   {
    "duration": 0,
    "start_time": "2023-04-09T12:11:13.497Z"
   },
   {
    "duration": 11,
    "start_time": "2023-04-09T12:11:13.702Z"
   },
   {
    "duration": 9,
    "start_time": "2023-04-09T12:11:13.868Z"
   },
   {
    "duration": 12,
    "start_time": "2023-04-09T12:11:14.058Z"
   },
   {
    "duration": 4,
    "start_time": "2023-04-09T12:11:14.457Z"
   },
   {
    "duration": 8,
    "start_time": "2023-04-09T12:11:15.581Z"
   },
   {
    "duration": 1616,
    "start_time": "2023-04-09T12:11:16.085Z"
   },
   {
    "duration": 0,
    "start_time": "2023-04-09T12:11:17.703Z"
   },
   {
    "duration": 0,
    "start_time": "2023-04-09T12:11:17.704Z"
   },
   {
    "duration": 2044,
    "start_time": "2023-04-09T12:11:44.356Z"
   },
   {
    "duration": 904,
    "start_time": "2023-04-09T12:11:46.402Z"
   },
   {
    "duration": 13,
    "start_time": "2023-04-09T12:11:47.308Z"
   },
   {
    "duration": 45,
    "start_time": "2023-04-09T12:11:47.324Z"
   },
   {
    "duration": 24,
    "start_time": "2023-04-09T12:11:47.371Z"
   },
   {
    "duration": 32,
    "start_time": "2023-04-09T12:11:47.397Z"
   },
   {
    "duration": 200,
    "start_time": "2023-04-09T12:11:47.431Z"
   },
   {
    "duration": 63,
    "start_time": "2023-04-09T12:11:47.633Z"
   },
   {
    "duration": 110,
    "start_time": "2023-04-09T12:11:47.698Z"
   },
   {
    "duration": 284,
    "start_time": "2023-04-09T12:11:47.810Z"
   },
   {
    "duration": 265,
    "start_time": "2023-04-09T12:11:48.097Z"
   },
   {
    "duration": 264,
    "start_time": "2023-04-09T12:11:48.364Z"
   },
   {
    "duration": 25,
    "start_time": "2023-04-09T12:11:48.630Z"
   },
   {
    "duration": 13,
    "start_time": "2023-04-09T12:11:48.659Z"
   },
   {
    "duration": 121,
    "start_time": "2023-04-09T12:11:48.674Z"
   },
   {
    "duration": 2,
    "start_time": "2023-04-09T12:11:48.797Z"
   },
   {
    "duration": 11,
    "start_time": "2023-04-09T12:11:48.801Z"
   },
   {
    "duration": 9,
    "start_time": "2023-04-09T12:11:48.815Z"
   },
   {
    "duration": 7,
    "start_time": "2023-04-09T12:11:48.826Z"
   },
   {
    "duration": 22,
    "start_time": "2023-04-09T12:11:48.835Z"
   },
   {
    "duration": 9,
    "start_time": "2023-04-09T12:11:48.859Z"
   },
   {
    "duration": 11,
    "start_time": "2023-04-09T12:11:48.870Z"
   },
   {
    "duration": 20,
    "start_time": "2023-04-09T12:11:48.883Z"
   },
   {
    "duration": 21,
    "start_time": "2023-04-09T12:11:48.905Z"
   },
   {
    "duration": 28,
    "start_time": "2023-04-09T12:11:48.928Z"
   },
   {
    "duration": 29,
    "start_time": "2023-04-09T12:11:48.959Z"
   },
   {
    "duration": 140,
    "start_time": "2023-04-09T12:11:48.990Z"
   },
   {
    "duration": 56,
    "start_time": "2023-04-09T12:11:49.132Z"
   },
   {
    "duration": 78,
    "start_time": "2023-04-09T12:11:49.190Z"
   },
   {
    "duration": 190,
    "start_time": "2023-04-09T12:11:49.270Z"
   },
   {
    "duration": 183,
    "start_time": "2023-04-09T12:11:49.463Z"
   },
   {
    "duration": 12,
    "start_time": "2023-04-09T12:11:49.654Z"
   },
   {
    "duration": 34,
    "start_time": "2023-04-09T12:11:49.742Z"
   },
   {
    "duration": 25,
    "start_time": "2023-04-09T12:11:49.778Z"
   },
   {
    "duration": 13,
    "start_time": "2023-04-09T12:11:49.805Z"
   },
   {
    "duration": 26,
    "start_time": "2023-04-09T12:11:49.820Z"
   },
   {
    "duration": 31,
    "start_time": "2023-04-09T12:11:49.848Z"
   },
   {
    "duration": 21,
    "start_time": "2023-04-09T12:11:49.881Z"
   },
   {
    "duration": 12,
    "start_time": "2023-04-09T12:11:49.904Z"
   },
   {
    "duration": 4,
    "start_time": "2023-04-09T12:11:49.918Z"
   },
   {
    "duration": 7,
    "start_time": "2023-04-09T12:11:49.926Z"
   },
   {
    "duration": 27,
    "start_time": "2023-04-09T12:11:49.934Z"
   },
   {
    "duration": 17,
    "start_time": "2023-04-09T12:11:49.963Z"
   },
   {
    "duration": 4,
    "start_time": "2023-04-09T12:11:49.982Z"
   },
   {
    "duration": 23,
    "start_time": "2023-04-09T12:11:49.988Z"
   },
   {
    "duration": 37,
    "start_time": "2023-04-09T12:11:50.013Z"
   },
   {
    "duration": 30,
    "start_time": "2023-04-09T12:11:50.052Z"
   },
   {
    "duration": 32,
    "start_time": "2023-04-09T12:11:50.084Z"
   },
   {
    "duration": 11,
    "start_time": "2023-04-09T12:11:50.118Z"
   },
   {
    "duration": 44,
    "start_time": "2023-04-09T12:11:50.131Z"
   },
   {
    "duration": 44,
    "start_time": "2023-04-09T12:11:50.178Z"
   },
   {
    "duration": 11,
    "start_time": "2023-04-09T12:11:50.224Z"
   },
   {
    "duration": 42,
    "start_time": "2023-04-09T12:11:50.237Z"
   },
   {
    "duration": 50,
    "start_time": "2023-04-09T12:11:50.281Z"
   },
   {
    "duration": 26,
    "start_time": "2023-04-09T12:11:50.333Z"
   },
   {
    "duration": 46,
    "start_time": "2023-04-09T12:11:50.361Z"
   },
   {
    "duration": 57,
    "start_time": "2023-04-09T12:11:50.409Z"
   },
   {
    "duration": 13,
    "start_time": "2023-04-09T12:11:50.468Z"
   },
   {
    "duration": 29,
    "start_time": "2023-04-09T12:11:50.483Z"
   },
   {
    "duration": 1763,
    "start_time": "2023-04-09T12:11:50.514Z"
   },
   {
    "duration": 1747,
    "start_time": "2023-04-09T12:11:52.279Z"
   },
   {
    "duration": 1697,
    "start_time": "2023-04-09T12:11:54.028Z"
   }
  ],
  "kernelspec": {
   "display_name": "Python 3 (ipykernel)",
   "language": "python",
   "name": "python3"
  },
  "language_info": {
   "codemirror_mode": {
    "name": "ipython",
    "version": 3
   },
   "file_extension": ".py",
   "mimetype": "text/x-python",
   "name": "python",
   "nbconvert_exporter": "python",
   "pygments_lexer": "ipython3",
   "version": "3.9.13"
  },
  "toc": {
   "base_numbering": 1,
   "nav_menu": {},
   "number_sections": true,
   "sideBar": true,
   "skip_h1_title": true,
   "title_cell": "Table of Contents",
   "title_sidebar": "Contents",
   "toc_cell": false,
   "toc_position": {
    "height": "752px",
    "left": "22px",
    "top": "110.525px",
    "width": "308px"
   },
   "toc_section_display": true,
   "toc_window_display": true
  }
 },
 "nbformat": 4,
 "nbformat_minor": 2
}
