{
 "cells": [
  {
   "cell_type": "markdown",
   "metadata": {
    "toc": true
   },
   "source": [
    "<h1>Table of Contents<span class=\"tocSkip\"></span></h1>\n",
    "<div class=\"toc\"><ul class=\"toc-item\"><li><ul class=\"toc-item\"><li><span><a href=\"#Описание-проекта\" data-toc-modified-id=\"Описание-проекта-0.1\"><span class=\"toc-item-num\">0.1&nbsp;&nbsp;</span>Описание проекта</a></span></li><li><span><a href=\"#План-исследования\" data-toc-modified-id=\"План-исследования-0.2\"><span class=\"toc-item-num\">0.2&nbsp;&nbsp;</span>План исследования</a></span></li></ul></li><li><span><a href=\"#Откройте-и-изучите-файл\" data-toc-modified-id=\"Откройте-и-изучите-файл-1\"><span class=\"toc-item-num\">1&nbsp;&nbsp;</span>Откройте и изучите файл</a></span><ul class=\"toc-item\"><li><span><a href=\"#Предобработка-данных\" data-toc-modified-id=\"Предобработка-данных-1.1\"><span class=\"toc-item-num\">1.1&nbsp;&nbsp;</span>Предобработка данных</a></span></li></ul></li><li><span><a href=\"#Разбейте-данные-на-выборки\" data-toc-modified-id=\"Разбейте-данные-на-выборки-2\"><span class=\"toc-item-num\">2&nbsp;&nbsp;</span>Разбейте данные на выборки</a></span><ul class=\"toc-item\"><li><span><a href=\"#Обучающая-выборка\" data-toc-modified-id=\"Обучающая-выборка-2.1\"><span class=\"toc-item-num\">2.1&nbsp;&nbsp;</span>Обучающая выборка</a></span></li><li><span><a href=\"#Валидационная-выборка-и-тестовая-выборки\" data-toc-modified-id=\"Валидационная-выборка-и-тестовая-выборки-2.2\"><span class=\"toc-item-num\">2.2&nbsp;&nbsp;</span>Валидационная выборка и тестовая выборки</a></span></li></ul></li><li><span><a href=\"#Исследуйте-модели\" data-toc-modified-id=\"Исследуйте-модели-3\"><span class=\"toc-item-num\">3&nbsp;&nbsp;</span>Исследуйте модели</a></span><ul class=\"toc-item\"><li><span><a href=\"#Исследуем-модель-Decision-Tree-Classifier\" data-toc-modified-id=\"Исследуем-модель-Decision-Tree-Classifier-3.1\"><span class=\"toc-item-num\">3.1&nbsp;&nbsp;</span>Исследуем модель Decision Tree Classifier</a></span></li><li><span><a href=\"#Исследуем-модель-Random-Forest-Classifier\" data-toc-modified-id=\"Исследуем-модель-Random-Forest-Classifier-3.2\"><span class=\"toc-item-num\">3.2&nbsp;&nbsp;</span>Исследуем модель Random Forest Classifier</a></span></li><li><span><a href=\"#Исследуем-модель-Logistic-Regression\" data-toc-modified-id=\"Исследуем-модель-Logistic-Regression-3.3\"><span class=\"toc-item-num\">3.3&nbsp;&nbsp;</span>Исследуем модель Logistic Regression</a></span></li><li><span><a href=\"#Вывод-по-разделу-исследования-моделей\" data-toc-modified-id=\"Вывод-по-разделу-исследования-моделей-3.4\"><span class=\"toc-item-num\">3.4&nbsp;&nbsp;</span><em>Вывод по разделу исследования моделей</em></a></span></li></ul></li><li><span><a href=\"#Проверка-моделей-на-тестовой-выборке\" data-toc-modified-id=\"Проверка-моделей-на-тестовой-выборке-4\"><span class=\"toc-item-num\">4&nbsp;&nbsp;</span>Проверка моделей на тестовой выборке</a></span><ul class=\"toc-item\"><li><span><a href=\"#Проверка-Decision-Tree-Classifier-на-тестовой-выборке\" data-toc-modified-id=\"Проверка-Decision-Tree-Classifier-на-тестовой-выборке-4.1\"><span class=\"toc-item-num\">4.1&nbsp;&nbsp;</span>Проверка Decision Tree Classifier на тестовой выборке</a></span></li><li><span><a href=\"#Проверка-Random-Forest-Classifier-на-тестовой-выборке\" data-toc-modified-id=\"Проверка-Random-Forest-Classifier-на-тестовой-выборке-4.2\"><span class=\"toc-item-num\">4.2&nbsp;&nbsp;</span>Проверка Random Forest Classifier на тестовой выборке</a></span></li><li><span><a href=\"#Проверка-Logistic-Regression-на-тестовой-выборке\" data-toc-modified-id=\"Проверка-Logistic-Regression-на-тестовой-выборке-4.3\"><span class=\"toc-item-num\">4.3&nbsp;&nbsp;</span>Проверка Logistic Regression на тестовой выборке</a></span></li><li><span><a href=\"#Вывод-по-разделу-проверки-моделей-на-тестовой-выборке\" data-toc-modified-id=\"Вывод-по-разделу-проверки-моделей-на-тестовой-выборке-4.4\"><span class=\"toc-item-num\">4.4&nbsp;&nbsp;</span><em>Вывод по разделу проверки моделей на тестовой выборке</em></a></span></li></ul></li><li><span><a href=\"#Проверка-модели-на-адекватность\" data-toc-modified-id=\"Проверка-модели-на-адекватность-5\"><span class=\"toc-item-num\">5&nbsp;&nbsp;</span>Проверка модели на адекватность</a></span></li><li><span><a href=\"#Общий-вывод\" data-toc-modified-id=\"Общий-вывод-6\"><span class=\"toc-item-num\">6&nbsp;&nbsp;</span><em>Общий вывод</em></a></span></li></ul></div>"
   ]
  },
  {
   "cell_type": "markdown",
   "metadata": {},
   "source": [
    "# Рекомендация тарифов"
   ]
  },
  {
   "cell_type": "markdown",
   "metadata": {},
   "source": [
    "### Описание проекта"
   ]
  },
  {
   "cell_type": "markdown",
   "metadata": {},
   "source": [
    "В вашем распоряжении данные о поведении клиентов, которые уже перешли на эти тарифы (из проекта курса «Статистический анализ данных»). Нужно построить модель для задачи классификации, которая выберет подходящий тариф. Предобработка данных не понадобится — вы её уже сделали.\n",
    "\n",
    "Постройте модель с максимально большим значением *accuracy*. Чтобы сдать проект успешно, нужно довести долю правильных ответов по крайней мере до 0.75. Проверьте *accuracy* на тестовой выборке самостоятельно."
   ]
  },
  {
   "cell_type": "markdown",
   "metadata": {},
   "source": [
    "### План исследования"
   ]
  },
  {
   "cell_type": "markdown",
   "metadata": {},
   "source": [
    "1. Обзор и предобработка данных: \n",
    "- Посмотреть общую информацию о данных\n",
    "- Выявить и устранить дупликаты и пропуски (если это необходимо)\n",
    "- Изменить тип данных при необходимости\n",
    "\n",
    "2. Разбить данные на выборки\n",
    "- Обучающую, валидационную и тестовую\n",
    "\n",
    "3. Исследовать модели\n",
    "- Decision Tree Classifier\n",
    "- Random Forest Classifier\n",
    "- Logistic Regression\n",
    "\n",
    "4. Проверить модели на тестовой выборке\n",
    "5. Проверить модель на адекватность\n",
    "6. Общий вывод"
   ]
  },
  {
   "cell_type": "markdown",
   "metadata": {},
   "source": [
    "## Откройте и изучите файл"
   ]
  },
  {
   "cell_type": "markdown",
   "metadata": {},
   "source": [
    "### Предобработка данных"
   ]
  },
  {
   "cell_type": "markdown",
   "metadata": {},
   "source": [
    "План этапа: \n",
    "- Посмотреть общую информацию о данных\n",
    "- Выявить и устранить дупликаты и пропуски (если это необходимо)\n",
    "- Изменить тип данных при необходимости"
   ]
  },
  {
   "cell_type": "code",
   "execution_count": 1,
   "metadata": {},
   "outputs": [],
   "source": [
    "\n",
    "import pandas as pd\n",
    "import optuna \n",
    "from sklearn.model_selection import train_test_split\n",
    "\n",
    "from sklearn.tree import DecisionTreeClassifier\n",
    "from sklearn.ensemble import RandomForestClassifier\n",
    "from sklearn.linear_model import LogisticRegression\n",
    "\n",
    "from sklearn.metrics import mean_squared_error\n",
    "from sklearn.metrics import accuracy_score"
   ]
  },
  {
   "cell_type": "code",
   "execution_count": 3,
   "metadata": {},
   "outputs": [],
   "source": [
    "try: \n",
    "    data = pd.read_csv('users_behavior.csv')\n",
    "except:\n",
    "    data = pd.read_csv('https://code.s3.yandex.net/datasets/users_behavior.csv')"
   ]
  },
  {
   "cell_type": "code",
   "execution_count": 47,
   "metadata": {},
   "outputs": [
    {
     "data": {
      "text/html": [
       "<div>\n",
       "<style scoped>\n",
       "    .dataframe tbody tr th:only-of-type {\n",
       "        vertical-align: middle;\n",
       "    }\n",
       "\n",
       "    .dataframe tbody tr th {\n",
       "        vertical-align: top;\n",
       "    }\n",
       "\n",
       "    .dataframe thead th {\n",
       "        text-align: right;\n",
       "    }\n",
       "</style>\n",
       "<table border=\"1\" class=\"dataframe\">\n",
       "  <thead>\n",
       "    <tr style=\"text-align: right;\">\n",
       "      <th></th>\n",
       "      <th>calls</th>\n",
       "      <th>minutes</th>\n",
       "      <th>messages</th>\n",
       "      <th>mb_used</th>\n",
       "      <th>is_ultra</th>\n",
       "    </tr>\n",
       "  </thead>\n",
       "  <tbody>\n",
       "    <tr>\n",
       "      <th>0</th>\n",
       "      <td>40.0</td>\n",
       "      <td>311.90</td>\n",
       "      <td>83.0</td>\n",
       "      <td>19915.42</td>\n",
       "      <td>0</td>\n",
       "    </tr>\n",
       "    <tr>\n",
       "      <th>1</th>\n",
       "      <td>85.0</td>\n",
       "      <td>516.75</td>\n",
       "      <td>56.0</td>\n",
       "      <td>22696.96</td>\n",
       "      <td>0</td>\n",
       "    </tr>\n",
       "    <tr>\n",
       "      <th>2</th>\n",
       "      <td>77.0</td>\n",
       "      <td>467.66</td>\n",
       "      <td>86.0</td>\n",
       "      <td>21060.45</td>\n",
       "      <td>0</td>\n",
       "    </tr>\n",
       "    <tr>\n",
       "      <th>3</th>\n",
       "      <td>106.0</td>\n",
       "      <td>745.53</td>\n",
       "      <td>81.0</td>\n",
       "      <td>8437.39</td>\n",
       "      <td>1</td>\n",
       "    </tr>\n",
       "    <tr>\n",
       "      <th>4</th>\n",
       "      <td>66.0</td>\n",
       "      <td>418.74</td>\n",
       "      <td>1.0</td>\n",
       "      <td>14502.75</td>\n",
       "      <td>0</td>\n",
       "    </tr>\n",
       "  </tbody>\n",
       "</table>\n",
       "</div>"
      ],
      "text/plain": [
       "   calls  minutes  messages   mb_used  is_ultra\n",
       "0   40.0   311.90      83.0  19915.42         0\n",
       "1   85.0   516.75      56.0  22696.96         0\n",
       "2   77.0   467.66      86.0  21060.45         0\n",
       "3  106.0   745.53      81.0   8437.39         1\n",
       "4   66.0   418.74       1.0  14502.75         0"
      ]
     },
     "execution_count": 47,
     "metadata": {},
     "output_type": "execute_result"
    }
   ],
   "source": [
    "data.head()"
   ]
  },
  {
   "cell_type": "code",
   "execution_count": 48,
   "metadata": {},
   "outputs": [
    {
     "name": "stdout",
     "output_type": "stream",
     "text": [
      "<class 'pandas.core.frame.DataFrame'>\n",
      "RangeIndex: 3214 entries, 0 to 3213\n",
      "Data columns (total 5 columns):\n",
      " #   Column    Non-Null Count  Dtype  \n",
      "---  ------    --------------  -----  \n",
      " 0   calls     3214 non-null   float64\n",
      " 1   minutes   3214 non-null   float64\n",
      " 2   messages  3214 non-null   float64\n",
      " 3   mb_used   3214 non-null   float64\n",
      " 4   is_ultra  3214 non-null   int64  \n",
      "dtypes: float64(4), int64(1)\n",
      "memory usage: 125.7 KB\n"
     ]
    }
   ],
   "source": [
    "data.info()"
   ]
  },
  {
   "cell_type": "code",
   "execution_count": 49,
   "metadata": {},
   "outputs": [],
   "source": [
    "\n",
    "for col in data[['calls','messages']]:\n",
    "    data[col] = data[col].astype(int)"
   ]
  },
  {
   "cell_type": "code",
   "execution_count": 50,
   "metadata": {},
   "outputs": [
    {
     "name": "stdout",
     "output_type": "stream",
     "text": [
      "<class 'pandas.core.frame.DataFrame'>\n",
      "RangeIndex: 3214 entries, 0 to 3213\n",
      "Data columns (total 5 columns):\n",
      " #   Column    Non-Null Count  Dtype  \n",
      "---  ------    --------------  -----  \n",
      " 0   calls     3214 non-null   int64  \n",
      " 1   minutes   3214 non-null   float64\n",
      " 2   messages  3214 non-null   int64  \n",
      " 3   mb_used   3214 non-null   float64\n",
      " 4   is_ultra  3214 non-null   int64  \n",
      "dtypes: float64(2), int64(3)\n",
      "memory usage: 125.7 KB\n"
     ]
    }
   ],
   "source": [
    "data.info()"
   ]
  },
  {
   "cell_type": "code",
   "execution_count": 51,
   "metadata": {
    "scrolled": true
   },
   "outputs": [
    {
     "data": {
      "text/plain": [
       "array([0, 1])"
      ]
     },
     "execution_count": 51,
     "metadata": {},
     "output_type": "execute_result"
    }
   ],
   "source": [
    "data['is_ultra'].unique()"
   ]
  },
  {
   "cell_type": "code",
   "execution_count": 52,
   "metadata": {},
   "outputs": [
    {
     "data": {
      "text/plain": [
       "Index(['calls', 'minutes', 'messages', 'mb_used', 'is_ultra'], dtype='object')"
      ]
     },
     "execution_count": 52,
     "metadata": {},
     "output_type": "execute_result"
    }
   ],
   "source": [
    "\n",
    "col_list = data.columns\n",
    "col_list"
   ]
  },
  {
   "cell_type": "code",
   "execution_count": 53,
   "metadata": {},
   "outputs": [
    {
     "name": "stdout",
     "output_type": "stream",
     "text": [
      "кол-во дупликатов: 0\n",
      "-------------------------\n",
      "calls : кол-во NaN 0 , процент NaN 0.0 %\n",
      "-------------------------\n",
      "minutes : кол-во NaN 0 , процент NaN 0.0 %\n",
      "-------------------------\n",
      "messages : кол-во NaN 0 , процент NaN 0.0 %\n",
      "-------------------------\n",
      "mb_used : кол-во NaN 0 , процент NaN 0.0 %\n",
      "-------------------------\n",
      "is_ultra : кол-во NaN 0 , процент NaN 0.0 %\n"
     ]
    }
   ],
   "source": [
    "\n",
    "print('кол-во дупликатов:', data.duplicated().sum())\n",
    "for col in col_list:\n",
    "    print('-'* 25)\n",
    "    print(col,': кол-во NaN',data[col].isna().sum(),\n",
    "          ', процент NaN', round(data[col].isna().sum()/len(data)*100, 2),'%')"
   ]
  },
  {
   "cell_type": "markdown",
   "metadata": {},
   "source": [
    "Был изменен тип столбцов calls и messages на int для удобства исследования, в остальном замечаний к данным нет"
   ]
  },
  {
   "cell_type": "markdown",
   "metadata": {},
   "source": [
    "## Разбейте данные на выборки"
   ]
  },
  {
   "cell_type": "markdown",
   "metadata": {},
   "source": [
    "План этапа: \n",
    "- Разбить данные на выборки:\n",
    "  - Обучающую\n",
    "  - Валидационную и тестовую"
   ]
  },
  {
   "cell_type": "markdown",
   "metadata": {},
   "source": [
    "Данные разбиваем на три части: обучающую, валидационную и тестовую - 3:1:1"
   ]
  },
  {
   "cell_type": "markdown",
   "metadata": {},
   "source": [
    "### Обучающая выборка"
   ]
  },
  {
   "cell_type": "code",
   "execution_count": 54,
   "metadata": {},
   "outputs": [
    {
     "name": "stdout",
     "output_type": "stream",
     "text": [
      "Размер обучающей выборки: (2410, 5)\n"
     ]
    }
   ],
   "source": [
    "\n",
    "train_data, valid_data = train_test_split(data, test_size = 0.25, random_state = 12345)\n",
    "print(f'Размер обучающей выборки: {train_data.shape}')\n"
   ]
  },
  {
   "cell_type": "markdown",
   "metadata": {},
   "source": [
    "### Валидационная выборка и тестовая выборки"
   ]
  },
  {
   "cell_type": "code",
   "execution_count": 55,
   "metadata": {},
   "outputs": [
    {
     "name": "stdout",
     "output_type": "stream",
     "text": [
      "Размер валидационной выборки: (402, 5)\n",
      "Размер тестовой выборки: (402, 5)\n"
     ]
    }
   ],
   "source": [
    "\n",
    "valid_data, final_test_data = train_test_split(valid_data, test_size = 0.5, random_state = 12345)\n",
    "print(f'Размер валидационной выборки: {valid_data.shape}')\n",
    "print(f'Размер тестовой выборки: {final_test_data.shape}')\n"
   ]
  },
  {
   "cell_type": "markdown",
   "metadata": {},
   "source": [
    "## Исследуйте модели"
   ]
  },
  {
   "cell_type": "markdown",
   "metadata": {},
   "source": [
    "План этапа:  \n",
    "Исследовать модели:  \n",
    "- Decision Tree Classifier\n",
    "- Random Forest Classifier\n",
    "- Logistic Regression"
   ]
  },
  {
   "cell_type": "markdown",
   "metadata": {},
   "source": [
    "### Исследуем модель Decision Tree Classifier"
   ]
  },
  {
   "cell_type": "code",
   "execution_count": 56,
   "metadata": {},
   "outputs": [],
   "source": [
    "# Подготовка данных для исследования\n",
    "\n",
    "train_features = data.drop(['is_ultra'], axis = 1)\n",
    "train_target = data['is_ultra']\n",
    "\n",
    "valid_features = valid_data.drop(['is_ultra'], axis = 1)\n",
    "valid_target = valid_data['is_ultra']\n"
   ]
  },
  {
   "cell_type": "code",
   "execution_count": 57,
   "metadata": {
    "scrolled": false
   },
   "outputs": [
    {
     "name": "stdout",
     "output_type": "stream",
     "text": [
      "Accuracy при max_depth = 3\n",
      "Обучающая выборка: 0.798070939639079\n",
      "Валидационная выборка: 0.8034825870646766\n",
      "\n",
      "Accuracy при max_depth = 4\n",
      "Обучающая выборка: 0.7999377722464219\n",
      "Валидационная выборка: 0.8109452736318408\n",
      "\n",
      "Accuracy при max_depth = 5\n",
      "Обучающая выборка: 0.8170504044803982\n",
      "Валидационная выборка: 0.8084577114427861\n",
      "\n",
      "Accuracy при max_depth = 6\n",
      "Обучающая выборка: 0.827317983820784\n",
      "Валидационная выборка: 0.818407960199005\n",
      "\n",
      "Accuracy при max_depth = 7\n",
      "Обучающая выборка: 0.8397635345364033\n",
      "Валидационная выборка: 0.8233830845771144\n",
      "\n",
      "Accuracy при max_depth = 8\n",
      "Обучающая выборка: 0.8550093341630367\n",
      "Валидационная выборка: 0.8383084577114428\n",
      "\n",
      "Accuracy при max_depth = 9\n",
      "Обучающая выборка: 0.8637212196639701\n",
      "Валидационная выборка: 0.8557213930348259\n",
      "\n",
      "Accuracy при max_depth = 10\n",
      "Обучающая выборка: 0.8721219663970131\n",
      "Валидационная выборка: 0.8706467661691543\n",
      "\n",
      "Лучший показатель Accuracy: 0.8706 при depth = 10\n"
     ]
    }
   ],
   "source": [
    "# Построение цикла с обучением и предсказанием модели\n",
    "\n",
    "best_result_dtc = 0\n",
    "\n",
    "for depth in range(3, 11):\n",
    "    model_dtc = DecisionTreeClassifier(random_state = 12345, max_depth = depth)\n",
    "    model_dtc.fit(train_features, train_target)\n",
    "    \n",
    "    predictions_train_dtc = model_dtc.predict(train_features)\n",
    "    predictions_valid_dtc = model_dtc.predict(valid_features)\n",
    "    \n",
    "    score_train_dtc = accuracy_score(predictions_train_dtc, train_target)\n",
    "    score_valid_dtc = accuracy_score(predictions_valid_dtc,valid_target)\n",
    "    \n",
    "    print(f'Accuracy при max_depth = {depth}')\n",
    "    print(f'Обучающая выборка: {score_train_dtc}')\n",
    "    print(f'Валидационная выборка: {score_valid_dtc}')\n",
    "    print()\n",
    "    \n",
    "    if score_valid_dtc > best_result_dtc:\n",
    "        best_result_dtc = score_valid_dtc\n",
    "        best_depth_dtc = depth\n",
    "        \n",
    "    \n",
    "print(f'Лучший показатель Accuracy: {best_result_dtc.round(4)} при depth = {best_depth_dtc}')"
   ]
  },
  {
   "cell_type": "markdown",
   "metadata": {},
   "source": [
    "### Исследуем модель Random Forest Classifier"
   ]
  },
  {
   "cell_type": "code",
   "execution_count": 58,
   "metadata": {
    "scrolled": false
   },
   "outputs": [
    {
     "name": "stdout",
     "output_type": "stream",
     "text": [
      "Accuracy при max_depth = 3\n",
      "Обучающая выборка: 0.9499066583696328\n",
      "Валидационная выборка: 0.9527363184079602\n",
      "\n",
      "Accuracy при max_depth = 4\n",
      "Обучающая выборка: 0.9467952706907281\n",
      "Валидационная выборка: 0.9502487562189055\n",
      "\n",
      "Accuracy при max_depth = 5\n",
      "Обучающая выборка: 0.9738643434971997\n",
      "Валидационная выборка: 0.9751243781094527\n",
      "\n",
      "Accuracy при max_depth = 6\n",
      "Обучающая выборка: 0.970130678282514\n",
      "Валидационная выборка: 0.972636815920398\n",
      "\n",
      "Accuracy при max_depth = 7\n",
      "Обучающая выборка: 0.9803982576228998\n",
      "Валидационная выборка: 0.9900497512437811\n",
      "\n",
      "Accuracy при max_depth = 8\n",
      "Обучающая выборка: 0.9757311761045426\n",
      "Валидационная выборка: 0.9776119402985075\n",
      "\n",
      "Accuracy при max_depth = 9\n",
      "Обучающая выборка: 0.9835096453018046\n",
      "Валидационная выборка: 0.9850746268656716\n",
      "\n",
      "Accuracy при max_depth = 10\n",
      "Обучающая выборка: 0.9813316739265713\n",
      "Валидационная выборка: 0.9850746268656716\n",
      "\n",
      "Лучший показатель Accuracy: 0.9851 при n_estimators = 10\n"
     ]
    }
   ],
   "source": [
    "# Построение цикла с обучением и предсказанием модели\n",
    "\n",
    "best_result_rfc = 0\n",
    "\n",
    "for est in range(3, 11):\n",
    "    model_rfc = RandomForestClassifier(random_state = 12345, n_estimators = est)\n",
    "    model_rfc.fit(train_features, train_target)\n",
    "    \n",
    "    predictions_train_rfc = model_rfc.predict(train_features)\n",
    "    predictions_valid_rfc = model_rfc.predict(valid_features)\n",
    "    \n",
    "    score_train_rfc = accuracy_score(predictions_train_rfc, train_target)\n",
    "    score_valid_rfc = accuracy_score(predictions_valid_rfc, valid_target)\n",
    "    \n",
    "    print(f'Accuracy при max_depth = {est}')\n",
    "    print(f'Обучающая выборка: {score_train_rfc}')\n",
    "    print(f'Валидационная выборка: {score_valid_rfc}')\n",
    "    print()\n",
    "    \n",
    "    if score_valid_rfc > best_result_dtc:\n",
    "        best_result_rfc = score_valid_rfc\n",
    "        best_est_rfc = est\n",
    "        \n",
    "    \n",
    "print(f'Лучший показатель Accuracy: {best_result_rfc.round(4)} при n_estimators = {best_est_rfc}')"
   ]
  },
  {
   "cell_type": "markdown",
   "metadata": {},
   "source": [
    "### Исследуем модель Logistic Regression"
   ]
  },
  {
   "cell_type": "code",
   "execution_count": 59,
   "metadata": {},
   "outputs": [
    {
     "name": "stdout",
     "output_type": "stream",
     "text": [
      "Обучающая выборка: 0.748\n",
      "Валидационная выборка: 0.7736\n"
     ]
    }
   ],
   "source": [
    "# Обучение и предсказание модели\n",
    "\n",
    "#model_lr = LogisticRegression(random_state = 12345)\n",
    "model_lr = LogisticRegression(random_state = 12345, solver = 'lbfgs', max_iter = 1000)\n",
    "model_lr.fit(train_features, train_target)\n",
    "\n",
    "predictions_train_lr = model_lr.predict(train_features)\n",
    "predictions_valid_lr = model_lr.predict(valid_features)\n",
    "\n",
    "score_train_lr = accuracy_score(train_target, predictions_train_lr)\n",
    "score_valid_lr = accuracy_score(valid_target, predictions_valid_lr)\n",
    "\n",
    "print(f'Обучающая выборка: {score_train_lr.round(4)}')\n",
    "print(f'Валидационная выборка: {score_valid_lr.round(4)}')"
   ]
  },
  {
   "cell_type": "markdown",
   "metadata": {},
   "source": [
    "### *Вывод по разделу исследования моделей*"
   ]
  },
  {
   "cell_type": "markdown",
   "metadata": {},
   "source": [
    "Результаты наилучших показателей Accuracy среди моделей распределились следующим образом:  \n",
    "- Accuracy `Decision Tree Classifier: ` 0.8706, при depth = 10\n",
    "- Accuracy `Random Forest Classifier: ` 0.9851, при n_estimators = 10\n",
    "- Accuracy `Logistic Regression: ` 0.7736, при solver = 'lbfgs'и max_iter = 1000"
   ]
  },
  {
   "cell_type": "markdown",
   "metadata": {},
   "source": [
    "## Проверка моделей на тестовой выборке"
   ]
  },
  {
   "cell_type": "code",
   "execution_count": 60,
   "metadata": {},
   "outputs": [],
   "source": [
    "# Подготовка данных тестовой выборки для проверки моделей\n",
    "\n",
    "final_test_features = final_test_data.drop(['is_ultra'], axis = 1)\n",
    "final_test_target = final_test_data['is_ultra']"
   ]
  },
  {
   "cell_type": "markdown",
   "metadata": {},
   "source": [
    "Наиболее точной себя показала модель случайного леса - Random Forest Classifier, поэтому проверим ее на тестовой выборке"
   ]
  },
  {
   "cell_type": "markdown",
   "metadata": {},
   "source": [
    "### Проверка Decision Tree Classifier на тестовой выборке"
   ]
  },
  {
   "cell_type": "code",
   "execution_count": 61,
   "metadata": {},
   "outputs": [
    {
     "name": "stdout",
     "output_type": "stream",
     "text": [
      "Accuracy Decision Tree Classifier: 0.9204\n"
     ]
    }
   ],
   "source": [
    "\n",
    "model_dtc = DecisionTreeClassifier(random_state = 12345, max_depth = 10)\n",
    "model_dtc.fit(final_test_features, final_test_target)\n",
    "\n",
    "predictions_test_dtc = model_dtc.predict(final_test_features)\n",
    "score_test_dtc = accuracy_score(final_test_target, predictions_test_dtc)\n",
    "\n",
    "print(f'Accuracy Decision Tree Classifier: {score_test_dtc.round(4)}')"
   ]
  },
  {
   "cell_type": "markdown",
   "metadata": {},
   "source": [
    "### Проверка Random Forest Classifier на тестовой выборке"
   ]
  },
  {
   "cell_type": "code",
   "execution_count": 62,
   "metadata": {},
   "outputs": [
    {
     "name": "stdout",
     "output_type": "stream",
     "text": [
      "Accuracy Random Forest Classifier: 0.9652\n"
     ]
    }
   ],
   "source": [
    "\n",
    "#model_rfc = RandomForestClassifier(random_state = 12345, n_estimators = est)\n",
    "model_rfc = RandomForestClassifier(random_state = 12345, n_estimators = 10)\n",
    "model_rfc.fit(final_test_features, final_test_target)\n",
    "\n",
    "predictions_test_rfc = model_rfc.predict(final_test_features)\n",
    "score_test_rfc = accuracy_score(predictions_test_rfc, final_test_target)\n",
    "\n",
    "print(f'Accuracy Random Forest Classifier: {score_test_rfc.round(4)}')"
   ]
  },
  {
   "cell_type": "markdown",
   "metadata": {},
   "source": [
    "### Проверка Logistic Regression на тестовой выборке"
   ]
  },
  {
   "cell_type": "code",
   "execution_count": 63,
   "metadata": {},
   "outputs": [
    {
     "name": "stdout",
     "output_type": "stream",
     "text": [
      "Accuracy Logistic Regression: 0.704\n"
     ]
    }
   ],
   "source": [
    "\n",
    "#model_lr = LogisticRegression(random_state = 12345)\n",
    "model_lr = LogisticRegression(random_state = 12345, solver = 'lbfgs', max_iter = 1000)\n",
    "model_lr.fit(final_test_features, final_test_target)\n",
    "\n",
    "predictions_test_lr = model_lr.predict(final_test_features)\n",
    "score_test_lr = accuracy_score(predictions_test_lr, final_test_target)\n",
    "\n",
    "print(f'Accuracy Logistic Regression: {score_test_lr.round(4)}')"
   ]
  },
  {
   "cell_type": "markdown",
   "metadata": {},
   "source": [
    "### *Вывод по разделу проверки моделей на тестовой выборке*"
   ]
  },
  {
   "cell_type": "markdown",
   "metadata": {},
   "source": [
    "- Лучший показатель точности на тестовой выборке оказался у модели `Random Forest Classifier`, и составил `0.9652`  \n",
    "- Точность `Decision Tree Classifier` на тестовой выборке составила - `0.9204`  \n",
    "- Модель `Logistic Regression` не зарекомендовала себя ни в процессе обучения, ни на тестовой выборке. Лучшая точность модели, не достигнув минимального допустимого порога, составила `0.7736` и `0.704` соответственно"
   ]
  },
  {
   "cell_type": "markdown",
   "metadata": {},
   "source": [
    "## Проверка модели на адекватность"
   ]
  },
  {
   "cell_type": "markdown",
   "metadata": {},
   "source": [
    "Проверку на вменяемость модели можно проверить, выполнив простое сравнение точности модели со случайным распределением:"
   ]
  },
  {
   "cell_type": "code",
   "execution_count": 64,
   "metadata": {
    "scrolled": true
   },
   "outputs": [
    {
     "name": "stdout",
     "output_type": "stream",
     "text": [
      "Точность модели больше 0.5 и составляет 0.9652. Модель адекватна\n"
     ]
    }
   ],
   "source": [
    "# Проверка модели Random Forest Classifier на адекватность\n",
    "\n",
    "if score_test_rfc > 0.5:\n",
    "    print(f'Точность модели больше 0.5 и составляет {score_test_rfc.round(4)}. Модель адекватна')\n",
    "else:\n",
    "    print(f'Точность модели меньше 0.5 и составляет {score_test_rfc.round(4)}. Модель неадекватна')\n",
    "    "
   ]
  },
  {
   "cell_type": "markdown",
   "metadata": {},
   "source": [
    "## *Общий вывод*"
   ]
  },
  {
   "cell_type": "markdown",
   "metadata": {},
   "source": [
    "- Для анализа были представлены мобильного оператора о поведении пользователей за месяц: количество звонков, суммарная длительность звонков в минутах, количество sms-сообщений, израсходованный интернет-трафик в Мб, каким тарифом пользовался в течение месяца.  \n",
    "- При предобработке данных был изменен тип столбцоа calls и messages на int для удобства исследования  \n",
    "- Были исследованы три модели `Decision Tree Classifier`, `Random Forest Classifier` и `Logistic Regression`  \n",
    "- Лучшую точность `0.9652` показала модель `Random Forest Classifier`с гиперпараметрами `random_state = 12345` и `n_estimators = 10`  \n",
    "- Точность моделей `Decision Tree Classifier` и `Logistic Regression` составили `0.9204` и `0.704` соответственно.\n",
    "- Адекватность модели была проверена путем сравнения с точности модели со случайным распределением (`0.5`). Модель `Random Forest Classifier` адекватна  "
   ]
  }
 ],
 "metadata": {
  "ExecuteTimeLog": [
   {
    "duration": 46,
    "start_time": "2023-03-03T15:52:10.129Z"
   },
   {
    "duration": 6,
    "start_time": "2023-03-03T15:52:13.288Z"
   },
   {
    "duration": 355,
    "start_time": "2023-03-03T15:52:28.979Z"
   },
   {
    "duration": 175,
    "start_time": "2023-03-03T15:52:29.663Z"
   },
   {
    "duration": 18,
    "start_time": "2023-03-03T15:52:30.511Z"
   },
   {
    "duration": 12,
    "start_time": "2023-03-03T15:53:17.271Z"
   },
   {
    "duration": 29,
    "start_time": "2023-03-03T15:55:17.324Z"
   },
   {
    "duration": 6,
    "start_time": "2023-03-03T15:57:00.718Z"
   },
   {
    "duration": 3,
    "start_time": "2023-03-03T15:57:34.082Z"
   },
   {
    "duration": 8,
    "start_time": "2023-03-03T15:57:37.470Z"
   },
   {
    "duration": 4,
    "start_time": "2023-03-03T15:57:48.066Z"
   },
   {
    "duration": 7,
    "start_time": "2023-03-03T15:58:25.637Z"
   },
   {
    "duration": 6,
    "start_time": "2023-03-03T15:58:29.523Z"
   },
   {
    "duration": 9,
    "start_time": "2023-03-03T15:59:07.391Z"
   },
   {
    "duration": 9,
    "start_time": "2023-03-03T15:59:10.972Z"
   },
   {
    "duration": 7,
    "start_time": "2023-03-03T16:01:53.729Z"
   },
   {
    "duration": 69,
    "start_time": "2023-03-03T16:02:03.620Z"
   },
   {
    "duration": 7,
    "start_time": "2023-03-03T16:02:08.183Z"
   },
   {
    "duration": 6,
    "start_time": "2023-03-03T16:02:19.330Z"
   },
   {
    "duration": 3,
    "start_time": "2023-03-03T16:02:47.670Z"
   },
   {
    "duration": 4,
    "start_time": "2023-03-03T16:02:58.359Z"
   },
   {
    "duration": 3,
    "start_time": "2023-03-03T16:04:39.519Z"
   },
   {
    "duration": 23,
    "start_time": "2023-03-03T16:05:08.094Z"
   },
   {
    "duration": 11,
    "start_time": "2023-03-03T16:05:25.588Z"
   },
   {
    "duration": 11,
    "start_time": "2023-03-03T16:05:55.770Z"
   },
   {
    "duration": 70,
    "start_time": "2023-03-03T16:08:17.040Z"
   },
   {
    "duration": 13,
    "start_time": "2023-03-03T16:09:09.907Z"
   },
   {
    "duration": 10,
    "start_time": "2023-03-03T16:09:38.091Z"
   },
   {
    "duration": 13,
    "start_time": "2023-03-03T16:10:01.785Z"
   },
   {
    "duration": 12,
    "start_time": "2023-03-03T16:32:37.030Z"
   },
   {
    "duration": 13,
    "start_time": "2023-03-03T16:32:42.939Z"
   },
   {
    "duration": 13,
    "start_time": "2023-03-03T16:32:47.207Z"
   },
   {
    "duration": 669,
    "start_time": "2023-03-03T16:37:19.170Z"
   },
   {
    "duration": 45,
    "start_time": "2023-03-03T16:39:08.442Z"
   },
   {
    "duration": 6,
    "start_time": "2023-03-03T16:39:18.385Z"
   },
   {
    "duration": 52,
    "start_time": "2023-03-03T16:42:11.125Z"
   },
   {
    "duration": 12,
    "start_time": "2023-03-03T16:42:40.342Z"
   },
   {
    "duration": 3,
    "start_time": "2023-03-03T16:43:14.774Z"
   },
   {
    "duration": 3,
    "start_time": "2023-03-03T16:43:17.173Z"
   },
   {
    "duration": 6,
    "start_time": "2023-03-03T16:56:59.483Z"
   },
   {
    "duration": 5,
    "start_time": "2023-03-03T16:57:12.437Z"
   },
   {
    "duration": 11,
    "start_time": "2023-03-03T16:57:12.885Z"
   },
   {
    "duration": 5,
    "start_time": "2023-03-03T17:03:38.261Z"
   },
   {
    "duration": 9,
    "start_time": "2023-03-03T17:03:46.170Z"
   },
   {
    "duration": 5,
    "start_time": "2023-03-03T17:09:46.178Z"
   },
   {
    "duration": 11,
    "start_time": "2023-03-03T17:10:02.391Z"
   },
   {
    "duration": 5,
    "start_time": "2023-03-03T17:10:40.431Z"
   },
   {
    "duration": 10,
    "start_time": "2023-03-03T17:12:50.282Z"
   },
   {
    "duration": 11,
    "start_time": "2023-03-03T17:13:31.982Z"
   },
   {
    "duration": 10,
    "start_time": "2023-03-03T17:13:34.190Z"
   },
   {
    "duration": 13,
    "start_time": "2023-03-03T17:15:20.005Z"
   },
   {
    "duration": 10,
    "start_time": "2023-03-03T17:15:37.840Z"
   },
   {
    "duration": 4,
    "start_time": "2023-03-03T17:15:41.866Z"
   },
   {
    "duration": 5,
    "start_time": "2023-03-03T17:16:14.196Z"
   },
   {
    "duration": 15,
    "start_time": "2023-03-03T17:24:01.900Z"
   },
   {
    "duration": 7,
    "start_time": "2023-03-03T17:24:12.327Z"
   },
   {
    "duration": 6,
    "start_time": "2023-03-03T17:31:05.085Z"
   },
   {
    "duration": 11,
    "start_time": "2023-03-03T17:31:47.021Z"
   },
   {
    "duration": 7,
    "start_time": "2023-03-03T17:32:19.235Z"
   },
   {
    "duration": 7,
    "start_time": "2023-03-03T17:33:45.474Z"
   },
   {
    "duration": 6,
    "start_time": "2023-03-03T17:34:00.881Z"
   },
   {
    "duration": 5,
    "start_time": "2023-03-03T17:34:07.029Z"
   },
   {
    "duration": 13,
    "start_time": "2023-03-03T17:34:27.713Z"
   },
   {
    "duration": 5,
    "start_time": "2023-03-03T17:41:46.271Z"
   },
   {
    "duration": 9,
    "start_time": "2023-03-03T17:41:47.397Z"
   },
   {
    "duration": 6,
    "start_time": "2023-03-03T17:43:52.330Z"
   },
   {
    "duration": 12,
    "start_time": "2023-03-03T17:43:55.505Z"
   },
   {
    "duration": 3,
    "start_time": "2023-03-03T17:43:59.876Z"
   },
   {
    "duration": 10,
    "start_time": "2023-03-03T17:44:32.962Z"
   },
   {
    "duration": 4,
    "start_time": "2023-03-03T17:45:37.708Z"
   },
   {
    "duration": 23,
    "start_time": "2023-03-03T17:45:42.212Z"
   },
   {
    "duration": 5,
    "start_time": "2023-03-03T17:46:48.458Z"
   },
   {
    "duration": 7,
    "start_time": "2023-03-03T17:46:50.227Z"
   },
   {
    "duration": 15,
    "start_time": "2023-03-03T17:48:31.561Z"
   },
   {
    "duration": 22,
    "start_time": "2023-03-03T17:48:58.101Z"
   },
   {
    "duration": 3,
    "start_time": "2023-03-03T17:49:02.758Z"
   },
   {
    "duration": 14,
    "start_time": "2023-03-03T17:49:05.767Z"
   },
   {
    "duration": 17,
    "start_time": "2023-03-03T17:53:02.065Z"
   },
   {
    "duration": 10,
    "start_time": "2023-03-03T17:58:48.336Z"
   },
   {
    "duration": 15,
    "start_time": "2023-03-03T17:59:11.130Z"
   },
   {
    "duration": 130,
    "start_time": "2023-03-03T17:59:35.593Z"
   },
   {
    "duration": 146,
    "start_time": "2023-03-03T17:59:59.074Z"
   },
   {
    "duration": 22,
    "start_time": "2023-03-03T18:04:30.378Z"
   },
   {
    "duration": 107,
    "start_time": "2023-03-03T18:04:49.703Z"
   },
   {
    "duration": 106,
    "start_time": "2023-03-03T18:08:01.329Z"
   },
   {
    "duration": 108,
    "start_time": "2023-03-03T18:09:39.965Z"
   },
   {
    "duration": 119,
    "start_time": "2023-03-03T18:10:01.133Z"
   },
   {
    "duration": 111,
    "start_time": "2023-03-03T18:10:20.258Z"
   },
   {
    "duration": 104,
    "start_time": "2023-03-03T18:10:39.394Z"
   },
   {
    "duration": 5,
    "start_time": "2023-03-03T18:11:29.254Z"
   },
   {
    "duration": 108,
    "start_time": "2023-03-03T18:11:31.083Z"
   },
   {
    "duration": 3,
    "start_time": "2023-03-03T18:14:15.762Z"
   },
   {
    "duration": 16,
    "start_time": "2023-03-03T18:18:43.808Z"
   },
   {
    "duration": 5,
    "start_time": "2023-03-03T18:18:57.713Z"
   },
   {
    "duration": 10,
    "start_time": "2023-03-03T18:19:02.169Z"
   },
   {
    "duration": 3,
    "start_time": "2023-03-03T18:19:51.106Z"
   },
   {
    "duration": 15,
    "start_time": "2023-03-03T18:19:55.405Z"
   },
   {
    "duration": 107,
    "start_time": "2023-03-03T18:22:39.260Z"
   },
   {
    "duration": 11,
    "start_time": "2023-03-03T18:24:22.244Z"
   },
   {
    "duration": 40,
    "start_time": "2023-03-03T18:24:32.902Z"
   },
   {
    "duration": 47,
    "start_time": "2023-03-03T18:25:04.365Z"
   },
   {
    "duration": 422,
    "start_time": "2023-03-03T18:30:28.573Z"
   },
   {
    "duration": 215,
    "start_time": "2023-03-03T18:31:51.772Z"
   },
   {
    "duration": 402,
    "start_time": "2023-03-03T18:32:00.269Z"
   },
   {
    "duration": 1479,
    "start_time": "2023-03-03T18:32:08.977Z"
   },
   {
    "duration": 374,
    "start_time": "2023-03-03T18:32:18.173Z"
   },
   {
    "duration": 118,
    "start_time": "2023-03-03T19:07:29.976Z"
   },
   {
    "duration": 423,
    "start_time": "2023-03-03T19:07:34.594Z"
   },
   {
    "duration": 407,
    "start_time": "2023-03-03T19:07:48.291Z"
   },
   {
    "duration": 2497,
    "start_time": "2023-03-03T19:21:30.437Z"
   },
   {
    "duration": 2036,
    "start_time": "2023-03-03T19:21:52.206Z"
   },
   {
    "duration": 1714,
    "start_time": "2023-03-03T19:22:07.840Z"
   },
   {
    "duration": 1463,
    "start_time": "2023-03-03T19:22:17.373Z"
   },
   {
    "duration": 2599,
    "start_time": "2023-03-03T19:34:12.239Z"
   },
   {
    "duration": 2212,
    "start_time": "2023-03-03T19:34:47.530Z"
   },
   {
    "duration": 1521,
    "start_time": "2023-03-03T19:34:53.098Z"
   },
   {
    "duration": 1384,
    "start_time": "2023-03-03T19:34:58.043Z"
   },
   {
    "duration": 1911,
    "start_time": "2023-03-03T19:35:17.438Z"
   },
   {
    "duration": 425,
    "start_time": "2023-03-03T19:48:33.582Z"
   },
   {
    "duration": 91,
    "start_time": "2023-03-03T19:49:36.583Z"
   },
   {
    "duration": 8,
    "start_time": "2023-03-03T19:51:56.092Z"
   },
   {
    "duration": 114,
    "start_time": "2023-03-03T19:52:00.475Z"
   },
   {
    "duration": 91,
    "start_time": "2023-03-03T19:52:52.687Z"
   },
   {
    "duration": 74,
    "start_time": "2023-03-03T19:53:14.063Z"
   },
   {
    "duration": 4,
    "start_time": "2023-03-03T19:55:50.771Z"
   },
   {
    "duration": 72,
    "start_time": "2023-03-03T19:55:50.777Z"
   },
   {
    "duration": 11,
    "start_time": "2023-03-03T19:55:50.850Z"
   },
   {
    "duration": 18,
    "start_time": "2023-03-03T19:55:50.864Z"
   },
   {
    "duration": 8,
    "start_time": "2023-03-03T19:55:50.885Z"
   },
   {
    "duration": 18,
    "start_time": "2023-03-03T19:55:50.895Z"
   },
   {
    "duration": 13,
    "start_time": "2023-03-03T19:55:50.915Z"
   },
   {
    "duration": 45,
    "start_time": "2023-03-03T19:55:50.934Z"
   },
   {
    "duration": 7,
    "start_time": "2023-03-03T19:55:50.981Z"
   },
   {
    "duration": 10,
    "start_time": "2023-03-03T19:55:50.990Z"
   },
   {
    "duration": 19,
    "start_time": "2023-03-03T19:55:51.002Z"
   },
   {
    "duration": 151,
    "start_time": "2023-03-03T19:55:51.023Z"
   },
   {
    "duration": 468,
    "start_time": "2023-03-03T19:55:51.176Z"
   },
   {
    "duration": 1396,
    "start_time": "2023-03-03T19:55:51.647Z"
   },
   {
    "duration": 140,
    "start_time": "2023-03-03T19:55:53.113Z"
   },
   {
    "duration": 66,
    "start_time": "2023-03-03T20:02:46.945Z"
   },
   {
    "duration": 15,
    "start_time": "2023-03-03T20:10:04.609Z"
   },
   {
    "duration": 14,
    "start_time": "2023-03-03T20:10:26.169Z"
   },
   {
    "duration": 6,
    "start_time": "2023-03-03T20:11:03.191Z"
   },
   {
    "duration": 9,
    "start_time": "2023-03-03T20:11:16.035Z"
   },
   {
    "duration": 18,
    "start_time": "2023-03-03T20:12:34.934Z"
   },
   {
    "duration": 17,
    "start_time": "2023-03-03T20:13:41.467Z"
   },
   {
    "duration": 11,
    "start_time": "2023-03-03T20:14:06.544Z"
   },
   {
    "duration": 148,
    "start_time": "2023-03-03T20:15:02.278Z"
   },
   {
    "duration": 16,
    "start_time": "2023-03-03T20:15:30.585Z"
   },
   {
    "duration": 15,
    "start_time": "2023-03-03T20:15:44.804Z"
   },
   {
    "duration": 6,
    "start_time": "2023-03-03T20:17:23.258Z"
   },
   {
    "duration": 10,
    "start_time": "2023-03-03T20:19:28.802Z"
   },
   {
    "duration": 14,
    "start_time": "2023-03-03T20:20:11.142Z"
   },
   {
    "duration": 10,
    "start_time": "2023-03-03T20:20:18.586Z"
   },
   {
    "duration": 449,
    "start_time": "2023-03-03T20:21:03.954Z"
   },
   {
    "duration": 33,
    "start_time": "2023-03-03T20:21:23.304Z"
   },
   {
    "duration": 9,
    "start_time": "2023-03-03T20:21:38.079Z"
   },
   {
    "duration": 27,
    "start_time": "2023-03-03T20:21:39.255Z"
   },
   {
    "duration": 12,
    "start_time": "2023-03-03T20:22:03.752Z"
   },
   {
    "duration": 32,
    "start_time": "2023-03-03T20:22:05.481Z"
   },
   {
    "duration": 15,
    "start_time": "2023-03-03T20:27:21.670Z"
   },
   {
    "duration": 22,
    "start_time": "2023-03-03T20:28:03.261Z"
   },
   {
    "duration": 9,
    "start_time": "2023-03-03T20:32:27.648Z"
   },
   {
    "duration": 29,
    "start_time": "2023-03-03T20:32:29.353Z"
   },
   {
    "duration": 25,
    "start_time": "2023-03-03T20:32:32.045Z"
   },
   {
    "duration": 16,
    "start_time": "2023-03-03T20:33:02.661Z"
   },
   {
    "duration": 3,
    "start_time": "2023-03-03T20:34:15.373Z"
   },
   {
    "duration": 20,
    "start_time": "2023-03-03T20:34:23.804Z"
   },
   {
    "duration": 30,
    "start_time": "2023-03-03T20:34:25.561Z"
   },
   {
    "duration": 4,
    "start_time": "2023-03-03T20:34:27.356Z"
   },
   {
    "duration": 23,
    "start_time": "2023-03-03T20:34:37.063Z"
   },
   {
    "duration": 3,
    "start_time": "2023-03-03T20:34:38.810Z"
   },
   {
    "duration": 199,
    "start_time": "2023-03-03T20:35:49.995Z"
   },
   {
    "duration": 152,
    "start_time": "2023-03-03T20:35:59.272Z"
   },
   {
    "duration": 522,
    "start_time": "2023-03-03T20:36:29.464Z"
   },
   {
    "duration": 17,
    "start_time": "2023-03-03T20:36:52.764Z"
   },
   {
    "duration": 43,
    "start_time": "2023-03-03T20:36:54.468Z"
   },
   {
    "duration": 20,
    "start_time": "2023-03-03T20:36:58.944Z"
   },
   {
    "duration": 11,
    "start_time": "2023-03-03T20:37:47.572Z"
   },
   {
    "duration": 30,
    "start_time": "2023-03-03T20:38:59.074Z"
   },
   {
    "duration": 8,
    "start_time": "2023-03-03T20:39:01.365Z"
   },
   {
    "duration": 11,
    "start_time": "2023-03-03T20:40:05.290Z"
   },
   {
    "duration": 27,
    "start_time": "2023-03-03T20:40:07.273Z"
   },
   {
    "duration": 4,
    "start_time": "2023-03-03T20:40:10.068Z"
   },
   {
    "duration": 1262,
    "start_time": "2023-03-03T20:40:46.235Z"
   },
   {
    "duration": 52,
    "start_time": "2023-03-03T20:40:47.498Z"
   },
   {
    "duration": 22,
    "start_time": "2023-03-03T20:40:47.551Z"
   },
   {
    "duration": 14,
    "start_time": "2023-03-03T20:40:47.574Z"
   },
   {
    "duration": 6,
    "start_time": "2023-03-03T20:40:47.590Z"
   },
   {
    "duration": 24,
    "start_time": "2023-03-03T20:40:47.598Z"
   },
   {
    "duration": 7,
    "start_time": "2023-03-03T20:40:47.624Z"
   },
   {
    "duration": 62,
    "start_time": "2023-03-03T20:40:47.632Z"
   },
   {
    "duration": 6,
    "start_time": "2023-03-03T20:40:47.696Z"
   },
   {
    "duration": 6,
    "start_time": "2023-03-03T20:40:47.704Z"
   },
   {
    "duration": 59,
    "start_time": "2023-03-03T20:40:47.712Z"
   },
   {
    "duration": 154,
    "start_time": "2023-03-03T20:40:47.773Z"
   },
   {
    "duration": 472,
    "start_time": "2023-03-03T20:40:47.936Z"
   },
   {
    "duration": 2441,
    "start_time": "2023-03-03T20:40:48.410Z"
   },
   {
    "duration": 5,
    "start_time": "2023-03-03T20:40:50.853Z"
   },
   {
    "duration": 66,
    "start_time": "2023-03-03T20:40:50.916Z"
   },
   {
    "duration": 58,
    "start_time": "2023-03-03T20:40:50.984Z"
   },
   {
    "duration": 23,
    "start_time": "2023-03-03T20:40:51.050Z"
   },
   {
    "duration": 17,
    "start_time": "2023-03-03T20:40:51.075Z"
   },
   {
    "duration": 18,
    "start_time": "2023-03-03T20:42:03.011Z"
   },
   {
    "duration": 18,
    "start_time": "2023-03-03T20:42:34.433Z"
   },
   {
    "duration": 6,
    "start_time": "2023-03-03T20:44:53.136Z"
   },
   {
    "duration": 5,
    "start_time": "2023-03-03T20:45:10.898Z"
   },
   {
    "duration": 9,
    "start_time": "2023-03-03T20:45:17.214Z"
   },
   {
    "duration": 6,
    "start_time": "2023-03-03T20:49:04.193Z"
   },
   {
    "duration": 11,
    "start_time": "2023-03-03T20:49:06.841Z"
   },
   {
    "duration": 11,
    "start_time": "2023-03-03T20:49:08.789Z"
   },
   {
    "duration": 12,
    "start_time": "2023-03-03T20:51:37.879Z"
   },
   {
    "duration": 12,
    "start_time": "2023-03-03T20:51:40.889Z"
   },
   {
    "duration": 4,
    "start_time": "2023-03-03T20:52:02.982Z"
   },
   {
    "duration": 9,
    "start_time": "2023-03-03T20:52:12.063Z"
   },
   {
    "duration": 46,
    "start_time": "2023-03-03T20:52:14.205Z"
   },
   {
    "duration": 121,
    "start_time": "2023-03-03T21:10:29.168Z"
   },
   {
    "duration": 7,
    "start_time": "2023-03-03T21:11:03.943Z"
   },
   {
    "duration": 6,
    "start_time": "2023-03-03T21:11:08.409Z"
   },
   {
    "duration": 10,
    "start_time": "2023-03-03T21:13:57.007Z"
   },
   {
    "duration": 16,
    "start_time": "2023-03-03T21:15:20.901Z"
   },
   {
    "duration": 9,
    "start_time": "2023-03-03T21:16:58.448Z"
   },
   {
    "duration": 8,
    "start_time": "2023-03-03T21:17:10.461Z"
   },
   {
    "duration": 7,
    "start_time": "2023-03-03T21:17:11.980Z"
   },
   {
    "duration": 17,
    "start_time": "2023-03-03T21:29:08.708Z"
   },
   {
    "duration": 12,
    "start_time": "2023-03-03T21:29:36.072Z"
   },
   {
    "duration": 11,
    "start_time": "2023-03-03T21:30:00.261Z"
   },
   {
    "duration": 10,
    "start_time": "2023-03-03T21:30:16.115Z"
   },
   {
    "duration": 6,
    "start_time": "2023-03-03T21:30:51.056Z"
   },
   {
    "duration": 8,
    "start_time": "2023-03-03T21:31:23.743Z"
   },
   {
    "duration": 3,
    "start_time": "2023-03-03T21:34:36.487Z"
   },
   {
    "duration": 21,
    "start_time": "2023-03-03T21:36:12.841Z"
   },
   {
    "duration": 10,
    "start_time": "2023-03-03T21:37:45.855Z"
   },
   {
    "duration": 36,
    "start_time": "2023-03-03T21:38:00.843Z"
   },
   {
    "duration": 31,
    "start_time": "2023-03-03T21:38:40.591Z"
   },
   {
    "duration": 34,
    "start_time": "2023-03-03T21:44:33.904Z"
   },
   {
    "duration": 4,
    "start_time": "2023-03-03T21:44:47.152Z"
   },
   {
    "duration": 33,
    "start_time": "2023-03-03T21:45:12.498Z"
   },
   {
    "duration": 17,
    "start_time": "2023-03-03T21:45:44.658Z"
   },
   {
    "duration": 7,
    "start_time": "2023-03-03T21:49:33.534Z"
   },
   {
    "duration": 4,
    "start_time": "2023-03-03T21:50:16.276Z"
   },
   {
    "duration": 3,
    "start_time": "2023-03-03T21:50:59.673Z"
   },
   {
    "duration": 3,
    "start_time": "2023-03-03T22:00:21.509Z"
   },
   {
    "duration": 2,
    "start_time": "2023-03-03T22:16:55.764Z"
   },
   {
    "duration": 112,
    "start_time": "2023-03-03T22:27:43.113Z"
   },
   {
    "duration": 5,
    "start_time": "2023-03-03T22:28:46.378Z"
   },
   {
    "duration": 135,
    "start_time": "2023-03-03T22:35:32.917Z"
   },
   {
    "duration": 126,
    "start_time": "2023-03-03T22:35:47.114Z"
   },
   {
    "duration": 435,
    "start_time": "2023-03-03T22:38:11.860Z"
   },
   {
    "duration": 2902,
    "start_time": "2023-03-03T22:39:37.045Z"
   },
   {
    "duration": 1780,
    "start_time": "2023-03-03T22:41:20.846Z"
   },
   {
    "duration": 940,
    "start_time": "2023-03-03T22:42:34.716Z"
   },
   {
    "duration": 13,
    "start_time": "2023-03-03T22:43:40.941Z"
   },
   {
    "duration": 22,
    "start_time": "2023-03-03T22:47:01.842Z"
   },
   {
    "duration": 30,
    "start_time": "2023-03-03T22:47:04.345Z"
   },
   {
    "duration": 10,
    "start_time": "2023-03-03T22:47:07.747Z"
   },
   {
    "duration": 2264,
    "start_time": "2023-03-03T22:50:25.977Z"
   },
   {
    "duration": 2665,
    "start_time": "2023-03-03T22:51:12.868Z"
   },
   {
    "duration": 13,
    "start_time": "2023-03-03T22:51:31.342Z"
   },
   {
    "duration": 28,
    "start_time": "2023-03-03T22:51:54.152Z"
   },
   {
    "duration": 16,
    "start_time": "2023-03-03T22:51:55.771Z"
   },
   {
    "duration": 4,
    "start_time": "2023-03-03T22:52:15.386Z"
   },
   {
    "duration": 111,
    "start_time": "2023-03-03T22:54:36.771Z"
   },
   {
    "duration": 413,
    "start_time": "2023-03-03T22:54:49.154Z"
   },
   {
    "duration": 1476,
    "start_time": "2023-03-03T22:54:57.868Z"
   },
   {
    "duration": 4,
    "start_time": "2023-03-03T22:56:33.894Z"
   },
   {
    "duration": 2033,
    "start_time": "2023-03-03T23:05:45.782Z"
   },
   {
    "duration": 3,
    "start_time": "2023-03-03T23:07:16.796Z"
   },
   {
    "duration": 57,
    "start_time": "2023-03-03T23:07:16.801Z"
   },
   {
    "duration": 10,
    "start_time": "2023-03-03T23:07:16.859Z"
   },
   {
    "duration": 11,
    "start_time": "2023-03-03T23:07:16.871Z"
   },
   {
    "duration": 4,
    "start_time": "2023-03-03T23:07:16.884Z"
   },
   {
    "duration": 11,
    "start_time": "2023-03-03T23:07:16.889Z"
   },
   {
    "duration": 4,
    "start_time": "2023-03-03T23:07:16.902Z"
   },
   {
    "duration": 17,
    "start_time": "2023-03-03T23:07:16.908Z"
   },
   {
    "duration": 18,
    "start_time": "2023-03-03T23:07:16.933Z"
   },
   {
    "duration": 6,
    "start_time": "2023-03-03T23:07:16.953Z"
   },
   {
    "duration": 12,
    "start_time": "2023-03-03T23:07:16.960Z"
   },
   {
    "duration": 102,
    "start_time": "2023-03-03T23:07:16.973Z"
   },
   {
    "duration": 415,
    "start_time": "2023-03-03T23:07:17.077Z"
   },
   {
    "duration": 1928,
    "start_time": "2023-03-03T23:07:17.494Z"
   },
   {
    "duration": 9,
    "start_time": "2023-03-03T23:07:19.424Z"
   },
   {
    "duration": 116,
    "start_time": "2023-03-03T23:07:19.434Z"
   },
   {
    "duration": 40,
    "start_time": "2023-03-03T23:07:19.552Z"
   },
   {
    "duration": 22,
    "start_time": "2023-03-03T23:07:19.593Z"
   },
   {
    "duration": 20,
    "start_time": "2023-03-03T23:07:19.624Z"
   },
   {
    "duration": 11,
    "start_time": "2023-03-03T23:08:44.169Z"
   },
   {
    "duration": 4,
    "start_time": "2023-03-03T23:12:56.409Z"
   },
   {
    "duration": 5,
    "start_time": "2023-03-03T23:13:40.146Z"
   },
   {
    "duration": 1236,
    "start_time": "2023-03-03T23:14:45.664Z"
   },
   {
    "duration": 53,
    "start_time": "2023-03-03T23:14:46.902Z"
   },
   {
    "duration": 15,
    "start_time": "2023-03-03T23:14:46.957Z"
   },
   {
    "duration": 12,
    "start_time": "2023-03-03T23:14:46.974Z"
   },
   {
    "duration": 5,
    "start_time": "2023-03-03T23:14:46.989Z"
   },
   {
    "duration": 11,
    "start_time": "2023-03-03T23:14:46.996Z"
   },
   {
    "duration": 4,
    "start_time": "2023-03-03T23:14:47.009Z"
   },
   {
    "duration": 32,
    "start_time": "2023-03-03T23:14:47.024Z"
   },
   {
    "duration": 5,
    "start_time": "2023-03-03T23:14:47.057Z"
   },
   {
    "duration": 9,
    "start_time": "2023-03-03T23:14:47.063Z"
   },
   {
    "duration": 8,
    "start_time": "2023-03-03T23:14:47.074Z"
   },
   {
    "duration": 101,
    "start_time": "2023-03-03T23:14:47.084Z"
   },
   {
    "duration": 409,
    "start_time": "2023-03-03T23:14:47.187Z"
   },
   {
    "duration": 759,
    "start_time": "2023-03-03T23:14:47.598Z"
   },
   {
    "duration": 92,
    "start_time": "2023-03-03T23:14:48.434Z"
   },
   {
    "duration": 27,
    "start_time": "2023-03-03T23:14:48.528Z"
   },
   {
    "duration": 24,
    "start_time": "2023-03-03T23:14:48.556Z"
   },
   {
    "duration": 15,
    "start_time": "2023-03-03T23:14:48.582Z"
   },
   {
    "duration": 4,
    "start_time": "2023-03-03T23:14:48.598Z"
   },
   {
    "duration": 1547,
    "start_time": "2023-03-03T23:18:16.052Z"
   },
   {
    "duration": 0,
    "start_time": "2023-03-03T23:18:17.601Z"
   },
   {
    "duration": 2656,
    "start_time": "2023-03-03T23:20:02.151Z"
   },
   {
    "duration": 4,
    "start_time": "2023-03-03T23:20:17.015Z"
   },
   {
    "duration": 59,
    "start_time": "2023-03-03T23:20:17.021Z"
   },
   {
    "duration": 8,
    "start_time": "2023-03-03T23:20:17.082Z"
   },
   {
    "duration": 12,
    "start_time": "2023-03-03T23:20:17.092Z"
   },
   {
    "duration": 12,
    "start_time": "2023-03-03T23:20:17.106Z"
   },
   {
    "duration": 40,
    "start_time": "2023-03-03T23:20:17.119Z"
   },
   {
    "duration": 4,
    "start_time": "2023-03-03T23:20:17.161Z"
   },
   {
    "duration": 13,
    "start_time": "2023-03-03T23:20:17.166Z"
   },
   {
    "duration": 5,
    "start_time": "2023-03-03T23:20:17.180Z"
   },
   {
    "duration": 4,
    "start_time": "2023-03-03T23:20:17.187Z"
   },
   {
    "duration": 11,
    "start_time": "2023-03-03T23:20:17.193Z"
   },
   {
    "duration": 102,
    "start_time": "2023-03-03T23:20:17.206Z"
   },
   {
    "duration": 422,
    "start_time": "2023-03-03T23:20:17.317Z"
   },
   {
    "duration": 2603,
    "start_time": "2023-03-03T23:20:17.747Z"
   },
   {
    "duration": 70,
    "start_time": "2023-03-03T23:20:20.354Z"
   },
   {
    "duration": 38,
    "start_time": "2023-03-03T23:20:20.428Z"
   },
   {
    "duration": 26,
    "start_time": "2023-03-03T23:20:20.467Z"
   },
   {
    "duration": 15,
    "start_time": "2023-03-03T23:20:20.495Z"
   },
   {
    "duration": 9,
    "start_time": "2023-03-03T23:20:20.511Z"
   },
   {
    "duration": 5,
    "start_time": "2023-03-03T23:21:38.894Z"
   },
   {
    "duration": 10,
    "start_time": "2023-03-03T23:21:48.352Z"
   },
   {
    "duration": 4,
    "start_time": "2023-03-03T23:22:55.554Z"
   },
   {
    "duration": 5,
    "start_time": "2023-03-03T23:22:58.403Z"
   },
   {
    "duration": 3,
    "start_time": "2023-03-03T23:24:56.871Z"
   },
   {
    "duration": 47,
    "start_time": "2023-03-03T23:24:56.876Z"
   },
   {
    "duration": 13,
    "start_time": "2023-03-03T23:24:56.927Z"
   },
   {
    "duration": 17,
    "start_time": "2023-03-03T23:24:56.942Z"
   },
   {
    "duration": 5,
    "start_time": "2023-03-03T23:24:56.961Z"
   },
   {
    "duration": 13,
    "start_time": "2023-03-03T23:24:56.967Z"
   },
   {
    "duration": 9,
    "start_time": "2023-03-03T23:24:56.981Z"
   },
   {
    "duration": 8,
    "start_time": "2023-03-03T23:24:56.992Z"
   },
   {
    "duration": 22,
    "start_time": "2023-03-03T23:24:57.001Z"
   },
   {
    "duration": 25,
    "start_time": "2023-03-03T23:24:57.024Z"
   },
   {
    "duration": 5,
    "start_time": "2023-03-03T23:24:57.051Z"
   },
   {
    "duration": 5,
    "start_time": "2023-03-03T23:24:57.057Z"
   },
   {
    "duration": 103,
    "start_time": "2023-03-03T23:24:57.064Z"
   },
   {
    "duration": 426,
    "start_time": "2023-03-03T23:24:57.169Z"
   },
   {
    "duration": 1932,
    "start_time": "2023-03-03T23:24:57.597Z"
   },
   {
    "duration": 6,
    "start_time": "2023-03-03T23:24:59.531Z"
   },
   {
    "duration": 123,
    "start_time": "2023-03-03T23:24:59.539Z"
   },
   {
    "duration": 31,
    "start_time": "2023-03-03T23:24:59.664Z"
   },
   {
    "duration": 16,
    "start_time": "2023-03-03T23:24:59.697Z"
   },
   {
    "duration": 41,
    "start_time": "2023-03-03T23:24:59.718Z"
   },
   {
    "duration": 504,
    "start_time": "2023-03-06T16:03:31.953Z"
   }
  ],
  "kernelspec": {
   "display_name": "Python 3 (ipykernel)",
   "language": "python",
   "name": "python3"
  },
  "language_info": {
   "codemirror_mode": {
    "name": "ipython",
    "version": 3
   },
   "file_extension": ".py",
   "mimetype": "text/x-python",
   "name": "python",
   "nbconvert_exporter": "python",
   "pygments_lexer": "ipython3",
   "version": "3.9.13"
  },
  "toc": {
   "base_numbering": 1,
   "nav_menu": {},
   "number_sections": true,
   "sideBar": true,
   "skip_h1_title": true,
   "title_cell": "Table of Contents",
   "title_sidebar": "Contents",
   "toc_cell": true,
   "toc_position": {},
   "toc_section_display": true,
   "toc_window_display": true
  }
 },
 "nbformat": 4,
 "nbformat_minor": 2
}
