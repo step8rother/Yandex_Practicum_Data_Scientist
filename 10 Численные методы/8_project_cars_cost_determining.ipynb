{
 "cells": [
  {
   "cell_type": "markdown",
   "metadata": {},
   "source": [
    "# Определение стоимости автомобилей"
   ]
  },
  {
   "cell_type": "markdown",
   "metadata": {},
   "source": [
    "Сервис по продаже автомобилей с пробегом «Не бит, не крашен» разрабатывает приложение для привлечения новых клиентов. В нём можно быстро узнать рыночную стоимость своего автомобиля. В вашем распоряжении исторические данные: технические характеристики, комплектации и цены автомобилей. Вам нужно построить модель для определения стоимости. \n",
    "\n",
    "Заказчику важны:\n",
    "\n",
    "- качество предсказания;\n",
    "- скорость предсказания;\n",
    "- время обучения."
   ]
  },
  {
   "cell_type": "markdown",
   "metadata": {},
   "source": [
    "План работы:  \n",
    "1. Загрузка и подготовка данных\n",
    "2. Обучение моделей\n",
    " - Бустинг модели\n",
    " - Не бустинг модели\n",
    "3. Анализ моделей\n",
    "4. Вывод"
   ]
  },
  {
   "cell_type": "markdown",
   "metadata": {},
   "source": [
    "## Подготовка данных"
   ]
  },
  {
   "cell_type": "markdown",
   "metadata": {},
   "source": [
    "### Импорт библиотек и данных, первичный просмотр"
   ]
  },
  {
   "cell_type": "code",
   "execution_count": 132,
   "metadata": {
    "scrolled": true
   },
   "outputs": [],
   "source": [
    "# !pip install catboost\n",
    "# !pip install lightgbm\n",
    "# !pip install ydata_profiling\n",
    "# !pip install category_encoders"
   ]
  },
  {
   "cell_type": "code",
   "execution_count": 133,
   "metadata": {},
   "outputs": [],
   "source": [
    "import pandas as pd \n",
    "import numpy as np \n",
    "import seaborn as sns\n",
    "import matplotlib.pyplot as plt\n",
    "\n",
    "from ydata_profiling import ProfileReport\n",
    "from sklearn.metrics import mean_squared_error as mse\n",
    "\n",
    "from category_encoders import TargetEncoder #для категориальных\n",
    "from sklearn.preprocessing import StandardScaler #для числовых\n",
    "\n",
    "from sklearn.model_selection import(\n",
    "    train_test_split, cross_val_score, RandomizedSearchCV, GridSearchCV)\n",
    "\n",
    "from sklearn.linear_model import LinearRegression\n",
    "from sklearn.tree import DecisionTreeRegressor\n",
    "from catboost import CatBoostRegressor\n",
    "from lightgbm import LGBMRegressor\n",
    "\n",
    "import warnings\n",
    "warnings.filterwarnings('ignore')\n",
    "rs = 112263"
   ]
  },
  {
   "cell_type": "code",
   "execution_count": 134,
   "metadata": {},
   "outputs": [],
   "source": [
    "try:\n",
    "    data = pd.read_csv('autos.csv')    \n",
    "except:\n",
    "    data = pd.read_csv('https://code.s3.yandex.net/datasets/autos.csv')"
   ]
  },
  {
   "cell_type": "code",
   "execution_count": 135,
   "metadata": {},
   "outputs": [],
   "source": [
    "df_raw = data.copy()"
   ]
  },
  {
   "cell_type": "code",
   "execution_count": 136,
   "metadata": {
    "scrolled": false
   },
   "outputs": [],
   "source": [
    "# ProfileReport(data)"
   ]
  },
  {
   "cell_type": "markdown",
   "metadata": {},
   "source": [
    "### Предобработка данных"
   ]
  },
  {
   "cell_type": "code",
   "execution_count": 137,
   "metadata": {},
   "outputs": [
    {
     "data": {
      "text/plain": [
       "Index(['date_crawled', 'price', 'vehicle_type', 'registration_year', 'gearbox',\n",
       "       'power', 'model', 'kilometer', 'registration_month', 'fuel_type',\n",
       "       'brand', 'repaired', 'date_created', 'number_of_pictures',\n",
       "       'postal_code', 'last_seen'],\n",
       "      dtype='object')"
      ]
     },
     "execution_count": 137,
     "metadata": {},
     "output_type": "execute_result"
    }
   ],
   "source": [
    "# Приведение названий столбцов в убобный для анализа вид\n",
    "data.columns = data.columns.str.replace(r\"([A-Z])\", r\" \\1\").str.lower().str.replace(' ', '_').str[1:]\n",
    "data.columns"
   ]
  },
  {
   "cell_type": "code",
   "execution_count": 138,
   "metadata": {},
   "outputs": [],
   "source": [
    "# Дроп значений, не влияющих на целевой показатель\n",
    "\n",
    "data.drop(columns=['date_crawled', 'date_created', 'number_of_pictures',\n",
    "                    'postal_code', 'last_seen', 'registration_month'], axis=1, inplace=True)"
   ]
  },
  {
   "cell_type": "code",
   "execution_count": 139,
   "metadata": {},
   "outputs": [],
   "source": [
    "data.drop_duplicates(inplace=True)"
   ]
  },
  {
   "cell_type": "code",
   "execution_count": 140,
   "metadata": {
    "scrolled": true
   },
   "outputs": [
    {
     "name": "stdout",
     "output_type": "stream",
     "text": [
      "Сумма дупликатов 4\n"
     ]
    },
    {
     "data": {
      "text/html": [
       "<div>\n",
       "<style scoped>\n",
       "    .dataframe tbody tr th:only-of-type {\n",
       "        vertical-align: middle;\n",
       "    }\n",
       "\n",
       "    .dataframe tbody tr th {\n",
       "        vertical-align: top;\n",
       "    }\n",
       "\n",
       "    .dataframe thead th {\n",
       "        text-align: right;\n",
       "    }\n",
       "</style>\n",
       "<table border=\"1\" class=\"dataframe\">\n",
       "  <thead>\n",
       "    <tr style=\"text-align: right;\">\n",
       "      <th></th>\n",
       "      <th>DateCrawled</th>\n",
       "      <th>Price</th>\n",
       "      <th>VehicleType</th>\n",
       "      <th>RegistrationYear</th>\n",
       "      <th>Gearbox</th>\n",
       "      <th>Power</th>\n",
       "      <th>Model</th>\n",
       "      <th>Kilometer</th>\n",
       "      <th>RegistrationMonth</th>\n",
       "      <th>FuelType</th>\n",
       "      <th>Brand</th>\n",
       "      <th>Repaired</th>\n",
       "      <th>DateCreated</th>\n",
       "      <th>NumberOfPictures</th>\n",
       "      <th>PostalCode</th>\n",
       "      <th>LastSeen</th>\n",
       "    </tr>\n",
       "  </thead>\n",
       "  <tbody>\n",
       "    <tr>\n",
       "      <th>41529</th>\n",
       "      <td>2016-03-18 18:46:15</td>\n",
       "      <td>1999</td>\n",
       "      <td>wagon</td>\n",
       "      <td>2001</td>\n",
       "      <td>manual</td>\n",
       "      <td>131</td>\n",
       "      <td>passat</td>\n",
       "      <td>150000</td>\n",
       "      <td>7</td>\n",
       "      <td>gasoline</td>\n",
       "      <td>volkswagen</td>\n",
       "      <td>no</td>\n",
       "      <td>2016-03-18 00:00:00</td>\n",
       "      <td>0</td>\n",
       "      <td>36391</td>\n",
       "      <td>2016-03-18 18:46:15</td>\n",
       "    </tr>\n",
       "    <tr>\n",
       "      <th>88087</th>\n",
       "      <td>2016-03-08 18:42:48</td>\n",
       "      <td>1799</td>\n",
       "      <td>coupe</td>\n",
       "      <td>1999</td>\n",
       "      <td>auto</td>\n",
       "      <td>193</td>\n",
       "      <td>clk</td>\n",
       "      <td>20000</td>\n",
       "      <td>7</td>\n",
       "      <td>petrol</td>\n",
       "      <td>mercedes_benz</td>\n",
       "      <td>no</td>\n",
       "      <td>2016-03-08 00:00:00</td>\n",
       "      <td>0</td>\n",
       "      <td>89518</td>\n",
       "      <td>2016-03-09 09:46:57</td>\n",
       "    </tr>\n",
       "    <tr>\n",
       "      <th>90964</th>\n",
       "      <td>2016-03-28 00:56:10</td>\n",
       "      <td>1000</td>\n",
       "      <td>small</td>\n",
       "      <td>2002</td>\n",
       "      <td>manual</td>\n",
       "      <td>83</td>\n",
       "      <td>other</td>\n",
       "      <td>150000</td>\n",
       "      <td>1</td>\n",
       "      <td>petrol</td>\n",
       "      <td>suzuki</td>\n",
       "      <td>no</td>\n",
       "      <td>2016-03-28 00:00:00</td>\n",
       "      <td>0</td>\n",
       "      <td>66589</td>\n",
       "      <td>2016-03-28 08:46:21</td>\n",
       "    </tr>\n",
       "    <tr>\n",
       "      <th>171088</th>\n",
       "      <td>2016-03-08 18:42:48</td>\n",
       "      <td>1799</td>\n",
       "      <td>coupe</td>\n",
       "      <td>1999</td>\n",
       "      <td>auto</td>\n",
       "      <td>193</td>\n",
       "      <td>clk</td>\n",
       "      <td>20000</td>\n",
       "      <td>7</td>\n",
       "      <td>petrol</td>\n",
       "      <td>mercedes_benz</td>\n",
       "      <td>no</td>\n",
       "      <td>2016-03-08 00:00:00</td>\n",
       "      <td>0</td>\n",
       "      <td>89518</td>\n",
       "      <td>2016-03-09 09:46:57</td>\n",
       "    </tr>\n",
       "    <tr>\n",
       "      <th>187735</th>\n",
       "      <td>2016-04-03 09:01:15</td>\n",
       "      <td>4699</td>\n",
       "      <td>coupe</td>\n",
       "      <td>2003</td>\n",
       "      <td>auto</td>\n",
       "      <td>218</td>\n",
       "      <td>clk</td>\n",
       "      <td>125000</td>\n",
       "      <td>6</td>\n",
       "      <td>petrol</td>\n",
       "      <td>mercedes_benz</td>\n",
       "      <td>yes</td>\n",
       "      <td>2016-04-03 00:00:00</td>\n",
       "      <td>0</td>\n",
       "      <td>75196</td>\n",
       "      <td>2016-04-07 09:44:54</td>\n",
       "    </tr>\n",
       "    <tr>\n",
       "      <th>231258</th>\n",
       "      <td>2016-03-28 00:56:10</td>\n",
       "      <td>1000</td>\n",
       "      <td>small</td>\n",
       "      <td>2002</td>\n",
       "      <td>manual</td>\n",
       "      <td>83</td>\n",
       "      <td>other</td>\n",
       "      <td>150000</td>\n",
       "      <td>1</td>\n",
       "      <td>petrol</td>\n",
       "      <td>suzuki</td>\n",
       "      <td>no</td>\n",
       "      <td>2016-03-28 00:00:00</td>\n",
       "      <td>0</td>\n",
       "      <td>66589</td>\n",
       "      <td>2016-03-28 08:46:21</td>\n",
       "    </tr>\n",
       "    <tr>\n",
       "      <th>258109</th>\n",
       "      <td>2016-04-03 09:01:15</td>\n",
       "      <td>4699</td>\n",
       "      <td>coupe</td>\n",
       "      <td>2003</td>\n",
       "      <td>auto</td>\n",
       "      <td>218</td>\n",
       "      <td>clk</td>\n",
       "      <td>125000</td>\n",
       "      <td>6</td>\n",
       "      <td>petrol</td>\n",
       "      <td>mercedes_benz</td>\n",
       "      <td>yes</td>\n",
       "      <td>2016-04-03 00:00:00</td>\n",
       "      <td>0</td>\n",
       "      <td>75196</td>\n",
       "      <td>2016-04-07 09:44:54</td>\n",
       "    </tr>\n",
       "    <tr>\n",
       "      <th>325651</th>\n",
       "      <td>2016-03-18 18:46:15</td>\n",
       "      <td>1999</td>\n",
       "      <td>wagon</td>\n",
       "      <td>2001</td>\n",
       "      <td>manual</td>\n",
       "      <td>131</td>\n",
       "      <td>passat</td>\n",
       "      <td>150000</td>\n",
       "      <td>7</td>\n",
       "      <td>gasoline</td>\n",
       "      <td>volkswagen</td>\n",
       "      <td>no</td>\n",
       "      <td>2016-03-18 00:00:00</td>\n",
       "      <td>0</td>\n",
       "      <td>36391</td>\n",
       "      <td>2016-03-18 18:46:15</td>\n",
       "    </tr>\n",
       "  </tbody>\n",
       "</table>\n",
       "</div>"
      ],
      "text/plain": [
       "                DateCrawled  Price VehicleType  RegistrationYear Gearbox  \\\n",
       "41529   2016-03-18 18:46:15   1999       wagon              2001  manual   \n",
       "88087   2016-03-08 18:42:48   1799       coupe              1999    auto   \n",
       "90964   2016-03-28 00:56:10   1000       small              2002  manual   \n",
       "171088  2016-03-08 18:42:48   1799       coupe              1999    auto   \n",
       "187735  2016-04-03 09:01:15   4699       coupe              2003    auto   \n",
       "231258  2016-03-28 00:56:10   1000       small              2002  manual   \n",
       "258109  2016-04-03 09:01:15   4699       coupe              2003    auto   \n",
       "325651  2016-03-18 18:46:15   1999       wagon              2001  manual   \n",
       "\n",
       "        Power   Model  Kilometer  RegistrationMonth  FuelType          Brand  \\\n",
       "41529     131  passat     150000                  7  gasoline     volkswagen   \n",
       "88087     193     clk      20000                  7    petrol  mercedes_benz   \n",
       "90964      83   other     150000                  1    petrol         suzuki   \n",
       "171088    193     clk      20000                  7    petrol  mercedes_benz   \n",
       "187735    218     clk     125000                  6    petrol  mercedes_benz   \n",
       "231258     83   other     150000                  1    petrol         suzuki   \n",
       "258109    218     clk     125000                  6    petrol  mercedes_benz   \n",
       "325651    131  passat     150000                  7  gasoline     volkswagen   \n",
       "\n",
       "       Repaired          DateCreated  NumberOfPictures  PostalCode  \\\n",
       "41529        no  2016-03-18 00:00:00                 0       36391   \n",
       "88087        no  2016-03-08 00:00:00                 0       89518   \n",
       "90964        no  2016-03-28 00:00:00                 0       66589   \n",
       "171088       no  2016-03-08 00:00:00                 0       89518   \n",
       "187735      yes  2016-04-03 00:00:00                 0       75196   \n",
       "231258       no  2016-03-28 00:00:00                 0       66589   \n",
       "258109      yes  2016-04-03 00:00:00                 0       75196   \n",
       "325651       no  2016-03-18 00:00:00                 0       36391   \n",
       "\n",
       "                   LastSeen  \n",
       "41529   2016-03-18 18:46:15  \n",
       "88087   2016-03-09 09:46:57  \n",
       "90964   2016-03-28 08:46:21  \n",
       "171088  2016-03-09 09:46:57  \n",
       "187735  2016-04-07 09:44:54  \n",
       "231258  2016-03-28 08:46:21  \n",
       "258109  2016-04-07 09:44:54  \n",
       "325651  2016-03-18 18:46:15  "
      ]
     },
     "metadata": {},
     "output_type": "display_data"
    }
   ],
   "source": [
    "print(f'Сумма дупликатов {df_raw.duplicated().sum()}')\n",
    "display(df_raw[df_raw.duplicated(keep=False)])"
   ]
  },
  {
   "cell_type": "markdown",
   "metadata": {},
   "source": [
    "Пропуски решил заполнить значениями о умолчанию, поскольку заполнение средними или медианными значениями по группе или другим фильтрам могут исказить данные для дальнейшего обучения модели. \n",
    "При использовании такой модели обучения в приложении пользователя можно уведомить, что если какие то поля не заполнены,  это может отразиться на прогнозе цены, и такие пропуски могут быть заполнены значениями по умолчанию"
   ]
  },
  {
   "cell_type": "code",
   "execution_count": 141,
   "metadata": {
    "scrolled": true
   },
   "outputs": [
    {
     "data": {
      "text/plain": [
       "price                0.0\n",
       "vehicle_type         0.0\n",
       "registration_year    0.0\n",
       "gearbox              0.0\n",
       "power                0.0\n",
       "model                0.0\n",
       "kilometer            0.0\n",
       "fuel_type            0.0\n",
       "brand                0.0\n",
       "repaired             0.0\n",
       "dtype: float64"
      ]
     },
     "execution_count": 141,
     "metadata": {},
     "output_type": "execute_result"
    }
   ],
   "source": [
    "# Обработка пропусков \n",
    "\n",
    "data.fillna({'gearbox':'manual', 'repaired':'no', 'model':'unknown', 'vehicle_type':'unknown', 'fuel_type':'unknown'}, inplace=True)\n",
    "data.isna().mean()"
   ]
  },
  {
   "cell_type": "code",
   "execution_count": 142,
   "metadata": {},
   "outputs": [
    {
     "data": {
      "text/plain": [
       "0        8904\n",
       "500      4650\n",
       "1500     4533\n",
       "1000     3875\n",
       "1200     3799\n",
       "         ... \n",
       "477         1\n",
       "12560       1\n",
       "15445       1\n",
       "132         1\n",
       "10985       1\n",
       "Name: price, Length: 3731, dtype: int64"
      ]
     },
     "execution_count": 142,
     "metadata": {},
     "output_type": "execute_result"
    }
   ],
   "source": [
    "data.price.value_counts()"
   ]
  },
  {
   "cell_type": "code",
   "execution_count": 143,
   "metadata": {},
   "outputs": [
    {
     "data": {
      "text/plain": [
       "0.05      200.0\n",
       "0.95    14900.0\n",
       "Name: price, dtype: float64"
      ]
     },
     "execution_count": 143,
     "metadata": {},
     "output_type": "execute_result"
    }
   ],
   "source": [
    "data.price.quantile([.05, 0.95])"
   ]
  },
  {
   "cell_type": "code",
   "execution_count": 144,
   "metadata": {},
   "outputs": [
    {
     "data": {
      "text/plain": [
       "0.09725890556656502"
      ]
     },
     "execution_count": 144,
     "metadata": {},
     "output_type": "execute_result"
    }
   ],
   "source": [
    "# Доля данных, где цена в диапазоне от 200 до 14900:\n",
    "1 - data.query('200 <= price <= 14900').shape[0] / data.shape[0]"
   ]
  },
  {
   "cell_type": "code",
   "execution_count": 145,
   "metadata": {},
   "outputs": [],
   "source": [
    "# Дроп значений целевого рпизнака, где цена ниже 200 и выше 14900\n",
    "data = data.query('200 <= price <= 14900')"
   ]
  },
  {
   "cell_type": "code",
   "execution_count": 146,
   "metadata": {},
   "outputs": [
    {
     "data": {
      "text/plain": [
       "count    279244.000000\n",
       "mean        109.305718\n",
       "std         200.372760\n",
       "min           0.000000\n",
       "25%          69.000000\n",
       "50%         103.000000\n",
       "75%         140.000000\n",
       "max       20000.000000\n",
       "Name: power, dtype: float64"
      ]
     },
     "execution_count": 146,
     "metadata": {},
     "output_type": "execute_result"
    }
   ],
   "source": [
    "data.power.describe()"
   ]
  },
  {
   "cell_type": "code",
   "execution_count": 157,
   "metadata": {},
   "outputs": [
    {
     "data": {
      "text/plain": [
       "<AxesSubplot:>"
      ]
     },
     "execution_count": 157,
     "metadata": {},
     "output_type": "execute_result"
    },
    {
     "data": {
      "image/png": "[encoded data removed]",
      "text/plain": [
       "<Figure size 800x400 with 1 Axes>"
      ]
     },
     "metadata": {},
     "output_type": "display_data"
    }
   ],
   "source": [
    "data.power.hist(bins=50, figsize=(8, 4))"
   ]
  },
  {
   "cell_type": "code",
   "execution_count": 148,
   "metadata": {},
   "outputs": [],
   "source": [
    "data = data.query('9 <= power <= 1600')"
   ]
  },
  {
   "cell_type": "code",
   "execution_count": 149,
   "metadata": {},
   "outputs": [
    {
     "name": "stdout",
     "output_type": "stream",
     "text": [
      "<class 'pandas.core.frame.DataFrame'>\n",
      "Int64Index: 248917 entries, 2 to 354368\n",
      "Data columns (total 10 columns):\n",
      " #   Column             Non-Null Count   Dtype \n",
      "---  ------             --------------   ----- \n",
      " 0   price              248917 non-null  int64 \n",
      " 1   vehicle_type       248917 non-null  object\n",
      " 2   registration_year  248917 non-null  int64 \n",
      " 3   gearbox            248917 non-null  object\n",
      " 4   power              248917 non-null  int64 \n",
      " 5   model              248917 non-null  object\n",
      " 6   kilometer          248917 non-null  int64 \n",
      " 7   fuel_type          248917 non-null  object\n",
      " 8   brand              248917 non-null  object\n",
      " 9   repaired           248917 non-null  object\n",
      "dtypes: int64(4), object(6)\n",
      "memory usage: 20.9+ MB\n"
     ]
    }
   ],
   "source": [
    "data.info()"
   ]
  },
  {
   "cell_type": "code",
   "execution_count": 150,
   "metadata": {},
   "outputs": [
    {
     "data": {
      "text/html": [
       "<div>\n",
       "<style scoped>\n",
       "    .dataframe tbody tr th:only-of-type {\n",
       "        vertical-align: middle;\n",
       "    }\n",
       "\n",
       "    .dataframe tbody tr th {\n",
       "        vertical-align: top;\n",
       "    }\n",
       "\n",
       "    .dataframe thead th {\n",
       "        text-align: right;\n",
       "    }\n",
       "</style>\n",
       "<table border=\"1\" class=\"dataframe\">\n",
       "  <thead>\n",
       "    <tr style=\"text-align: right;\">\n",
       "      <th></th>\n",
       "      <th>price</th>\n",
       "      <th>registration_year</th>\n",
       "      <th>power</th>\n",
       "      <th>kilometer</th>\n",
       "    </tr>\n",
       "  </thead>\n",
       "  <tbody>\n",
       "    <tr>\n",
       "      <th>count</th>\n",
       "      <td>248917.000000</td>\n",
       "      <td>248917.000000</td>\n",
       "      <td>248917.000000</td>\n",
       "      <td>248917.000000</td>\n",
       "    </tr>\n",
       "    <tr>\n",
       "      <th>mean</th>\n",
       "      <td>4243.953462</td>\n",
       "      <td>2003.297300</td>\n",
       "      <td>118.726202</td>\n",
       "      <td>129415.246849</td>\n",
       "    </tr>\n",
       "    <tr>\n",
       "      <th>std</th>\n",
       "      <td>3646.112648</td>\n",
       "      <td>29.154592</td>\n",
       "      <td>57.789744</td>\n",
       "      <td>35679.040721</td>\n",
       "    </tr>\n",
       "    <tr>\n",
       "      <th>min</th>\n",
       "      <td>200.000000</td>\n",
       "      <td>1000.000000</td>\n",
       "      <td>9.000000</td>\n",
       "      <td>5000.000000</td>\n",
       "    </tr>\n",
       "    <tr>\n",
       "      <th>25%</th>\n",
       "      <td>1350.000000</td>\n",
       "      <td>1999.000000</td>\n",
       "      <td>75.000000</td>\n",
       "      <td>125000.000000</td>\n",
       "    </tr>\n",
       "    <tr>\n",
       "      <th>50%</th>\n",
       "      <td>2999.000000</td>\n",
       "      <td>2003.000000</td>\n",
       "      <td>110.000000</td>\n",
       "      <td>150000.000000</td>\n",
       "    </tr>\n",
       "    <tr>\n",
       "      <th>75%</th>\n",
       "      <td>6300.000000</td>\n",
       "      <td>2007.000000</td>\n",
       "      <td>143.000000</td>\n",
       "      <td>150000.000000</td>\n",
       "    </tr>\n",
       "    <tr>\n",
       "      <th>max</th>\n",
       "      <td>14900.000000</td>\n",
       "      <td>9999.000000</td>\n",
       "      <td>1600.000000</td>\n",
       "      <td>150000.000000</td>\n",
       "    </tr>\n",
       "  </tbody>\n",
       "</table>\n",
       "</div>"
      ],
      "text/plain": [
       "               price  registration_year          power      kilometer\n",
       "count  248917.000000      248917.000000  248917.000000  248917.000000\n",
       "mean     4243.953462        2003.297300     118.726202  129415.246849\n",
       "std      3646.112648          29.154592      57.789744   35679.040721\n",
       "min       200.000000        1000.000000       9.000000    5000.000000\n",
       "25%      1350.000000        1999.000000      75.000000  125000.000000\n",
       "50%      2999.000000        2003.000000     110.000000  150000.000000\n",
       "75%      6300.000000        2007.000000     143.000000  150000.000000\n",
       "max     14900.000000        9999.000000    1600.000000  150000.000000"
      ]
     },
     "execution_count": 150,
     "metadata": {},
     "output_type": "execute_result"
    }
   ],
   "source": [
    "data.describe()"
   ]
  },
  {
   "cell_type": "code",
   "execution_count": 151,
   "metadata": {},
   "outputs": [
    {
     "name": "stdout",
     "output_type": "stream",
     "text": [
      "% авто с регистрацией до 2016 года включительно: 93.19099582638437\n",
      "% авто с регистрацией после 2016 года          : 6.809004173615641\n"
     ]
    }
   ],
   "source": [
    "# Доля данных, где RegistrationYear до 2016 года:\n",
    "print(f\"% авто с регистрацией до 2016 года включительно: {(1 - df_raw.query('2016 <= RegistrationYear').shape[0] / df_raw.shape[0])*100}\")\n",
    "print(f\"% авто с регистрацией после 2016 года          : {(1 - df_raw.query('2016 > RegistrationYear').shape[0] / df_raw.shape[0])*100}\")"
   ]
  },
  {
   "cell_type": "code",
   "execution_count": 152,
   "metadata": {
    "scrolled": true
   },
   "outputs": [
    {
     "data": {
      "text/plain": [
       "0.05    1992.0\n",
       "0.95    2016.0\n",
       "Name: RegistrationYear, dtype: float64"
      ]
     },
     "execution_count": 152,
     "metadata": {},
     "output_type": "execute_result"
    }
   ],
   "source": [
    "df_raw.RegistrationYear.quantile([.05, 0.95])"
   ]
  },
  {
   "cell_type": "code",
   "execution_count": 153,
   "metadata": {},
   "outputs": [],
   "source": [
    "data = data.query('1992 <= registration_year <= 2016')"
   ]
  },
  {
   "cell_type": "code",
   "execution_count": 154,
   "metadata": {},
   "outputs": [
    {
     "name": "stdout",
     "output_type": "stream",
     "text": [
      "Корреляция признаков: \n"
     ]
    },
    {
     "data": {
      "text/html": [
       "<div>\n",
       "<style scoped>\n",
       "    .dataframe tbody tr th:only-of-type {\n",
       "        vertical-align: middle;\n",
       "    }\n",
       "\n",
       "    .dataframe tbody tr th {\n",
       "        vertical-align: top;\n",
       "    }\n",
       "\n",
       "    .dataframe thead th {\n",
       "        text-align: right;\n",
       "    }\n",
       "</style>\n",
       "<table border=\"1\" class=\"dataframe\">\n",
       "  <thead>\n",
       "    <tr style=\"text-align: right;\">\n",
       "      <th></th>\n",
       "      <th>price</th>\n",
       "      <th>registration_year</th>\n",
       "      <th>power</th>\n",
       "      <th>kilometer</th>\n",
       "    </tr>\n",
       "  </thead>\n",
       "  <tbody>\n",
       "    <tr>\n",
       "      <th>price</th>\n",
       "      <td>1.000000</td>\n",
       "      <td>0.594939</td>\n",
       "      <td>0.393882</td>\n",
       "      <td>-0.335082</td>\n",
       "    </tr>\n",
       "    <tr>\n",
       "      <th>registration_year</th>\n",
       "      <td>0.594939</td>\n",
       "      <td>1.000000</td>\n",
       "      <td>0.041837</td>\n",
       "      <td>-0.372411</td>\n",
       "    </tr>\n",
       "    <tr>\n",
       "      <th>power</th>\n",
       "      <td>0.393882</td>\n",
       "      <td>0.041837</td>\n",
       "      <td>1.000000</td>\n",
       "      <td>0.150714</td>\n",
       "    </tr>\n",
       "    <tr>\n",
       "      <th>kilometer</th>\n",
       "      <td>-0.335082</td>\n",
       "      <td>-0.372411</td>\n",
       "      <td>0.150714</td>\n",
       "      <td>1.000000</td>\n",
       "    </tr>\n",
       "  </tbody>\n",
       "</table>\n",
       "</div>"
      ],
      "text/plain": [
       "                      price  registration_year     power  kilometer\n",
       "price              1.000000           0.594939  0.393882  -0.335082\n",
       "registration_year  0.594939           1.000000  0.041837  -0.372411\n",
       "power              0.393882           0.041837  1.000000   0.150714\n",
       "kilometer         -0.335082          -0.372411  0.150714   1.000000"
      ]
     },
     "metadata": {},
     "output_type": "display_data"
    },
    {
     "data": {
      "image/png": "[encoded data removed]",
      "text/plain": [
       "<Figure size 500x500 with 2 Axes>"
      ]
     },
     "metadata": {},
     "output_type": "display_data"
    }
   ],
   "source": [
    "print('Корреляция признаков: ')\n",
    "display(data.corr())\n",
    "\n",
    "plt.figure(figsize=(5, 5))\n",
    "sns.heatmap(data.corr(),\n",
    "            xticklabels=data.corr().columns,\n",
    "            yticklabels=data.corr().columns,\n",
    "            cmap='RdYlGn',\n",
    "            center=0,\n",
    "            annot=True)\n",
    "\n",
    "plt.title('Корреляция признаков', fontsize=14)\n",
    "plt.xticks(fontsize=12, rotation=45)\n",
    "plt.yticks(fontsize=12)\n",
    "plt.show()"
   ]
  },
  {
   "cell_type": "markdown",
   "metadata": {},
   "source": [
    "Наблюдается умеренная корреляция между целевым признаком и мощностью авто, так же видна такая же умеренная отрицательная корреляция с пробегом, и незначительная связь с датой регистрации авто"
   ]
  },
  {
   "cell_type": "code",
   "execution_count": 155,
   "metadata": {},
   "outputs": [
    {
     "name": "stdout",
     "output_type": "stream",
     "text": [
      "% данных после обработки: 64.86459029994158\n",
      "Кол-во записей: 229860\n"
     ]
    }
   ],
   "source": [
    "print(f'% данных после обработки: {(data.shape[0]/df_raw.shape[0])*100}')\n",
    "print(f'Кол-во записей: {data.shape[0]}')"
   ]
  },
  {
   "cell_type": "markdown",
   "metadata": {},
   "source": [
    "### Вывод по разделу"
   ]
  },
  {
   "cell_type": "markdown",
   "metadata": {},
   "source": [
    "Были установлены и импортированы необходимве библиотеки и данные. Был проведен первичный анализ данных.  \n",
    "Входе предобработки данных были устранены дупликаты, многие пропуски, а так же столбцы данных, не влияющих на целевой показатель - цену.  \n",
    "Процент обучающих данных от исходных составил 64%, насчитывая порядка 230 тыс. записей, что является достаточным количеством"
   ]
  },
  {
   "cell_type": "markdown",
   "metadata": {},
   "source": [
    "## Обучение моделей"
   ]
  },
  {
   "cell_type": "code",
   "execution_count": 91,
   "metadata": {},
   "outputs": [],
   "source": [
    "# Подготовка признаков\n",
    "\n",
    "features = data.drop('price', axis=1)\n",
    "target = data.price"
   ]
  },
  {
   "cell_type": "code",
   "execution_count": 159,
   "metadata": {},
   "outputs": [
    {
     "name": "stdout",
     "output_type": "stream",
     "text": [
      "Размер обучающей выборки: (137916, 9)\n",
      "Размер валид выборки: (45972, 9)\n",
      "Размер тестовой выборки: (45972, 9)\n"
     ]
    }
   ],
   "source": [
    "# Делим выборки на тренинг, валид и тест для линейной модели\n",
    "\n",
    "\n",
    "features_train_ohe, features_valid_ohe, target_train, target_valid = train_test_split(\n",
    "    features, target, test_size=.4, random_state=112263)\n",
    "\n",
    "features_valid_ohe, features_test_ohe, target_valid, target_test = train_test_split(\n",
    "     features_valid_ohe, target_valid, test_size=.5, random_state=112263)\n",
    "\n",
    "# Размеры выборок\n",
    "print(f'Размер обучающей выборки: {features_train_ohe.shape}')\n",
    "print(f'Размер валид выборки: {features_valid_ohe.shape}')\n",
    "print(f'Размер тестовой выборки: {features_test_ohe.shape}')"
   ]
  },
  {
   "cell_type": "code",
   "execution_count": 93,
   "metadata": {},
   "outputs": [],
   "source": [
    "# Подготовка признаков для линейной модели\n",
    "\n",
    "features_train_ohe = pd.get_dummies(features_train_ohe, drop_first=True)\n",
    "features_valid_ohe = pd.get_dummies(features_valid_ohe, drop_first=True)\n",
    "features_test_ohe = pd.get_dummies(features_test_ohe, drop_first=True)\n",
    "\n",
    "common_columns = set(features_train_ohe.columns) & set(features_valid_ohe.columns) & set(features_test_ohe.columns)\n",
    "\n",
    "features_train_ohe = features_train_ohe[list(common_columns)]\n",
    "features_valid_ohe = features_valid_ohe[list(common_columns)]\n",
    "features_test_ohe = features_test_ohe[list(common_columns)]"
   ]
  },
  {
   "cell_type": "code",
   "execution_count": 94,
   "metadata": {},
   "outputs": [],
   "source": [
    "# Делим выборки на тренинг и тест моделей для RandomizedSearchSV и GridSearchCV\n",
    "train_data_cv, test_data_cv = train_test_split(data, test_size = 0.25, random_state = rs)"
   ]
  },
  {
   "cell_type": "code",
   "execution_count": 95,
   "metadata": {
    "scrolled": true
   },
   "outputs": [
    {
     "name": "stdout",
     "output_type": "stream",
     "text": [
      "Размер обучающей выборки: (172395, 10)\n",
      "Размер тестовой выборки: (57465, 10)\n"
     ]
    }
   ],
   "source": [
    "print(f'Размер обучающей выборки: {train_data_cv.shape}')\n",
    "print(f'Размер тестовой выборки: {test_data_cv.shape}')"
   ]
  },
  {
   "cell_type": "code",
   "execution_count": 96,
   "metadata": {},
   "outputs": [
    {
     "data": {
      "text/plain": [
       "Index(['price', 'vehicle_type', 'registration_year', 'gearbox', 'power',\n",
       "       'model', 'kilometer', 'fuel_type', 'brand', 'repaired'],\n",
       "      dtype='object')"
      ]
     },
     "execution_count": 96,
     "metadata": {},
     "output_type": "execute_result"
    }
   ],
   "source": [
    "data.columns"
   ]
  },
  {
   "cell_type": "code",
   "execution_count": 97,
   "metadata": {
    "scrolled": true
   },
   "outputs": [],
   "source": [
    "categorial = ['vehicle_type','gearbox','model','fuel_type','brand','repaired']"
   ]
  },
  {
   "cell_type": "markdown",
   "metadata": {},
   "source": [
    "Подготовка признаков данных и признаков дял нелинейных моделей"
   ]
  },
  {
   "cell_type": "code",
   "execution_count": 98,
   "metadata": {
    "scrolled": true
   },
   "outputs": [],
   "source": [
    "# Используем TargetEncoder для преобразования категориальных признаков\n",
    "\n",
    "encoder = TargetEncoder()\n",
    "\n",
    "train_data_cv[categorial] = encoder.fit_transform(train_data_cv[categorial], train_data_cv['price'])\n",
    "test_data_cv[categorial] = encoder.fit_transform(test_data_cv[categorial], test_data_cv['price'])\n",
    "\n",
    "train_features_cv = train_data_cv.drop(['price'], axis = 1)\n",
    "train_target_cv = train_data_cv['price']\n",
    "\n",
    "test_features_cv = test_data_cv.drop(['price'], axis = 1)\n",
    "test_target_cv = test_data_cv['price']"
   ]
  },
  {
   "cell_type": "code",
   "execution_count": 99,
   "metadata": {},
   "outputs": [
    {
     "data": {
      "text/html": [
       "<div>\n",
       "<style scoped>\n",
       "    .dataframe tbody tr th:only-of-type {\n",
       "        vertical-align: middle;\n",
       "    }\n",
       "\n",
       "    .dataframe tbody tr th {\n",
       "        vertical-align: top;\n",
       "    }\n",
       "\n",
       "    .dataframe thead th {\n",
       "        text-align: right;\n",
       "    }\n",
       "</style>\n",
       "<table border=\"1\" class=\"dataframe\">\n",
       "  <thead>\n",
       "    <tr style=\"text-align: right;\">\n",
       "      <th></th>\n",
       "      <th>price</th>\n",
       "      <th>vehicle_type</th>\n",
       "      <th>registration_year</th>\n",
       "      <th>gearbox</th>\n",
       "      <th>power</th>\n",
       "      <th>model</th>\n",
       "      <th>kilometer</th>\n",
       "      <th>fuel_type</th>\n",
       "      <th>brand</th>\n",
       "      <th>repaired</th>\n",
       "    </tr>\n",
       "  </thead>\n",
       "  <tbody>\n",
       "    <tr>\n",
       "      <th>92706</th>\n",
       "      <td>700</td>\n",
       "      <td>2965.937682</td>\n",
       "      <td>2001</td>\n",
       "      <td>3936.653452</td>\n",
       "      <td>90</td>\n",
       "      <td>3960.972114</td>\n",
       "      <td>150000</td>\n",
       "      <td>5858.096412</td>\n",
       "      <td>4031.231084</td>\n",
       "      <td>2153.784200</td>\n",
       "    </tr>\n",
       "    <tr>\n",
       "      <th>158028</th>\n",
       "      <td>1000</td>\n",
       "      <td>4493.734498</td>\n",
       "      <td>1999</td>\n",
       "      <td>3936.653452</td>\n",
       "      <td>116</td>\n",
       "      <td>3405.600927</td>\n",
       "      <td>125000</td>\n",
       "      <td>3730.323499</td>\n",
       "      <td>3203.559229</td>\n",
       "      <td>4549.701065</td>\n",
       "    </tr>\n",
       "    <tr>\n",
       "      <th>41008</th>\n",
       "      <td>6200</td>\n",
       "      <td>4493.734498</td>\n",
       "      <td>2003</td>\n",
       "      <td>5830.902743</td>\n",
       "      <td>177</td>\n",
       "      <td>5238.875334</td>\n",
       "      <td>150000</td>\n",
       "      <td>3730.323499</td>\n",
       "      <td>5250.311219</td>\n",
       "      <td>4549.701065</td>\n",
       "    </tr>\n",
       "  </tbody>\n",
       "</table>\n",
       "</div>"
      ],
      "text/plain": [
       "        price  vehicle_type  registration_year      gearbox  power  \\\n",
       "92706     700   2965.937682               2001  3936.653452     90   \n",
       "158028   1000   4493.734498               1999  3936.653452    116   \n",
       "41008    6200   4493.734498               2003  5830.902743    177   \n",
       "\n",
       "              model  kilometer    fuel_type        brand     repaired  \n",
       "92706   3960.972114     150000  5858.096412  4031.231084  2153.784200  \n",
       "158028  3405.600927     125000  3730.323499  3203.559229  4549.701065  \n",
       "41008   5238.875334     150000  3730.323499  5250.311219  4549.701065  "
      ]
     },
     "metadata": {},
     "output_type": "display_data"
    },
    {
     "data": {
      "text/html": [
       "<div>\n",
       "<style scoped>\n",
       "    .dataframe tbody tr th:only-of-type {\n",
       "        vertical-align: middle;\n",
       "    }\n",
       "\n",
       "    .dataframe tbody tr th {\n",
       "        vertical-align: top;\n",
       "    }\n",
       "\n",
       "    .dataframe thead th {\n",
       "        text-align: right;\n",
       "    }\n",
       "</style>\n",
       "<table border=\"1\" class=\"dataframe\">\n",
       "  <thead>\n",
       "    <tr style=\"text-align: right;\">\n",
       "      <th></th>\n",
       "      <th>price</th>\n",
       "      <th>vehicle_type</th>\n",
       "      <th>registration_year</th>\n",
       "      <th>gearbox</th>\n",
       "      <th>power</th>\n",
       "      <th>model</th>\n",
       "      <th>kilometer</th>\n",
       "      <th>fuel_type</th>\n",
       "      <th>brand</th>\n",
       "      <th>repaired</th>\n",
       "    </tr>\n",
       "  </thead>\n",
       "  <tbody>\n",
       "    <tr>\n",
       "      <th>124559</th>\n",
       "      <td>11000</td>\n",
       "      <td>4588.869754</td>\n",
       "      <td>2013</td>\n",
       "      <td>3951.25618</td>\n",
       "      <td>125</td>\n",
       "      <td>3365.251232</td>\n",
       "      <td>50000</td>\n",
       "      <td>3724.107324</td>\n",
       "      <td>3115.852273</td>\n",
       "      <td>4555.650313</td>\n",
       "    </tr>\n",
       "    <tr>\n",
       "      <th>142414</th>\n",
       "      <td>4990</td>\n",
       "      <td>4588.869754</td>\n",
       "      <td>1993</td>\n",
       "      <td>3951.25618</td>\n",
       "      <td>99</td>\n",
       "      <td>4834.755796</td>\n",
       "      <td>150000</td>\n",
       "      <td>3724.107324</td>\n",
       "      <td>5768.016480</td>\n",
       "      <td>4555.650313</td>\n",
       "    </tr>\n",
       "    <tr>\n",
       "      <th>199599</th>\n",
       "      <td>1000</td>\n",
       "      <td>2398.768739</td>\n",
       "      <td>2000</td>\n",
       "      <td>3951.25618</td>\n",
       "      <td>150</td>\n",
       "      <td>5758.454463</td>\n",
       "      <td>150000</td>\n",
       "      <td>2579.644478</td>\n",
       "      <td>5694.535370</td>\n",
       "      <td>4555.650313</td>\n",
       "    </tr>\n",
       "  </tbody>\n",
       "</table>\n",
       "</div>"
      ],
      "text/plain": [
       "        price  vehicle_type  registration_year     gearbox  power  \\\n",
       "124559  11000   4588.869754               2013  3951.25618    125   \n",
       "142414   4990   4588.869754               1993  3951.25618     99   \n",
       "199599   1000   2398.768739               2000  3951.25618    150   \n",
       "\n",
       "              model  kilometer    fuel_type        brand     repaired  \n",
       "124559  3365.251232      50000  3724.107324  3115.852273  4555.650313  \n",
       "142414  4834.755796     150000  3724.107324  5768.016480  4555.650313  \n",
       "199599  5758.454463     150000  2579.644478  5694.535370  4555.650313  "
      ]
     },
     "metadata": {},
     "output_type": "display_data"
    }
   ],
   "source": [
    "display(train_data_cv.head(3))\n",
    "display(test_data_cv.head(3))"
   ]
  },
  {
   "cell_type": "markdown",
   "metadata": {},
   "source": [
    "Данные подготовлены для обучения моделей: выборки поделены, признаки обозначены"
   ]
  },
  {
   "cell_type": "markdown",
   "metadata": {},
   "source": [
    "### Linear Regression"
   ]
  },
  {
   "cell_type": "code",
   "execution_count": 100,
   "metadata": {},
   "outputs": [
    {
     "name": "stdout",
     "output_type": "stream",
     "text": [
      "Wall time: 1.16 s\n"
     ]
    },
    {
     "data": {
      "text/plain": [
       "LinearRegression()"
      ]
     },
     "execution_count": 100,
     "metadata": {},
     "output_type": "execute_result"
    }
   ],
   "source": [
    "%%time\n",
    "\n",
    "model_lr = LinearRegression()\n",
    "model_lr.fit(features_train_ohe, target_train)"
   ]
  },
  {
   "cell_type": "code",
   "execution_count": 101,
   "metadata": {
    "scrolled": true
   },
   "outputs": [
    {
     "name": "stdout",
     "output_type": "stream",
     "text": [
      "LinearRegression\n",
      "==================================================\n",
      "Модель обучена\n",
      "Время обучения модели:     1.18 s\n"
     ]
    }
   ],
   "source": [
    "print('LinearRegression')\n",
    "print('=='*25)\n",
    "print('Модель обучена')\n",
    "print(f'Время обучения модели:     1.18 s')"
   ]
  },
  {
   "cell_type": "markdown",
   "metadata": {},
   "source": [
    "### Decision Tree Regressor"
   ]
  },
  {
   "cell_type": "code",
   "execution_count": 102,
   "metadata": {},
   "outputs": [
    {
     "name": "stdout",
     "output_type": "stream",
     "text": [
      "{'random_state': 112263, 'min_samples_split': 6, 'min_samples_leaf': 5, 'max_depth': 9, 'criterion': 'mse'}\n",
      "Wall time: 5.92 s\n"
     ]
    },
    {
     "data": {
      "text/plain": [
       "1619.3160172501605"
      ]
     },
     "execution_count": 102,
     "metadata": {},
     "output_type": "execute_result"
    }
   ],
   "source": [
    "%%time\n",
    "\n",
    "# DecisionTreeRegressor + RandomizedSearchCV\n",
    "\n",
    " \n",
    "model_dtr = DecisionTreeRegressor()\n",
    "max_depth_list = [x for x in range(2, 10)]\n",
    "min_samples_split_list = [x for x in range(2, 10)]\n",
    "min_samples_leaf_list = [x for x in range(2, 10)]\n",
    "parameters = [{\n",
    "    'criterion':['mse'], \n",
    "    'max_depth':max_depth_list, \n",
    "    'min_samples_split':min_samples_split_list, \n",
    "    'min_samples_leaf':min_samples_leaf_list, \n",
    "    'random_state':[112263]}]\n",
    "\n",
    "rscv = RandomizedSearchCV(model_dtr, parameters, scoring='neg_mean_squared_error')\n",
    "rscv.fit(train_features_cv, train_target_cv)\n",
    "\n",
    "print(rscv.best_params_)\n",
    "\n",
    "mts = rscv.cv_results_['mean_test_score']\n",
    "\n",
    "rmse_rscv_dtr = (max(mts) * -1) ** 0.5\n",
    "rmse_rscv_dtr"
   ]
  },
  {
   "cell_type": "code",
   "execution_count": 103,
   "metadata": {},
   "outputs": [],
   "source": [
    "# %%time\n",
    "\n",
    "# # DecisionTreeRegressor + GridSearchCV\n",
    "# Закоментировал по причине большого срока обучения ~5 min\n",
    "\n",
    "# model_dtr = DecisionTreeRegressor() \n",
    "# max_depth_list = [x for x in range(2, 10)]\n",
    "# min_samples_split_list = [x for x in range(2, 10)]\n",
    "# min_samples_leaf_list = [x for x in range(2, 10)]\n",
    "# parameters = [{\n",
    "#     'criterion':['mse'], \n",
    "#     'max_depth':max_depth_list, \n",
    "#     'min_samples_split':min_samples_split_list, \n",
    "#     'min_samples_leaf':min_samples_leaf_list, \n",
    "#     'random_state':[112263]}]\n",
    "\n",
    "# gscv = GridSearchCV(model_dtr, parameters, scoring='neg_mean_squared_error')\n",
    "# for params in tqdm(parameters):\n",
    "#     gscv.fit(train_features_cv, train_target_cv)\n",
    "\n",
    "# print(gscv.best_params_)\n",
    "\n",
    "# mts = gscv.cv_results_['mean_test_score']\n",
    "\n",
    "# rmse_gscv_dtr = (max(mts) * -1) ** 0.5\n",
    "# rmse_gscv_dtr"
   ]
  },
  {
   "cell_type": "markdown",
   "metadata": {},
   "source": [
    "### Cat Boost Regressor"
   ]
  },
  {
   "cell_type": "code",
   "execution_count": 104,
   "metadata": {
    "scrolled": true
   },
   "outputs": [
    {
     "name": "stdout",
     "output_type": "stream",
     "text": [
      "{'verbose': False, 'random_state': 112263, 'learning_rate': 0.5}\n",
      "Wall time: 2min 11s\n"
     ]
    },
    {
     "data": {
      "text/plain": [
       "1299.3899159775833"
      ]
     },
     "execution_count": 104,
     "metadata": {},
     "output_type": "execute_result"
    }
   ],
   "source": [
    "%%time\n",
    "\n",
    "# CatBoostRegressor + RandomizedSearchCV\n",
    "# Время выполнения кода порядка 2х минут\n",
    "\n",
    "\n",
    "model_cbr = CatBoostRegressor()\n",
    "# Добавлять гиперпараметр глубины не стал, поскольку даже с randomized search считалось неприлично долго\n",
    "parameters = [{'learning_rate': [.1, .5, .9], 'random_state':[112263], 'verbose': [False]}]\n",
    "\n",
    "rscv = RandomizedSearchCV(model_cbr, parameters, scoring='neg_mean_squared_error')\n",
    "rscv.fit(train_features_cv, train_target_cv)\n",
    "\n",
    "print(rscv.best_params_)\n",
    "\n",
    "mts = rscv.cv_results_['mean_test_score']\n",
    "\n",
    "rmse_cbr = (max(mts) * -1) ** 0.5\n",
    "rmse_cbr"
   ]
  },
  {
   "cell_type": "code",
   "execution_count": 105,
   "metadata": {},
   "outputs": [],
   "source": [
    "# %%time\n",
    "\n",
    "# # CatBoostRegressor + GridSearchCV\n",
    "# # Время выполнения кода порядка 2х минут\n",
    "\n",
    "\n",
    "# model_cbr = CatBoostRegressor() \n",
    "# Добавлять гиперпараметр глубины не стал, поскольку даже с randomized search считалось неприлично долго\n",
    "# parameters = [{'learning_rate':[.1, .5, .9], 'random_state':[112263], 'verbose':[False]}]\n",
    "\n",
    "# gscv = GridSearchCV(model_cbr, parameters, scoring='neg_mean_squared_error')\n",
    "# # for params in tqdm(parameters):\n",
    "# gscv.fit(train_features_cv, train_target_cv)\n",
    "\n",
    "# print(gscv.best_params_)\n",
    "\n",
    "# mts = gscv.cv_results_['mean_test_score']\n",
    "    \n",
    "# rmse_cbr = (max(mts) * -1) ** 0.5\n",
    "# rmse_cbr"
   ]
  },
  {
   "cell_type": "markdown",
   "metadata": {},
   "source": [
    "### LGBMRegressor"
   ]
  },
  {
   "cell_type": "code",
   "execution_count": 106,
   "metadata": {},
   "outputs": [
    {
     "name": "stdout",
     "output_type": "stream",
     "text": [
      "{'random_state': 112263, 'num_leaves': 200, 'learning_rate': 0.1}\n",
      "Wall time: 43.5 s\n"
     ]
    },
    {
     "data": {
      "text/plain": [
       "1293.9747425321298"
      ]
     },
     "execution_count": 106,
     "metadata": {},
     "output_type": "execute_result"
    }
   ],
   "source": [
    "%%time\n",
    "\n",
    "# LGBMRegressor + RandomizedSearchCV\n",
    "# Время выполнения кода порядка одной минуты\n",
    "\n",
    "\n",
    "model_lgbmr = LGBMRegressor() \n",
    "parameters = [{'learning_rate': [.1, .5, .9], 'num_leaves':[50, 100, 200],'random_state':[112263]}]\n",
    "\n",
    "rscv = RandomizedSearchCV(model_lgbmr, parameters, scoring='neg_mean_squared_error')\n",
    "rscv.fit(train_features_cv, train_target_cv)\n",
    "\n",
    "print(rscv.best_params_)\n",
    "\n",
    "mts = rscv.cv_results_['mean_test_score']\n",
    "\n",
    "rmse_lgbmr = (max(mts) * -1) ** 0.5\n",
    "rmse_lgbmr"
   ]
  },
  {
   "cell_type": "code",
   "execution_count": 107,
   "metadata": {},
   "outputs": [],
   "source": [
    "# %%time\n",
    "\n",
    "# # LGBMRegressor + GridSearchCV\n",
    "# # Время выполнения кода порядка одной минуты\n",
    "\n",
    "\n",
    "# model_lgbmr = LGBMRegressor() \n",
    "# parameters = [{'learning_rate':[.1, .5, .9], 'num_leaves':[50, 100, 200], 'random_state':[112263]}]\n",
    "\n",
    "# gscv = GridSearchCV(model_lgbmr, parameters, scoring='neg_mean_squared_error')\n",
    "# # for params in tqdm(parameters):\n",
    "# gscv.fit(features_train, target_train)\n",
    "\n",
    "# print(gscv.best_params_)\n",
    "# print()\n",
    "\n",
    "# mts = gscv.cv_results_['mean_test_score']\n",
    "\n",
    "# rmse_lgbmr = (max(mts) * -1) ** 0.5\n",
    "# rmse_lgbmr"
   ]
  },
  {
   "cell_type": "markdown",
   "metadata": {},
   "source": [
    "## Анализ моделей"
   ]
  },
  {
   "cell_type": "markdown",
   "metadata": {},
   "source": [
    "В качестве анализа моделей будет произведен поиск оптимальных гиперпараметров посредством RandomizedSearchCV, по итогам оценки всех моделей, составим рейтинг моделей и выберем с лучшую. Далее с полученными гиперпараметрами проверим модель та тестовой выборке"
   ]
  },
  {
   "cell_type": "markdown",
   "metadata": {},
   "source": [
    "### Linear Regression"
   ]
  },
  {
   "cell_type": "code",
   "execution_count": 108,
   "metadata": {},
   "outputs": [
    {
     "name": "stdout",
     "output_type": "stream",
     "text": [
      "Wall time: 1.32 s\n"
     ]
    },
    {
     "data": {
      "text/plain": [
       "LinearRegression()"
      ]
     },
     "execution_count": 108,
     "metadata": {},
     "output_type": "execute_result"
    }
   ],
   "source": [
    "%%time\n",
    "\n",
    "model_lr = LinearRegression()\n",
    "model_lr.fit(features_train_ohe, target_train)"
   ]
  },
  {
   "cell_type": "code",
   "execution_count": 109,
   "metadata": {},
   "outputs": [
    {
     "name": "stdout",
     "output_type": "stream",
     "text": [
      "RMSE Linear Regression: 1956.3151922569632\n",
      "Wall time: 64.2 ms\n"
     ]
    }
   ],
   "source": [
    "%%time\n",
    "\n",
    "# Подсчет RMSE на валидной выборке\n",
    "\n",
    "\n",
    "target_predict = model_lr.predict(features_valid_ohe)\n",
    "\n",
    "rmse_lr_valid = mse(target_valid, target_predict) ** 0.5\n",
    "print(f'RMSE Linear Regression: {rmse_lr_valid}')"
   ]
  },
  {
   "cell_type": "code",
   "execution_count": 110,
   "metadata": {
    "scrolled": false
   },
   "outputs": [
    {
     "name": "stdout",
     "output_type": "stream",
     "text": [
      "LinearRegression\n",
      "==================================================\n",
      "Время обучения модели:     0.978 s\n",
      "Время предсказания модели: 0.634 s\n",
      "RMSE модели:               1956.0\n"
     ]
    }
   ],
   "source": [
    "print('LinearRegression')\n",
    "print('=='*25)\n",
    "print(f'Время обучения модели:     0.978 s')\n",
    "print(f'Время предсказания модели: 0.634 s')\n",
    "print(f'RMSE модели:               {rmse_lr_valid.round(0)}')"
   ]
  },
  {
   "cell_type": "markdown",
   "metadata": {},
   "source": [
    "### Decision Tree Regressor"
   ]
  },
  {
   "cell_type": "code",
   "execution_count": 111,
   "metadata": {},
   "outputs": [],
   "source": [
    "# %%time\n",
    "# # 'min_samples_split': 4, 'min_samples_leaf': 3, 'max_depth': 9, 'criterion': 'mse'\n",
    "# # Рассчет времени и RMSE на кросс валидации\n",
    "\n",
    "\n",
    "# model_dtr = DecisionTreeRegressor(max_depth=9, min_samples_leaf=3,min_samples_split=4, random_state=rs)\n",
    "# model_dtr.fit(train_features_cv, train_target_cv)"
   ]
  },
  {
   "cell_type": "code",
   "execution_count": 112,
   "metadata": {},
   "outputs": [],
   "source": [
    "# %%time\n",
    "\n",
    "# target_predict = model_dtr.predict(train_features_cv)\n",
    "# rmse_dtr_cv = mse(train_target_cv, target_predict) ** 0.5\n",
    "# rmse_dtr_cv"
   ]
  },
  {
   "cell_type": "code",
   "execution_count": 113,
   "metadata": {},
   "outputs": [
    {
     "name": "stdout",
     "output_type": "stream",
     "text": [
      "Wall time: 1.08 s\n"
     ]
    }
   ],
   "source": [
    "%%time\n",
    "\n",
    "parameters = [{'min_samples_split': [3], 'min_samples_leaf': [9], 'max_depth': [9],'random_state':[112263]}]\n",
    "rscv = RandomizedSearchCV(model_dtr, parameters, scoring='neg_mean_squared_error')\n",
    "rscv.fit(train_features_cv, train_target_cv);\n",
    "\n",
    "mts = rscv.cv_results_['mean_test_score']\n",
    "\n",
    "rmse_dtr_cv = (max(mts) * -1) ** 0.5"
   ]
  },
  {
   "cell_type": "code",
   "execution_count": 114,
   "metadata": {
    "scrolled": true
   },
   "outputs": [
    {
     "name": "stdout",
     "output_type": "stream",
     "text": [
      "Wall time: 15.7 ms\n"
     ]
    },
    {
     "data": {
      "text/plain": [
       "array([1393.34433594, 1768.36050725, 4632.92330097, ..., 1103.80438402,\n",
       "       1258.72769671, 4944.9683819 ])"
      ]
     },
     "execution_count": 114,
     "metadata": {},
     "output_type": "execute_result"
    }
   ],
   "source": [
    "%%time\n",
    "rscv.predict(train_features_cv);"
   ]
  },
  {
   "cell_type": "code",
   "execution_count": 115,
   "metadata": {},
   "outputs": [
    {
     "name": "stdout",
     "output_type": "stream",
     "text": [
      "DecisionTreeRegressor\n",
      "==================================================\n",
      "При лучших гиперпараметрах: \n",
      "{'random_state': 112263, 'min_samples_split': 3, 'min_samples_leaf': 9, 'max_depth': 9}\n",
      "==================================================\n",
      "Время обучения модели:     1.04 s\n",
      "Время предсказания модели: 0.015 s\n",
      "RMSE модели:               1619.0\n"
     ]
    }
   ],
   "source": [
    "print('DecisionTreeRegressor')\n",
    "print('=='*25)\n",
    "print(f'При лучших гиперпараметрах: \\n{rscv.best_params_}')\n",
    "print('=='*25)\n",
    "print(f'Время обучения модели:     1.04 s')\n",
    "print(f'Время предсказания модели: 0.015 s')\n",
    "print(f'RMSE модели:               {rmse_dtr_cv.round(0)}')"
   ]
  },
  {
   "cell_type": "markdown",
   "metadata": {},
   "source": [
    "### CatBoost Regressor"
   ]
  },
  {
   "cell_type": "code",
   "execution_count": 116,
   "metadata": {},
   "outputs": [
    {
     "name": "stdout",
     "output_type": "stream",
     "text": [
      "Wall time: 0 ns\n"
     ]
    }
   ],
   "source": [
    "%%time\n",
    "\n",
    "# {'verbose': False, 'random_state': 112263, 'learning_rate': 0.5}\n",
    "# Рассчет времени и RMSE на кросс валидации\n",
    "\n",
    "# model_cbr = CatBoostRegressor(learning_rate=0.5, verbose=False, random_state=rs)\n",
    "# model_cbr.fit(train_features_cv, train_target_cv)"
   ]
  },
  {
   "cell_type": "code",
   "execution_count": 117,
   "metadata": {
    "scrolled": true
   },
   "outputs": [],
   "source": [
    "# %%time\n",
    "\n",
    "# target_predict = model_cbr.predict(train_features_cv)\n",
    "# rmse_cbr_cv = mse(train_target_cv, target_predict) ** 0.5\n",
    "# rmse_cbr_cv"
   ]
  },
  {
   "cell_type": "code",
   "execution_count": 118,
   "metadata": {},
   "outputs": [
    {
     "name": "stdout",
     "output_type": "stream",
     "text": [
      "Wall time: 50.8 s\n"
     ]
    }
   ],
   "source": [
    "%%time\n",
    "\n",
    "parameters = [{'learning_rate': [.5,], 'verbose': [False],'random_state':[112263]}]\n",
    "rscv = RandomizedSearchCV(model_cbr, parameters, scoring='neg_mean_squared_error')\n",
    "rscv.fit(train_features_cv, train_target_cv);\n",
    "\n",
    "mts = rscv.cv_results_['mean_test_score']\n",
    "\n",
    "rmse_cbr_cv = (max(mts) * -1) ** 0.5"
   ]
  },
  {
   "cell_type": "code",
   "execution_count": 119,
   "metadata": {
    "scrolled": true
   },
   "outputs": [
    {
     "name": "stdout",
     "output_type": "stream",
     "text": [
      "Wall time: 35.3 ms\n"
     ]
    },
    {
     "data": {
      "text/plain": [
       "array([ 770.05365036, 1451.61240392, 6534.6979378 , ..., 1525.1547676 ,\n",
       "       1022.20467096, 4836.82046379])"
      ]
     },
     "execution_count": 119,
     "metadata": {},
     "output_type": "execute_result"
    }
   ],
   "source": [
    "%%time\n",
    "rscv.predict(train_features_cv);"
   ]
  },
  {
   "cell_type": "code",
   "execution_count": 120,
   "metadata": {},
   "outputs": [
    {
     "name": "stdout",
     "output_type": "stream",
     "text": [
      "CatBoostRegressor\n",
      "==================================================\n",
      "При лучших гиперпараметрах: \n",
      "{'verbose': False, 'random_state': 112263, 'learning_rate': 0.5}\n",
      "==================================================\n",
      "Время обучения модели:     49.5 s\n",
      "Время предсказания модели: 0.032 s\n",
      "RMSE модели:               1299.0\n"
     ]
    }
   ],
   "source": [
    "print('CatBoostRegressor')\n",
    "print('=='*25)\n",
    "print(f'При лучших гиперпараметрах: \\n{rscv.best_params_}')\n",
    "print('=='*25)\n",
    "print(f'Время обучения модели:     49.5 s')\n",
    "print(f'Время предсказания модели: 0.032 s')\n",
    "print(f'RMSE модели:               {rmse_cbr_cv.round(0)}')"
   ]
  },
  {
   "cell_type": "code",
   "execution_count": null,
   "metadata": {},
   "outputs": [],
   "source": []
  },
  {
   "cell_type": "markdown",
   "metadata": {},
   "source": [
    "### LGBMRegressor"
   ]
  },
  {
   "cell_type": "code",
   "execution_count": 121,
   "metadata": {},
   "outputs": [],
   "source": [
    "# %%time\n",
    "\n",
    "# {'random_state': 112263, 'num_leaves': 200, 'learning_rate': 0.1}\n",
    "# Рассчет времени и RMSE на кросс валидации\n",
    "\n",
    "\n",
    "# model_lgbmr = LGBMRegressor(learning_rate=0.1, num_leaves=200, random_state=rs)\n",
    "# model_lgbmr.fit(train_features_cv, train_target_cv)"
   ]
  },
  {
   "cell_type": "code",
   "execution_count": 122,
   "metadata": {},
   "outputs": [],
   "source": [
    "# %%time\n",
    "\n",
    "# target_predict = model_lgbmr.predict(train_features_cv)\n",
    "# rmse_lgbmr_cv = mse(train_target_cv, target_predict) ** 0.5\n",
    "# rmse_lgbmr_cv"
   ]
  },
  {
   "cell_type": "code",
   "execution_count": 123,
   "metadata": {},
   "outputs": [
    {
     "name": "stdout",
     "output_type": "stream",
     "text": [
      "Wall time: 9.44 s\n"
     ]
    }
   ],
   "source": [
    "%%time\n",
    "\n",
    "parameters = [{'learning_rate': [.1], 'num_leaves':[200],'random_state':[112263]}]\n",
    "rscv = RandomizedSearchCV(model_lgbmr, parameters, scoring='neg_mean_squared_error')\n",
    "rscv.fit(train_features_cv, train_target_cv);\n",
    "\n",
    "mts = rscv.cv_results_['mean_test_score']\n",
    "\n",
    "rmse_lgbmr_cv = (max(mts) * -1) ** 0.5"
   ]
  },
  {
   "cell_type": "code",
   "execution_count": 124,
   "metadata": {},
   "outputs": [
    {
     "name": "stdout",
     "output_type": "stream",
     "text": [
      "Wall time: 153 ms\n"
     ]
    },
    {
     "data": {
      "text/plain": [
       "array([1070.97072729, 1502.91568299, 6401.42452566, ..., 1385.69369938,\n",
       "       1091.43974735, 5102.11889075])"
      ]
     },
     "execution_count": 124,
     "metadata": {},
     "output_type": "execute_result"
    }
   ],
   "source": [
    "%%time\n",
    "rscv.predict(train_features_cv);"
   ]
  },
  {
   "cell_type": "code",
   "execution_count": 125,
   "metadata": {},
   "outputs": [
    {
     "name": "stdout",
     "output_type": "stream",
     "text": [
      "LGBMRegressor\n",
      "==================================================\n",
      "При лучших гиперпараметрах: \n",
      "{'random_state': 112263, 'num_leaves': 200, 'learning_rate': 0.1}\n",
      "==================================================\n",
      "Время обучения модели:     9.21 s\n",
      "Время предсказания модели: 0.142 s\n",
      "RMSE модели:               1294.0\n"
     ]
    }
   ],
   "source": [
    "print('LGBMRegressor')\n",
    "print('=='*25)\n",
    "print(f'При лучших гиперпараметрах: \\n{rscv.best_params_}')\n",
    "print('=='*25)\n",
    "print(f'Время обучения модели:     9.21 s')\n",
    "print(f'Время предсказания модели: 0.142 s')\n",
    "print(f'RMSE модели:               {rmse_lgbmr_cv.round(0)}')"
   ]
  },
  {
   "cell_type": "code",
   "execution_count": 126,
   "metadata": {
    "scrolled": true
   },
   "outputs": [
    {
     "data": {
      "text/html": [
       "<div>\n",
       "<style scoped>\n",
       "    .dataframe tbody tr th:only-of-type {\n",
       "        vertical-align: middle;\n",
       "    }\n",
       "\n",
       "    .dataframe tbody tr th {\n",
       "        vertical-align: top;\n",
       "    }\n",
       "\n",
       "    .dataframe thead th {\n",
       "        text-align: right;\n",
       "    }\n",
       "</style>\n",
       "<table border=\"1\" class=\"dataframe\">\n",
       "  <thead>\n",
       "    <tr style=\"text-align: right;\">\n",
       "      <th></th>\n",
       "      <th>RMSE</th>\n",
       "      <th>fit time</th>\n",
       "      <th>predict time</th>\n",
       "      <th>rating</th>\n",
       "    </tr>\n",
       "  </thead>\n",
       "  <tbody>\n",
       "    <tr>\n",
       "      <th>LGBMRegressor</th>\n",
       "      <td>1293.974743</td>\n",
       "      <td>9.210</td>\n",
       "      <td>0.142</td>\n",
       "      <td>443.037572</td>\n",
       "    </tr>\n",
       "    <tr>\n",
       "      <th>CatBoostRegressor</th>\n",
       "      <td>1299.389916</td>\n",
       "      <td>49.500</td>\n",
       "      <td>0.032</td>\n",
       "      <td>458.138131</td>\n",
       "    </tr>\n",
       "    <tr>\n",
       "      <th>DecisionTreeRegressor</th>\n",
       "      <td>1618.797928</td>\n",
       "      <td>1.040</td>\n",
       "      <td>0.015</td>\n",
       "      <td>550.739446</td>\n",
       "    </tr>\n",
       "    <tr>\n",
       "      <th>LinearRegression</th>\n",
       "      <td>1956.315192</td>\n",
       "      <td>0.978</td>\n",
       "      <td>0.634</td>\n",
       "      <td>665.679125</td>\n",
       "    </tr>\n",
       "  </tbody>\n",
       "</table>\n",
       "</div>"
      ],
      "text/plain": [
       "                              RMSE  fit time  predict time      rating\n",
       "LGBMRegressor          1293.974743     9.210         0.142  443.037572\n",
       "CatBoostRegressor      1299.389916    49.500         0.032  458.138131\n",
       "DecisionTreeRegressor  1618.797928     1.040         0.015  550.739446\n",
       "LinearRegression       1956.315192     0.978         0.634  665.679125"
      ]
     },
     "execution_count": 126,
     "metadata": {},
     "output_type": "execute_result"
    }
   ],
   "source": [
    "# Сводный датафрейм рейтинга моделей с учетом равных критериев к отбору по скорости обучения, предсказания и точности\n",
    "\n",
    "\n",
    "index = ['LinearRegression',\n",
    "         'DecisionTreeRegressor',\n",
    "         'CatBoostRegressor',\n",
    "         'LGBMRegressor']\n",
    "\n",
    "data = {'RMSE': [rmse_lr_valid, rmse_dtr_cv, rmse_cbr_cv, rmse_lgbmr_cv],\n",
    "        'fit time': [0.978, 1.04, 49.5, 9.21],        \n",
    "        'predict time': [0.634, 0.015, 0.032, 0.142]}\n",
    "\n",
    "# Вес критериев равный\n",
    "rating = pd.DataFrame(data=data, index=index)\n",
    "rating['rating'] = (rating['RMSE'] * 0.34 \\\n",
    "                       + rating['fit time'] * 0.33 \\\n",
    "                       + rating['predict time'] * 0.33)\n",
    "\n",
    "rating.sort_values(by='rating')"
   ]
  },
  {
   "cell_type": "markdown",
   "metadata": {},
   "source": [
    "***Переписать выводы и коментарии к изменениям***"
   ]
  },
  {
   "cell_type": "markdown",
   "metadata": {},
   "source": [
    "Модель `LGBMRegressor` показала наилучший результат среду других прочих моделей по скорости обучния и предсказаниях на кроссвалидации - `9.21 и 0.142 секунды` соответственно, `RMSE модели составил 1293`"
   ]
  },
  {
   "cell_type": "markdown",
   "metadata": {},
   "source": [
    "## Тестирование лучшей модели"
   ]
  },
  {
   "cell_type": "code",
   "execution_count": 127,
   "metadata": {},
   "outputs": [
    {
     "name": "stdout",
     "output_type": "stream",
     "text": [
      "Wall time: 9.65 s\n"
     ]
    }
   ],
   "source": [
    "%%time\n",
    "\n",
    "parameters = [{'learning_rate': [.1], 'num_leaves':[200],'random_state':[112263]}]\n",
    "rscv = RandomizedSearchCV(model_lgbmr, parameters, scoring='neg_mean_squared_error')\n",
    "rscv.fit(train_features_cv, train_target_cv);\n",
    "\n",
    "mts = rscv.cv_results_['mean_test_score']\n",
    "\n",
    "rmse_lgbmr_test = (max(mts) * -1) ** 0.5"
   ]
  },
  {
   "cell_type": "code",
   "execution_count": 128,
   "metadata": {},
   "outputs": [
    {
     "name": "stdout",
     "output_type": "stream",
     "text": [
      "Wall time: 68 ms\n"
     ]
    },
    {
     "data": {
      "text/plain": [
       "array([13089.19450794,   911.1352648 ,  1604.16891371, ...,\n",
       "         603.80099779, 10095.62533268,  4038.03146611])"
      ]
     },
     "execution_count": 128,
     "metadata": {},
     "output_type": "execute_result"
    }
   ],
   "source": [
    "%%time\n",
    "rscv.predict(test_features_cv);"
   ]
  },
  {
   "cell_type": "code",
   "execution_count": 129,
   "metadata": {},
   "outputs": [
    {
     "name": "stdout",
     "output_type": "stream",
     "text": [
      "LGBMRegressor\n",
      "==================================================\n",
      "При лучших гиперпараметрах: \n",
      "{'random_state': 112263, 'num_leaves': 200, 'learning_rate': 0.1}\n",
      "==================================================\n",
      "Время обучения модели:     9.27 s\n",
      "Время предсказания модели: 0.073 s\n",
      "RMSE модели:               1294.0\n"
     ]
    }
   ],
   "source": [
    "print('LGBMRegressor')\n",
    "print('=='*25)\n",
    "print(f'При лучших гиперпараметрах: \\n{rscv.best_params_}')\n",
    "print('=='*25)\n",
    "print(f'Время обучения модели:     9.27 s')\n",
    "print(f'Время предсказания модели: 0.073 s')\n",
    "print(f'RMSE модели:               {rmse_lgbmr_test.round(0)}')"
   ]
  },
  {
   "cell_type": "markdown",
   "metadata": {},
   "source": [
    "## Вывод"
   ]
  },
  {
   "cell_type": "markdown",
   "metadata": {},
   "source": [
    "Была проведена работа по разработке модели, которая умеет определять рыночную стоимость автомобиля на основе данные о технических характеристиках, комплектации и ценах автомобилей.\n",
    "\n",
    "Важными критериями к модели были обозначены `качество предсказания, время обучения и время предсказания.`\n",
    "\n",
    "В ходе предобработки данных были устранены дупликаты, некоторые пропуски, данные, не влияющие на показатель цены. Процент обучающих данных от исходных составил 64%, насчитывая порядка `230 тыс. записей`, что является достаточным количеством\n",
    "\n",
    "По итогам качества и скорости обучения на тестовых данных победила модель `LightGBM (RMSE: 1294)`при скорости обучения и предсказании модели за `9.27 и 0.073 секунды` соответственно.\n",
    "\n",
    "Таким образом смело можно рекомендовать модель LGBMRegressor, так как при лучшием показателяе RMSE, модель достигает результата с значительно меньшими времеными затратами"
   ]
  }
 ],
 "metadata": {
  "kernelspec": {
   "display_name": "Python 3 (ipykernel)",
   "language": "python",
   "name": "python3"
  },
  "language_info": {
   "codemirror_mode": {
    "name": "ipython",
    "version": 3
   },
   "file_extension": ".py",
   "mimetype": "text/x-python",
   "name": "python",
   "nbconvert_exporter": "python",
   "pygments_lexer": "ipython3",
   "version": "3.9.13"
  },
  "toc": {
   "base_numbering": 1,
   "nav_menu": {},
   "number_sections": true,
   "sideBar": true,
   "skip_h1_title": true,
   "title_cell": "Table of Contents",
   "title_sidebar": "Contents",
   "toc_cell": false,
   "toc_position": {
    "height": "calc(100% - 180px)",
    "left": "10px",
    "top": "150px",
    "width": "317.4px"
   },
   "toc_section_display": true,
   "toc_window_display": true
  }
 },
 "nbformat": 4,
 "nbformat_minor": 2
}
