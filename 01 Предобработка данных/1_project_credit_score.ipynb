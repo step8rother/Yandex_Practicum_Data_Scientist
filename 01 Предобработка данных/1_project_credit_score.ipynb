{
 "cells": [
  {
   "cell_type": "markdown",
   "id": "462e65ad",
   "metadata": {
    "deletable": false,
    "editable": false,
    "id": "c81daeeb"
   },
   "source": [
    "# Исследование надежности заемщиков\n"
   ]
  },
  {
   "cell_type": "markdown",
   "id": "176cb45a",
   "metadata": {
    "deletable": false,
    "editable": false,
    "id": "827c20bf"
   },
   "source": [
    "Во второй части проекта вы выполните шаги 3 и 4. Их вручную проверит ревьюер.\n",
    "Чтобы вам не пришлось писать код заново для шагов 1 и 2, мы добавили авторские решения в ячейки с кодом. \n",
    "\n"
   ]
  },
  {
   "cell_type": "markdown",
   "id": "59825327",
   "metadata": {
    "deletable": false,
    "editable": false,
    "id": "744d7639"
   },
   "source": [
    "## Откройте таблицу и изучите общую информацию о данных"
   ]
  },
  {
   "cell_type": "markdown",
   "id": "d3dbc8dc",
   "metadata": {
    "deletable": false,
    "editable": false,
    "id": "e7a14c31"
   },
   "source": [
    "**Задание 1. Импортируйте библиотеку pandas. Считайте данные из csv-файла в датафрейм и сохраните в переменную `data`. Путь к файлу:**\n",
    "\n",
    "`/datasets/data.csv`"
   ]
  },
  {
   "cell_type": "code",
   "execution_count": 1,
   "id": "605804e1",
   "metadata": {},
   "outputs": [],
   "source": [
    "import pandas as pd"
   ]
  },
  {
   "cell_type": "code",
   "execution_count": 2,
   "id": "57d29a60",
   "metadata": {
    "deletable": false,
    "id": "7bcf75c9"
   },
   "outputs": [],
   "source": [
    "try:\n",
    "    data = pd.read_csv('data.csv')\n",
    "except:\n",
    "    data = pd.read_csv('https://code.s3.yandex.net/datasets/data.csv')\n"
   ]
  },
  {
   "cell_type": "markdown",
   "id": "2265b7a3",
   "metadata": {
    "deletable": false,
    "editable": false,
    "id": "b8038fe3"
   },
   "source": [
    "**Задание 2. Выведите первые 20 строчек датафрейма `data` на экран.**"
   ]
  },
  {
   "cell_type": "code",
   "execution_count": 2,
   "id": "7141359b",
   "metadata": {
    "deletable": false,
    "id": "2a7cab99",
    "outputId": "1a8f3ef2-d323-4ec2-ddf7-89670b5944c4"
   },
   "outputs": [
    {
     "data": {
      "text/html": [
       "<div>\n",
       "<style scoped>\n",
       "    .dataframe tbody tr th:only-of-type {\n",
       "        vertical-align: middle;\n",
       "    }\n",
       "\n",
       "    .dataframe tbody tr th {\n",
       "        vertical-align: top;\n",
       "    }\n",
       "\n",
       "    .dataframe thead th {\n",
       "        text-align: right;\n",
       "    }\n",
       "</style>\n",
       "<table border=\"1\" class=\"dataframe\">\n",
       "  <thead>\n",
       "    <tr style=\"text-align: right;\">\n",
       "      <th></th>\n",
       "      <th>children</th>\n",
       "      <th>days_employed</th>\n",
       "      <th>dob_years</th>\n",
       "      <th>education</th>\n",
       "      <th>education_id</th>\n",
       "      <th>family_status</th>\n",
       "      <th>family_status_id</th>\n",
       "      <th>gender</th>\n",
       "      <th>income_type</th>\n",
       "      <th>debt</th>\n",
       "      <th>total_income</th>\n",
       "      <th>purpose</th>\n",
       "    </tr>\n",
       "  </thead>\n",
       "  <tbody>\n",
       "    <tr>\n",
       "      <th>0</th>\n",
       "      <td>1</td>\n",
       "      <td>-8437.673028</td>\n",
       "      <td>42</td>\n",
       "      <td>высшее</td>\n",
       "      <td>0</td>\n",
       "      <td>женат / замужем</td>\n",
       "      <td>0</td>\n",
       "      <td>F</td>\n",
       "      <td>сотрудник</td>\n",
       "      <td>0</td>\n",
       "      <td>253875.639453</td>\n",
       "      <td>покупка жилья</td>\n",
       "    </tr>\n",
       "    <tr>\n",
       "      <th>1</th>\n",
       "      <td>1</td>\n",
       "      <td>-4024.803754</td>\n",
       "      <td>36</td>\n",
       "      <td>среднее</td>\n",
       "      <td>1</td>\n",
       "      <td>женат / замужем</td>\n",
       "      <td>0</td>\n",
       "      <td>F</td>\n",
       "      <td>сотрудник</td>\n",
       "      <td>0</td>\n",
       "      <td>112080.014102</td>\n",
       "      <td>приобретение автомобиля</td>\n",
       "    </tr>\n",
       "    <tr>\n",
       "      <th>2</th>\n",
       "      <td>0</td>\n",
       "      <td>-5623.422610</td>\n",
       "      <td>33</td>\n",
       "      <td>Среднее</td>\n",
       "      <td>1</td>\n",
       "      <td>женат / замужем</td>\n",
       "      <td>0</td>\n",
       "      <td>M</td>\n",
       "      <td>сотрудник</td>\n",
       "      <td>0</td>\n",
       "      <td>145885.952297</td>\n",
       "      <td>покупка жилья</td>\n",
       "    </tr>\n",
       "    <tr>\n",
       "      <th>3</th>\n",
       "      <td>3</td>\n",
       "      <td>-4124.747207</td>\n",
       "      <td>32</td>\n",
       "      <td>среднее</td>\n",
       "      <td>1</td>\n",
       "      <td>женат / замужем</td>\n",
       "      <td>0</td>\n",
       "      <td>M</td>\n",
       "      <td>сотрудник</td>\n",
       "      <td>0</td>\n",
       "      <td>267628.550329</td>\n",
       "      <td>дополнительное образование</td>\n",
       "    </tr>\n",
       "    <tr>\n",
       "      <th>4</th>\n",
       "      <td>0</td>\n",
       "      <td>340266.072047</td>\n",
       "      <td>53</td>\n",
       "      <td>среднее</td>\n",
       "      <td>1</td>\n",
       "      <td>гражданский брак</td>\n",
       "      <td>1</td>\n",
       "      <td>F</td>\n",
       "      <td>пенсионер</td>\n",
       "      <td>0</td>\n",
       "      <td>158616.077870</td>\n",
       "      <td>сыграть свадьбу</td>\n",
       "    </tr>\n",
       "    <tr>\n",
       "      <th>5</th>\n",
       "      <td>0</td>\n",
       "      <td>-926.185831</td>\n",
       "      <td>27</td>\n",
       "      <td>высшее</td>\n",
       "      <td>0</td>\n",
       "      <td>гражданский брак</td>\n",
       "      <td>1</td>\n",
       "      <td>M</td>\n",
       "      <td>компаньон</td>\n",
       "      <td>0</td>\n",
       "      <td>255763.565419</td>\n",
       "      <td>покупка жилья</td>\n",
       "    </tr>\n",
       "    <tr>\n",
       "      <th>6</th>\n",
       "      <td>0</td>\n",
       "      <td>-2879.202052</td>\n",
       "      <td>43</td>\n",
       "      <td>высшее</td>\n",
       "      <td>0</td>\n",
       "      <td>женат / замужем</td>\n",
       "      <td>0</td>\n",
       "      <td>F</td>\n",
       "      <td>компаньон</td>\n",
       "      <td>0</td>\n",
       "      <td>240525.971920</td>\n",
       "      <td>операции с жильем</td>\n",
       "    </tr>\n",
       "    <tr>\n",
       "      <th>7</th>\n",
       "      <td>0</td>\n",
       "      <td>-152.779569</td>\n",
       "      <td>50</td>\n",
       "      <td>СРЕДНЕЕ</td>\n",
       "      <td>1</td>\n",
       "      <td>женат / замужем</td>\n",
       "      <td>0</td>\n",
       "      <td>M</td>\n",
       "      <td>сотрудник</td>\n",
       "      <td>0</td>\n",
       "      <td>135823.934197</td>\n",
       "      <td>образование</td>\n",
       "    </tr>\n",
       "    <tr>\n",
       "      <th>8</th>\n",
       "      <td>2</td>\n",
       "      <td>-6929.865299</td>\n",
       "      <td>35</td>\n",
       "      <td>ВЫСШЕЕ</td>\n",
       "      <td>0</td>\n",
       "      <td>гражданский брак</td>\n",
       "      <td>1</td>\n",
       "      <td>F</td>\n",
       "      <td>сотрудник</td>\n",
       "      <td>0</td>\n",
       "      <td>95856.832424</td>\n",
       "      <td>на проведение свадьбы</td>\n",
       "    </tr>\n",
       "    <tr>\n",
       "      <th>9</th>\n",
       "      <td>0</td>\n",
       "      <td>-2188.756445</td>\n",
       "      <td>41</td>\n",
       "      <td>среднее</td>\n",
       "      <td>1</td>\n",
       "      <td>женат / замужем</td>\n",
       "      <td>0</td>\n",
       "      <td>M</td>\n",
       "      <td>сотрудник</td>\n",
       "      <td>0</td>\n",
       "      <td>144425.938277</td>\n",
       "      <td>покупка жилья для семьи</td>\n",
       "    </tr>\n",
       "    <tr>\n",
       "      <th>10</th>\n",
       "      <td>2</td>\n",
       "      <td>-4171.483647</td>\n",
       "      <td>36</td>\n",
       "      <td>высшее</td>\n",
       "      <td>0</td>\n",
       "      <td>женат / замужем</td>\n",
       "      <td>0</td>\n",
       "      <td>M</td>\n",
       "      <td>компаньон</td>\n",
       "      <td>0</td>\n",
       "      <td>113943.491460</td>\n",
       "      <td>покупка недвижимости</td>\n",
       "    </tr>\n",
       "    <tr>\n",
       "      <th>11</th>\n",
       "      <td>0</td>\n",
       "      <td>-792.701887</td>\n",
       "      <td>40</td>\n",
       "      <td>среднее</td>\n",
       "      <td>1</td>\n",
       "      <td>женат / замужем</td>\n",
       "      <td>0</td>\n",
       "      <td>F</td>\n",
       "      <td>сотрудник</td>\n",
       "      <td>0</td>\n",
       "      <td>77069.234271</td>\n",
       "      <td>покупка коммерческой недвижимости</td>\n",
       "    </tr>\n",
       "    <tr>\n",
       "      <th>12</th>\n",
       "      <td>0</td>\n",
       "      <td>NaN</td>\n",
       "      <td>65</td>\n",
       "      <td>среднее</td>\n",
       "      <td>1</td>\n",
       "      <td>гражданский брак</td>\n",
       "      <td>1</td>\n",
       "      <td>M</td>\n",
       "      <td>пенсионер</td>\n",
       "      <td>0</td>\n",
       "      <td>NaN</td>\n",
       "      <td>сыграть свадьбу</td>\n",
       "    </tr>\n",
       "    <tr>\n",
       "      <th>13</th>\n",
       "      <td>0</td>\n",
       "      <td>-1846.641941</td>\n",
       "      <td>54</td>\n",
       "      <td>неоконченное высшее</td>\n",
       "      <td>2</td>\n",
       "      <td>женат / замужем</td>\n",
       "      <td>0</td>\n",
       "      <td>F</td>\n",
       "      <td>сотрудник</td>\n",
       "      <td>0</td>\n",
       "      <td>130458.228857</td>\n",
       "      <td>приобретение автомобиля</td>\n",
       "    </tr>\n",
       "    <tr>\n",
       "      <th>14</th>\n",
       "      <td>0</td>\n",
       "      <td>-1844.956182</td>\n",
       "      <td>56</td>\n",
       "      <td>высшее</td>\n",
       "      <td>0</td>\n",
       "      <td>гражданский брак</td>\n",
       "      <td>1</td>\n",
       "      <td>F</td>\n",
       "      <td>компаньон</td>\n",
       "      <td>1</td>\n",
       "      <td>165127.911772</td>\n",
       "      <td>покупка жилой недвижимости</td>\n",
       "    </tr>\n",
       "    <tr>\n",
       "      <th>15</th>\n",
       "      <td>1</td>\n",
       "      <td>-972.364419</td>\n",
       "      <td>26</td>\n",
       "      <td>среднее</td>\n",
       "      <td>1</td>\n",
       "      <td>женат / замужем</td>\n",
       "      <td>0</td>\n",
       "      <td>F</td>\n",
       "      <td>сотрудник</td>\n",
       "      <td>0</td>\n",
       "      <td>116820.904450</td>\n",
       "      <td>строительство собственной недвижимости</td>\n",
       "    </tr>\n",
       "    <tr>\n",
       "      <th>16</th>\n",
       "      <td>0</td>\n",
       "      <td>-1719.934226</td>\n",
       "      <td>35</td>\n",
       "      <td>среднее</td>\n",
       "      <td>1</td>\n",
       "      <td>женат / замужем</td>\n",
       "      <td>0</td>\n",
       "      <td>F</td>\n",
       "      <td>сотрудник</td>\n",
       "      <td>0</td>\n",
       "      <td>289202.704229</td>\n",
       "      <td>недвижимость</td>\n",
       "    </tr>\n",
       "    <tr>\n",
       "      <th>17</th>\n",
       "      <td>0</td>\n",
       "      <td>-2369.999720</td>\n",
       "      <td>33</td>\n",
       "      <td>высшее</td>\n",
       "      <td>0</td>\n",
       "      <td>гражданский брак</td>\n",
       "      <td>1</td>\n",
       "      <td>M</td>\n",
       "      <td>сотрудник</td>\n",
       "      <td>0</td>\n",
       "      <td>90410.586745</td>\n",
       "      <td>строительство недвижимости</td>\n",
       "    </tr>\n",
       "    <tr>\n",
       "      <th>18</th>\n",
       "      <td>0</td>\n",
       "      <td>400281.136913</td>\n",
       "      <td>53</td>\n",
       "      <td>среднее</td>\n",
       "      <td>1</td>\n",
       "      <td>вдовец / вдова</td>\n",
       "      <td>2</td>\n",
       "      <td>F</td>\n",
       "      <td>пенсионер</td>\n",
       "      <td>0</td>\n",
       "      <td>56823.777243</td>\n",
       "      <td>на покупку подержанного автомобиля</td>\n",
       "    </tr>\n",
       "    <tr>\n",
       "      <th>19</th>\n",
       "      <td>0</td>\n",
       "      <td>-10038.818549</td>\n",
       "      <td>48</td>\n",
       "      <td>СРЕДНЕЕ</td>\n",
       "      <td>1</td>\n",
       "      <td>в разводе</td>\n",
       "      <td>3</td>\n",
       "      <td>F</td>\n",
       "      <td>сотрудник</td>\n",
       "      <td>0</td>\n",
       "      <td>242831.107982</td>\n",
       "      <td>на покупку своего автомобиля</td>\n",
       "    </tr>\n",
       "  </tbody>\n",
       "</table>\n",
       "</div>"
      ],
      "text/plain": [
       "    children  days_employed  dob_years            education  education_id  \\\n",
       "0          1   -8437.673028         42               высшее             0   \n",
       "1          1   -4024.803754         36              среднее             1   \n",
       "2          0   -5623.422610         33              Среднее             1   \n",
       "3          3   -4124.747207         32              среднее             1   \n",
       "4          0  340266.072047         53              среднее             1   \n",
       "5          0    -926.185831         27               высшее             0   \n",
       "6          0   -2879.202052         43               высшее             0   \n",
       "7          0    -152.779569         50              СРЕДНЕЕ             1   \n",
       "8          2   -6929.865299         35               ВЫСШЕЕ             0   \n",
       "9          0   -2188.756445         41              среднее             1   \n",
       "10         2   -4171.483647         36               высшее             0   \n",
       "11         0    -792.701887         40              среднее             1   \n",
       "12         0            NaN         65              среднее             1   \n",
       "13         0   -1846.641941         54  неоконченное высшее             2   \n",
       "14         0   -1844.956182         56               высшее             0   \n",
       "15         1    -972.364419         26              среднее             1   \n",
       "16         0   -1719.934226         35              среднее             1   \n",
       "17         0   -2369.999720         33               высшее             0   \n",
       "18         0  400281.136913         53              среднее             1   \n",
       "19         0  -10038.818549         48              СРЕДНЕЕ             1   \n",
       "\n",
       "       family_status  family_status_id gender income_type  debt  \\\n",
       "0    женат / замужем                 0      F   сотрудник     0   \n",
       "1    женат / замужем                 0      F   сотрудник     0   \n",
       "2    женат / замужем                 0      M   сотрудник     0   \n",
       "3    женат / замужем                 0      M   сотрудник     0   \n",
       "4   гражданский брак                 1      F   пенсионер     0   \n",
       "5   гражданский брак                 1      M   компаньон     0   \n",
       "6    женат / замужем                 0      F   компаньон     0   \n",
       "7    женат / замужем                 0      M   сотрудник     0   \n",
       "8   гражданский брак                 1      F   сотрудник     0   \n",
       "9    женат / замужем                 0      M   сотрудник     0   \n",
       "10   женат / замужем                 0      M   компаньон     0   \n",
       "11   женат / замужем                 0      F   сотрудник     0   \n",
       "12  гражданский брак                 1      M   пенсионер     0   \n",
       "13   женат / замужем                 0      F   сотрудник     0   \n",
       "14  гражданский брак                 1      F   компаньон     1   \n",
       "15   женат / замужем                 0      F   сотрудник     0   \n",
       "16   женат / замужем                 0      F   сотрудник     0   \n",
       "17  гражданский брак                 1      M   сотрудник     0   \n",
       "18    вдовец / вдова                 2      F   пенсионер     0   \n",
       "19         в разводе                 3      F   сотрудник     0   \n",
       "\n",
       "     total_income                                 purpose  \n",
       "0   253875.639453                           покупка жилья  \n",
       "1   112080.014102                 приобретение автомобиля  \n",
       "2   145885.952297                           покупка жилья  \n",
       "3   267628.550329              дополнительное образование  \n",
       "4   158616.077870                         сыграть свадьбу  \n",
       "5   255763.565419                           покупка жилья  \n",
       "6   240525.971920                       операции с жильем  \n",
       "7   135823.934197                             образование  \n",
       "8    95856.832424                   на проведение свадьбы  \n",
       "9   144425.938277                 покупка жилья для семьи  \n",
       "10  113943.491460                    покупка недвижимости  \n",
       "11   77069.234271       покупка коммерческой недвижимости  \n",
       "12            NaN                         сыграть свадьбу  \n",
       "13  130458.228857                 приобретение автомобиля  \n",
       "14  165127.911772              покупка жилой недвижимости  \n",
       "15  116820.904450  строительство собственной недвижимости  \n",
       "16  289202.704229                            недвижимость  \n",
       "17   90410.586745              строительство недвижимости  \n",
       "18   56823.777243      на покупку подержанного автомобиля  \n",
       "19  242831.107982            на покупку своего автомобиля  "
      ]
     },
     "execution_count": 2,
     "metadata": {},
     "output_type": "execute_result"
    }
   ],
   "source": [
    "data.head(20)"
   ]
  },
  {
   "cell_type": "markdown",
   "id": "fc94f7ce",
   "metadata": {
    "deletable": false,
    "editable": false,
    "id": "1c12e233"
   },
   "source": [
    "**Задание 3. Выведите основную информацию о датафрейме с помощью метода `info()`.**"
   ]
  },
  {
   "cell_type": "code",
   "execution_count": 3,
   "id": "ecc71696",
   "metadata": {
    "deletable": false,
    "id": "2b757bca",
    "outputId": "15376089-8dad-46c9-b520-c05248d43158"
   },
   "outputs": [
    {
     "name": "stdout",
     "output_type": "stream",
     "text": [
      "<class 'pandas.core.frame.DataFrame'>\n",
      "RangeIndex: 21525 entries, 0 to 21524\n",
      "Data columns (total 12 columns):\n",
      " #   Column            Non-Null Count  Dtype  \n",
      "---  ------            --------------  -----  \n",
      " 0   children          21525 non-null  int64  \n",
      " 1   days_employed     19351 non-null  float64\n",
      " 2   dob_years         21525 non-null  int64  \n",
      " 3   education         21525 non-null  object \n",
      " 4   education_id      21525 non-null  int64  \n",
      " 5   family_status     21525 non-null  object \n",
      " 6   family_status_id  21525 non-null  int64  \n",
      " 7   gender            21525 non-null  object \n",
      " 8   income_type       21525 non-null  object \n",
      " 9   debt              21525 non-null  int64  \n",
      " 10  total_income      19351 non-null  float64\n",
      " 11  purpose           21525 non-null  object \n",
      "dtypes: float64(2), int64(5), object(5)\n",
      "memory usage: 2.0+ MB\n"
     ]
    }
   ],
   "source": [
    "data.info()"
   ]
  },
  {
   "cell_type": "markdown",
   "id": "6ced4e1a",
   "metadata": {
    "deletable": false,
    "editable": false,
    "id": "333ec665"
   },
   "source": [
    "## Предобработка данных"
   ]
  },
  {
   "cell_type": "markdown",
   "id": "221ec7d2",
   "metadata": {
    "deletable": false,
    "editable": false,
    "id": "02d92d53"
   },
   "source": [
    "### Удаление пропусков"
   ]
  },
  {
   "cell_type": "markdown",
   "id": "ca09991a",
   "metadata": {
    "deletable": false,
    "editable": false,
    "id": "cd84967c"
   },
   "source": [
    "**Задание 4. Выведите количество пропущенных значений для каждого столбца. Используйте комбинацию двух методов.**"
   ]
  },
  {
   "cell_type": "code",
   "execution_count": 4,
   "id": "e77fd95a",
   "metadata": {
    "deletable": false,
    "id": "7f9b2309",
    "outputId": "81f4d817-781c-465c-ed15-91ce4446810d"
   },
   "outputs": [
    {
     "data": {
      "text/plain": [
       "children               0\n",
       "days_employed       2174\n",
       "dob_years              0\n",
       "education              0\n",
       "education_id           0\n",
       "family_status          0\n",
       "family_status_id       0\n",
       "gender                 0\n",
       "income_type            0\n",
       "debt                   0\n",
       "total_income        2174\n",
       "purpose                0\n",
       "dtype: int64"
      ]
     },
     "execution_count": 4,
     "metadata": {},
     "output_type": "execute_result"
    }
   ],
   "source": [
    "data.isna().sum()"
   ]
  },
  {
   "cell_type": "markdown",
   "id": "9f5c1884",
   "metadata": {
    "deletable": false,
    "editable": false,
    "id": "db86e27b"
   },
   "source": [
    "**Задание 5. В двух столбцах есть пропущенные значения. Один из них — `days_employed`. Пропуски в этом столбце вы обработаете на следующем этапе. Другой столбец с пропущенными значениями — `total_income` — хранит данные о доходах. На сумму дохода сильнее всего влияет тип занятости, поэтому заполнить пропуски в этом столбце нужно медианным значением по каждому типу из столбца `income_type`. Например, у человека с типом занятости `сотрудник` пропуск в столбце `total_income` должен быть заполнен медианным доходом среди всех записей с тем же типом.**"
   ]
  },
  {
   "cell_type": "code",
   "execution_count": 5,
   "id": "a88fcfc3",
   "metadata": {
    "deletable": false,
    "id": "42006a93"
   },
   "outputs": [],
   "source": [
    "for n in data['income_type'].unique():\n",
    "    data.loc[(data['income_type'] == n) & (data['total_income'].isna()), 'total_income'] = data.loc[(data['income_type'] == n), 'total_income'].median()"
   ]
  },
  {
   "cell_type": "markdown",
   "id": "c9a87a29",
   "metadata": {
    "deletable": false,
    "editable": false,
    "id": "89da5ece"
   },
   "source": [
    "### Обработка аномальных значений"
   ]
  },
  {
   "cell_type": "markdown",
   "id": "a3cfdb54",
   "metadata": {
    "deletable": false,
    "editable": false,
    "id": "57964554"
   },
   "source": [
    "**Задание 6. В данных могут встречаться артефакты (аномалии) — значения, которые не отражают действительность и появились по какой-то ошибке. таким артефактом будет отрицательное количество дней трудового стажа в столбце `days_employed`. Для реальных данных это нормально. Обработайте значения в этом столбце: замените все отрицательные значения положительными с помощью метода `abs()`.**"
   ]
  },
  {
   "cell_type": "code",
   "execution_count": 6,
   "id": "0aca2aab",
   "metadata": {
    "deletable": false,
    "id": "f6f055bf"
   },
   "outputs": [],
   "source": [
    "data['days_employed'] = data['days_employed'].abs()"
   ]
  },
  {
   "cell_type": "markdown",
   "id": "ac8ef349",
   "metadata": {
    "deletable": false,
    "editable": false,
    "id": "6107dd2f"
   },
   "source": [
    "**Задание 7. Для каждого типа занятости выведите медианное значение трудового стажа `days_employed` в днях.**"
   ]
  },
  {
   "cell_type": "code",
   "execution_count": 7,
   "id": "3b534152",
   "metadata": {
    "deletable": false,
    "id": "85a5faf6",
    "outputId": "801ef80e-522b-4668-f34e-565af7432bcf"
   },
   "outputs": [
    {
     "data": {
      "text/plain": [
       "income_type\n",
       "безработный        366413.652744\n",
       "в декрете            3296.759962\n",
       "госслужащий          2689.368353\n",
       "компаньон            1547.382223\n",
       "пенсионер          365213.306266\n",
       "предприниматель       520.848083\n",
       "сотрудник            1574.202821\n",
       "студент               578.751554\n",
       "Name: days_employed, dtype: float64"
      ]
     },
     "execution_count": 7,
     "metadata": {},
     "output_type": "execute_result"
    }
   ],
   "source": [
    "data.groupby('income_type')['days_employed'].median()"
   ]
  },
  {
   "cell_type": "markdown",
   "id": "329e2eef",
   "metadata": {
    "deletable": false,
    "editable": false,
    "id": "38d1a030"
   },
   "source": [
    "У двух типов (безработные и пенсионеры) получатся аномально большие значения. Исправить такие значения сложно, поэтому оставьте их как есть. Тем более этот столбец не понадобится вам для исследования."
   ]
  },
  {
   "cell_type": "markdown",
   "id": "cbc875eb",
   "metadata": {
    "deletable": false,
    "editable": false,
    "id": "d8a9f147"
   },
   "source": [
    "**Задание 8. Выведите перечень уникальных значений столбца `children`.**"
   ]
  },
  {
   "cell_type": "code",
   "execution_count": 8,
   "id": "c0667145",
   "metadata": {
    "deletable": false,
    "id": "ef5056eb",
    "outputId": "6975b15c-7f95-4697-d16d-a0c79b657b03"
   },
   "outputs": [
    {
     "data": {
      "text/plain": [
       "array([ 1,  0,  3,  2, -1,  4, 20,  5])"
      ]
     },
     "execution_count": 8,
     "metadata": {},
     "output_type": "execute_result"
    }
   ],
   "source": [
    "data['children'].unique()"
   ]
  },
  {
   "cell_type": "markdown",
   "id": "db83fdbc",
   "metadata": {
    "deletable": false,
    "editable": false,
    "id": "40b9ebf2"
   },
   "source": [
    "**Задание 9. В столбце `children` есть два аномальных значения. Удалите строки, в которых встречаются такие аномальные значения из датафрейма `data`.**"
   ]
  },
  {
   "cell_type": "code",
   "execution_count": 9,
   "id": "bcd1b1d3",
   "metadata": {
    "deletable": false,
    "id": "3ff9801d"
   },
   "outputs": [],
   "source": [
    "data = data[(data['children'] != -1) & (data['children'] != 20)]"
   ]
  },
  {
   "cell_type": "markdown",
   "id": "8d297a52",
   "metadata": {
    "deletable": false,
    "editable": false,
    "id": "bbc4d0ce"
   },
   "source": [
    "**Задание 10. Ещё раз выведите перечень уникальных значений столбца `children`, чтобы убедиться, что артефакты удалены.**"
   ]
  },
  {
   "cell_type": "code",
   "execution_count": 10,
   "id": "875adac9",
   "metadata": {
    "deletable": false,
    "id": "ad4fa8b7",
    "outputId": "b2097101-d49d-44d9-901b-32a65c9463d1"
   },
   "outputs": [
    {
     "data": {
      "text/plain": [
       "array([1, 0, 3, 2, 4, 5])"
      ]
     },
     "execution_count": 10,
     "metadata": {},
     "output_type": "execute_result"
    }
   ],
   "source": [
    "data['children'].unique()"
   ]
  },
  {
   "cell_type": "markdown",
   "id": "b74bd457",
   "metadata": {
    "deletable": false,
    "editable": false,
    "id": "75440b63"
   },
   "source": [
    "### Удаление пропусков (продолжение)"
   ]
  },
  {
   "cell_type": "markdown",
   "id": "b1353436",
   "metadata": {
    "deletable": false,
    "editable": false,
    "id": "f4ea573f"
   },
   "source": [
    "**Задание 11. Заполните пропуски в столбце `days_employed` медианными значениями по каждого типа занятости `income_type`.**"
   ]
  },
  {
   "cell_type": "code",
   "execution_count": 11,
   "id": "6d95fd7f",
   "metadata": {
    "deletable": false,
    "id": "af6b1a7e"
   },
   "outputs": [],
   "source": [
    "for n in data['income_type'].unique():\n",
    "    data.loc[(data['income_type'] == n) & (data['days_employed'].isna()), 'days_employed'] = data.loc[(data['income_type'] == n), 'days_employed'].median()\n",
    "    "
   ]
  },
  {
   "cell_type": "markdown",
   "id": "a0da6297",
   "metadata": {
    "deletable": false,
    "editable": false,
    "id": "2753f40d"
   },
   "source": [
    "**Задание 12. Убедитесь, что все пропуски заполнены. Проверьте себя и ещё раз выведите количество пропущенных значений для каждого столбца с помощью двух методов.**"
   ]
  },
  {
   "cell_type": "code",
   "execution_count": 12,
   "id": "57350ba5",
   "metadata": {
    "deletable": false,
    "id": "55f78bc2",
    "outputId": "8da1e4e1-358e-4e87-98c9-f261bce0a7b2"
   },
   "outputs": [
    {
     "data": {
      "text/plain": [
       "children            0\n",
       "days_employed       0\n",
       "dob_years           0\n",
       "education           0\n",
       "education_id        0\n",
       "family_status       0\n",
       "family_status_id    0\n",
       "gender              0\n",
       "income_type         0\n",
       "debt                0\n",
       "total_income        0\n",
       "purpose             0\n",
       "dtype: int64"
      ]
     },
     "execution_count": 12,
     "metadata": {},
     "output_type": "execute_result"
    }
   ],
   "source": [
    "data.isna().sum()"
   ]
  },
  {
   "cell_type": "markdown",
   "id": "742edc6f",
   "metadata": {
    "deletable": false,
    "editable": false,
    "id": "ddc81e43"
   },
   "source": [
    "### Изменение типов данных"
   ]
  },
  {
   "cell_type": "markdown",
   "id": "a1e01e16",
   "metadata": {
    "deletable": false,
    "editable": false,
    "id": "42d19d24"
   },
   "source": [
    "**Задание 13. Замените вещественный тип данных в столбце `total_income` на целочисленный с помощью метода `astype()`.**"
   ]
  },
  {
   "cell_type": "code",
   "execution_count": 13,
   "id": "a877867f",
   "metadata": {
    "deletable": false,
    "id": "920b65ad"
   },
   "outputs": [
    {
     "data": {
      "text/plain": [
       "dtype('int64')"
      ]
     },
     "execution_count": 13,
     "metadata": {},
     "output_type": "execute_result"
    }
   ],
   "source": [
    "data['total_income'] = data['total_income'].astype(int)\n",
    "#data.dtypes - проверял типы данных в таблице\n",
    "data['total_income'].dtypes #но в этом задании меня интересовал конкретный столбец"
   ]
  },
  {
   "cell_type": "markdown",
   "id": "dea8393f",
   "metadata": {
    "deletable": false,
    "editable": false,
    "id": "80c420ba"
   },
   "source": [
    "### Обработка дубликатов"
   ]
  },
  {
   "cell_type": "markdown",
   "id": "c25906af",
   "metadata": {
    "deletable": false,
    "editable": false
   },
   "source": [
    "**Задание 14. Обработайте неявные дубликаты в столбце `education`. В этом столбце есть одни и те же значения, но записанные по-разному: с использованием заглавных и строчных букв. Приведите их к нижнему регистру. Проверьте остальные столбцы.**"
   ]
  },
  {
   "cell_type": "code",
   "execution_count": 14,
   "id": "b47d61a8",
   "metadata": {
    "deletable": false
   },
   "outputs": [],
   "source": [
    "data['education'] = data['education'].str.lower()"
   ]
  },
  {
   "cell_type": "markdown",
   "id": "70d37025",
   "metadata": {
    "deletable": false,
    "editable": false,
    "id": "dc587695"
   },
   "source": [
    "**Задание 15. Выведите на экран количество строк-дубликатов в данных. Если такие строки присутствуют, удалите их.**"
   ]
  },
  {
   "cell_type": "code",
   "execution_count": 15,
   "id": "9f03c80d",
   "metadata": {
    "deletable": false,
    "id": "3ee445e4",
    "outputId": "9684deba-1934-42d1-99e1-cda61740f822"
   },
   "outputs": [
    {
     "data": {
      "text/plain": [
       "71"
      ]
     },
     "execution_count": 15,
     "metadata": {},
     "output_type": "execute_result"
    }
   ],
   "source": [
    "data.duplicated().sum()"
   ]
  },
  {
   "cell_type": "code",
   "execution_count": 16,
   "id": "d6a73d01",
   "metadata": {
    "deletable": false,
    "id": "8575fe05"
   },
   "outputs": [
    {
     "data": {
      "text/plain": [
       "0"
      ]
     },
     "execution_count": 16,
     "metadata": {},
     "output_type": "execute_result"
    }
   ],
   "source": [
    "data = data.drop_duplicates()\n",
    "data.duplicated().sum() #удалили дубликаты и проверили, все ли ок"
   ]
  },
  {
   "cell_type": "markdown",
   "id": "16a28e76",
   "metadata": {
    "deletable": false,
    "editable": false,
    "id": "9904cf55"
   },
   "source": [
    "### Категоризация данных"
   ]
  },
  {
   "cell_type": "markdown",
   "id": "63a8f8b9",
   "metadata": {
    "deletable": false,
    "editable": false,
    "id": "72fcc8a2"
   },
   "source": [
    "**Задание 16. На основании диапазонов, указанных ниже, создайте в датафрейме `data` столбец `total_income_category` с категориями:**\n",
    "\n",
    "- 0–30000 — `'E'`;\n",
    "- 30001–50000 — `'D'`;\n",
    "- 50001–200000 — `'C'`;\n",
    "- 200001–1000000 — `'B'`;\n",
    "- 1000001 и выше — `'A'`.\n",
    "\n",
    "\n",
    "**Например, кредитополучателю с доходом 25000 нужно назначить категорию `'E'`, а клиенту, получающему 235000, — `'B'`. Используйте собственную функцию с именем `categorize_income()` и метод `apply()`.**"
   ]
  },
  {
   "cell_type": "code",
   "execution_count": 17,
   "id": "97e74b11",
   "metadata": {
    "deletable": false,
    "id": "e1771346"
   },
   "outputs": [],
   "source": [
    "def categorize_income(income):\n",
    "    try:\n",
    "        if 0 <= income <= 30000:\n",
    "            return 'E'\n",
    "        elif 30001 <= income <= 50000:\n",
    "            return 'D'\n",
    "        elif 50001 <= income <= 200000:\n",
    "            return 'C'\n",
    "        elif 200001 <= income <= 1000000:\n",
    "            return 'B'\n",
    "        elif income >= 1000001:\n",
    "            return 'A'\n",
    "    except:\n",
    "        'вне категории, ошибка'"
   ]
  },
  {
   "cell_type": "code",
   "execution_count": 18,
   "id": "b0244ced",
   "metadata": {
    "deletable": false,
    "id": "d5f3586d"
   },
   "outputs": [
    {
     "data": {
      "text/plain": [
       "array(['B', 'C', 'D', 'E', 'A'], dtype=object)"
      ]
     },
     "execution_count": 18,
     "metadata": {},
     "output_type": "execute_result"
    }
   ],
   "source": [
    "# создание столбца, значения в котором сформированны на основе значений столбца 'total_income'\n",
    "data['total_income_category'] = data['total_income'].apply(categorize_income)\n",
    "data['total_income_category'].unique() #проверка, все ли данные категоризированны верно"
   ]
  },
  {
   "cell_type": "markdown",
   "id": "88cd5886",
   "metadata": {
    "deletable": false,
    "editable": false,
    "id": "dde49b5c"
   },
   "source": [
    "**Задание 17. Выведите на экран перечень уникальных целей взятия кредита из столбца `purpose`.**"
   ]
  },
  {
   "cell_type": "code",
   "execution_count": 19,
   "id": "9a5d040a",
   "metadata": {
    "deletable": false,
    "id": "f67ce9b3",
    "outputId": "673c12d9-7d7e-4ae0-9812-c622c89dd244"
   },
   "outputs": [
    {
     "data": {
      "text/plain": [
       "array(['покупка жилья', 'приобретение автомобиля',\n",
       "       'дополнительное образование', 'сыграть свадьбу',\n",
       "       'операции с жильем', 'образование', 'на проведение свадьбы',\n",
       "       'покупка жилья для семьи', 'покупка недвижимости',\n",
       "       'покупка коммерческой недвижимости', 'покупка жилой недвижимости',\n",
       "       'строительство собственной недвижимости', 'недвижимость',\n",
       "       'строительство недвижимости', 'на покупку подержанного автомобиля',\n",
       "       'на покупку своего автомобиля',\n",
       "       'операции с коммерческой недвижимостью',\n",
       "       'строительство жилой недвижимости', 'жилье',\n",
       "       'операции со своей недвижимостью', 'автомобили',\n",
       "       'заняться образованием', 'сделка с подержанным автомобилем',\n",
       "       'получение образования', 'автомобиль', 'свадьба',\n",
       "       'получение дополнительного образования', 'покупка своего жилья',\n",
       "       'операции с недвижимостью', 'получение высшего образования',\n",
       "       'свой автомобиль', 'сделка с автомобилем',\n",
       "       'профильное образование', 'высшее образование',\n",
       "       'покупка жилья для сдачи', 'на покупку автомобиля', 'ремонт жилью',\n",
       "       'заняться высшим образованием'], dtype=object)"
      ]
     },
     "execution_count": 19,
     "metadata": {},
     "output_type": "execute_result"
    }
   ],
   "source": [
    "data['purpose'].unique()"
   ]
  },
  {
   "cell_type": "markdown",
   "id": "8384da41",
   "metadata": {
    "deletable": false,
    "editable": false,
    "id": "85d0aef0"
   },
   "source": [
    "**Задание 18. Создайте функцию, которая на основании данных из столбца `purpose` сформирует новый столбец `purpose_category`, в который войдут следующие категории:**\n",
    "\n",
    "- `'операции с автомобилем'`,\n",
    "- `'операции с недвижимостью'`,\n",
    "- `'проведение свадьбы'`,\n",
    "- `'получение образования'`.\n",
    "\n",
    "**Например, если в столбце `purpose` находится подстрока `'на покупку автомобиля'`, то в столбце `purpose_category` должна появиться строка `'операции с автомобилем'`.**\n",
    "\n",
    "**Используйте собственную функцию с именем `categorize_purpose()` и метод `apply()`. Изучите данные в столбце `purpose` и определите, какие подстроки помогут вам правильно определить категорию.**"
   ]
  },
  {
   "cell_type": "code",
   "execution_count": 20,
   "id": "90f2e6e3",
   "metadata": {
    "deletable": false,
    "id": "e149fab4"
   },
   "outputs": [],
   "source": [
    "def categorize_purpose(row):\n",
    "    try:\n",
    "        if 'автом' in row:\n",
    "            return 'операции с автомобилем'\n",
    "        elif 'жил' in row or 'недвиж' in row:\n",
    "            return 'операции с недвижимостью'\n",
    "        elif 'свад' in row:\n",
    "            return 'проведение свадьбы'\n",
    "        elif 'образов' in row:\n",
    "            return 'получение образования'\n",
    "    except:\n",
    "        return 'ошибка, вне категории'"
   ]
  },
  {
   "cell_type": "code",
   "execution_count": 21,
   "id": "8b87c9fa",
   "metadata": {
    "deletable": false,
    "id": "bf36e69b"
   },
   "outputs": [
    {
     "data": {
      "text/plain": [
       "array(['операции с недвижимостью', 'операции с автомобилем',\n",
       "       'получение образования', 'проведение свадьбы'], dtype=object)"
      ]
     },
     "execution_count": 21,
     "metadata": {},
     "output_type": "execute_result"
    }
   ],
   "source": [
    "data['purpose_category'] = data['purpose'].apply(categorize_purpose)\n",
    "data['purpose_category'].unique() # проверка, все ли условия категоризированны"
   ]
  },
  {
   "cell_type": "markdown",
   "id": "e72f15b7",
   "metadata": {
    "deletable": false,
    "editable": false,
    "id": "09b242bf"
   },
   "source": [
    "### Шаг 3. Исследуйте данные и ответьте на вопросы"
   ]
  },
  {
   "cell_type": "markdown",
   "id": "2522e91d",
   "metadata": {
    "deletable": false,
    "editable": false,
    "id": "c5d66278"
   },
   "source": [
    "#### 3.1 Есть ли зависимость между количеством детей и возвратом кредита в срок?"
   ]
  },
  {
   "cell_type": "code",
   "execution_count": 22,
   "id": "77eb9294",
   "metadata": {
    "deletable": false,
    "id": "2cacfc4a"
   },
   "outputs": [
    {
     "data": {
      "text/html": [
       "<div>\n",
       "<style scoped>\n",
       "    .dataframe tbody tr th:only-of-type {\n",
       "        vertical-align: middle;\n",
       "    }\n",
       "\n",
       "    .dataframe tbody tr th {\n",
       "        vertical-align: top;\n",
       "    }\n",
       "\n",
       "    .dataframe thead th {\n",
       "        text-align: right;\n",
       "    }\n",
       "</style>\n",
       "<table border=\"1\" class=\"dataframe\">\n",
       "  <thead>\n",
       "    <tr style=\"text-align: right;\">\n",
       "      <th></th>\n",
       "      <th>total</th>\n",
       "      <th>target</th>\n",
       "      <th>corelation</th>\n",
       "    </tr>\n",
       "    <tr>\n",
       "      <th>children</th>\n",
       "      <th></th>\n",
       "      <th></th>\n",
       "      <th></th>\n",
       "    </tr>\n",
       "  </thead>\n",
       "  <tbody>\n",
       "    <tr>\n",
       "      <th>5</th>\n",
       "      <td>9</td>\n",
       "      <td>0</td>\n",
       "      <td>0.000</td>\n",
       "    </tr>\n",
       "    <tr>\n",
       "      <th>0</th>\n",
       "      <td>14091</td>\n",
       "      <td>1063</td>\n",
       "      <td>0.075</td>\n",
       "    </tr>\n",
       "    <tr>\n",
       "      <th>3</th>\n",
       "      <td>330</td>\n",
       "      <td>27</td>\n",
       "      <td>0.082</td>\n",
       "    </tr>\n",
       "    <tr>\n",
       "      <th>1</th>\n",
       "      <td>4808</td>\n",
       "      <td>444</td>\n",
       "      <td>0.092</td>\n",
       "    </tr>\n",
       "    <tr>\n",
       "      <th>2</th>\n",
       "      <td>2052</td>\n",
       "      <td>194</td>\n",
       "      <td>0.095</td>\n",
       "    </tr>\n",
       "    <tr>\n",
       "      <th>4</th>\n",
       "      <td>41</td>\n",
       "      <td>4</td>\n",
       "      <td>0.098</td>\n",
       "    </tr>\n",
       "  </tbody>\n",
       "</table>\n",
       "</div>"
      ],
      "text/plain": [
       "          total  target  corelation\n",
       "children                           \n",
       "5             9       0       0.000\n",
       "0         14091    1063       0.075\n",
       "3           330      27       0.082\n",
       "1          4808     444       0.092\n",
       "2          2052     194       0.095\n",
       "4            41       4       0.098"
      ]
     },
     "metadata": {},
     "output_type": "display_data"
    }
   ],
   "source": [
    "# Ваш код будет здесь. Вы можете создавать новые ячейки.\n",
    "target = data.pivot_table(index = ['children'], values = 'debt', aggfunc = {'count','sum'})\n",
    "target = target.rename(columns={'count':'total','sum':'target'})\n",
    "target['corelation'] = round(target['target']/target['total'], 3)\n",
    "target = target.sort_values(by='corelation', ascending=True)\n",
    "display(target)"
   ]
  },
  {
   "cell_type": "markdown",
   "id": "fca791b6",
   "metadata": {
    "deletable": false,
    "id": "3a6b99ec"
   },
   "source": [
    "**Вывод:** Видна слабая корреляция между возвратом кредита в срок и количеством детей прослеживается. Люди, у которых 3 или 5 детей, и люди, у которых детей нет - либо не допускают вовсе, либо допускают незначительно просрочку кредита. Это можно объяснить тем, что первые более ответственны, а вторые платежеспособнее первых, так как менее финансово загруженны. Семьи с 1-2 детьми допускают допускают незначительно просрочку кредита в почти равных вероятностях, что может быть подтверждением гипотезы. Семьи с 4 детьми допускают наибольшую вероятность невозвратности кредитов, возможно, ввиду более сложного финансового положения семьи"
   ]
  },
  {
   "cell_type": "markdown",
   "id": "8c18dd29",
   "metadata": {
    "deletable": false,
    "editable": false,
    "id": "97be82ca"
   },
   "source": [
    "#### 3.2 Есть ли зависимость между семейным положением и возвратом кредита в срок?"
   ]
  },
  {
   "cell_type": "code",
   "execution_count": 23,
   "id": "6dd09bfe",
   "metadata": {
    "deletable": false,
    "id": "dc3f7ee8"
   },
   "outputs": [
    {
     "data": {
      "text/html": [
       "<div>\n",
       "<style scoped>\n",
       "    .dataframe tbody tr th:only-of-type {\n",
       "        vertical-align: middle;\n",
       "    }\n",
       "\n",
       "    .dataframe tbody tr th {\n",
       "        vertical-align: top;\n",
       "    }\n",
       "\n",
       "    .dataframe thead th {\n",
       "        text-align: right;\n",
       "    }\n",
       "</style>\n",
       "<table border=\"1\" class=\"dataframe\">\n",
       "  <thead>\n",
       "    <tr style=\"text-align: right;\">\n",
       "      <th></th>\n",
       "      <th>total</th>\n",
       "      <th>target</th>\n",
       "      <th>corelation</th>\n",
       "    </tr>\n",
       "    <tr>\n",
       "      <th>family_status</th>\n",
       "      <th></th>\n",
       "      <th></th>\n",
       "      <th></th>\n",
       "    </tr>\n",
       "  </thead>\n",
       "  <tbody>\n",
       "    <tr>\n",
       "      <th>вдовец / вдова</th>\n",
       "      <td>951</td>\n",
       "      <td>63</td>\n",
       "      <td>0.066</td>\n",
       "    </tr>\n",
       "    <tr>\n",
       "      <th>в разводе</th>\n",
       "      <td>1189</td>\n",
       "      <td>84</td>\n",
       "      <td>0.071</td>\n",
       "    </tr>\n",
       "    <tr>\n",
       "      <th>женат / замужем</th>\n",
       "      <td>12261</td>\n",
       "      <td>927</td>\n",
       "      <td>0.076</td>\n",
       "    </tr>\n",
       "    <tr>\n",
       "      <th>гражданский брак</th>\n",
       "      <td>4134</td>\n",
       "      <td>385</td>\n",
       "      <td>0.093</td>\n",
       "    </tr>\n",
       "    <tr>\n",
       "      <th>Не женат / не замужем</th>\n",
       "      <td>2796</td>\n",
       "      <td>273</td>\n",
       "      <td>0.098</td>\n",
       "    </tr>\n",
       "  </tbody>\n",
       "</table>\n",
       "</div>"
      ],
      "text/plain": [
       "                       total  target  corelation\n",
       "family_status                                   \n",
       "вдовец / вдова           951      63       0.066\n",
       "в разводе               1189      84       0.071\n",
       "женат / замужем        12261     927       0.076\n",
       "гражданский брак        4134     385       0.093\n",
       "Не женат / не замужем   2796     273       0.098"
      ]
     },
     "metadata": {},
     "output_type": "display_data"
    }
   ],
   "source": [
    "# Ваш код будет здесь. Вы можете создавать новые ячейки.\n",
    "target = data.pivot_table(index = ['family_status'], values = 'debt', aggfunc = {'count','sum'})\n",
    "target = target.rename(columns={'count':'total','sum':'target'})\n",
    "target['corelation'] = round(target['target']/target['total'], 3)\n",
    "target = target.sort_values(by='corelation', ascending=True)\n",
    "display(target)"
   ]
  },
  {
   "cell_type": "markdown",
   "id": "cd21bd4f",
   "metadata": {
    "deletable": false,
    "id": "1cef7837"
   },
   "source": [
    "**Вывод:** Люди в гражданском браке и не состоящие в браке, имеют самую низкую долю возвратности кредитов. Причины этому могут быть также разные: наличие детей, малый доход, непонимание ответственности ввиду возраста. \n",
    "У людей, не состоящих в браке, но ранее состоявших в нем - наоборот: наблюдается высокая вероятность возврата кредита в срок. Причин этому может быть несколько: возраст, чувство ответственности, финансовая грамотность и состоятельность.\n",
    "В целом, зависимость есть."
   ]
  },
  {
   "cell_type": "markdown",
   "id": "ae661683",
   "metadata": {
    "deletable": false,
    "editable": false,
    "id": "1e8b2fca"
   },
   "source": [
    "#### 3.3 Есть ли зависимость между уровнем дохода и возвратом кредита в срок?"
   ]
  },
  {
   "cell_type": "code",
   "execution_count": 24,
   "id": "ad4b1c4a",
   "metadata": {
    "deletable": false,
    "id": "cd7e3720"
   },
   "outputs": [
    {
     "data": {
      "text/html": [
       "<div>\n",
       "<style scoped>\n",
       "    .dataframe tbody tr th:only-of-type {\n",
       "        vertical-align: middle;\n",
       "    }\n",
       "\n",
       "    .dataframe tbody tr th {\n",
       "        vertical-align: top;\n",
       "    }\n",
       "\n",
       "    .dataframe thead th {\n",
       "        text-align: right;\n",
       "    }\n",
       "</style>\n",
       "<table border=\"1\" class=\"dataframe\">\n",
       "  <thead>\n",
       "    <tr style=\"text-align: right;\">\n",
       "      <th></th>\n",
       "      <th>total</th>\n",
       "      <th>target</th>\n",
       "      <th>corelation</th>\n",
       "    </tr>\n",
       "    <tr>\n",
       "      <th>total_income_category</th>\n",
       "      <th></th>\n",
       "      <th></th>\n",
       "      <th></th>\n",
       "    </tr>\n",
       "  </thead>\n",
       "  <tbody>\n",
       "    <tr>\n",
       "      <th>D</th>\n",
       "      <td>349</td>\n",
       "      <td>21</td>\n",
       "      <td>0.060</td>\n",
       "    </tr>\n",
       "    <tr>\n",
       "      <th>B</th>\n",
       "      <td>5014</td>\n",
       "      <td>354</td>\n",
       "      <td>0.071</td>\n",
       "    </tr>\n",
       "    <tr>\n",
       "      <th>A</th>\n",
       "      <td>25</td>\n",
       "      <td>2</td>\n",
       "      <td>0.080</td>\n",
       "    </tr>\n",
       "    <tr>\n",
       "      <th>C</th>\n",
       "      <td>15921</td>\n",
       "      <td>1353</td>\n",
       "      <td>0.085</td>\n",
       "    </tr>\n",
       "    <tr>\n",
       "      <th>E</th>\n",
       "      <td>22</td>\n",
       "      <td>2</td>\n",
       "      <td>0.091</td>\n",
       "    </tr>\n",
       "  </tbody>\n",
       "</table>\n",
       "</div>"
      ],
      "text/plain": [
       "                       total  target  corelation\n",
       "total_income_category                           \n",
       "D                        349      21       0.060\n",
       "B                       5014     354       0.071\n",
       "A                         25       2       0.080\n",
       "C                      15921    1353       0.085\n",
       "E                         22       2       0.091"
      ]
     },
     "metadata": {},
     "output_type": "display_data"
    }
   ],
   "source": [
    "# Ваш код будет здесь. Вы можете создавать новые ячейки.\n",
    "target = data.pivot_table(index = ['total_income_category'], values = 'debt', aggfunc = {'count','sum'})\n",
    "target = target.rename(columns={'count':'total','sum':'target'})\n",
    "target['corelation'] = round(target['target']/target['total'], 3)\n",
    "target = target.sort_values(by='corelation', ascending=True)\n",
    "display(target)"
   ]
  },
  {
   "cell_type": "markdown",
   "id": "5c43b59a",
   "metadata": {
    "deletable": false,
    "id": "e8593def"
   },
   "source": [
    "**Вывод:** Самая высокая возвратность у людей с доходом от 30 до 50 тысяч. Причиной этому может послужить нежелание получить штраф, так как могут возникнуть трудноти с их оплатой при текущем доходе. Люди с доходом от 500 тыс до 1 млн также имеют низкую долю просрочки по кредиту - думаю, это ввиду хорошего дохода и ответственности. Заметно, что люди с высоким доходом имеют относительно среднюю вероятность не вернуть кредит в срок. А вот люди с доходом выше среднего (от 50 тыс до 200 тыс) имеют высокую вероятность относительно остальных не вернуть кредит. Возможно, это объясняется тем, что это категория людей, у которых несколько активных кредитов. И топ невозвратчиков кредита закрывают люди, с самым низким доходом."
   ]
  },
  {
   "cell_type": "markdown",
   "id": "8b3ee84f",
   "metadata": {
    "deletable": false,
    "editable": false,
    "id": "99ecbd1f"
   },
   "source": [
    "#### 3.4 Как разные цели кредита влияют на его возврат в срок?"
   ]
  },
  {
   "cell_type": "code",
   "execution_count": 25,
   "id": "a02eb24a",
   "metadata": {
    "deletable": false,
    "id": "2b687290"
   },
   "outputs": [
    {
     "data": {
      "text/html": [
       "<div>\n",
       "<style scoped>\n",
       "    .dataframe tbody tr th:only-of-type {\n",
       "        vertical-align: middle;\n",
       "    }\n",
       "\n",
       "    .dataframe tbody tr th {\n",
       "        vertical-align: top;\n",
       "    }\n",
       "\n",
       "    .dataframe thead th {\n",
       "        text-align: right;\n",
       "    }\n",
       "</style>\n",
       "<table border=\"1\" class=\"dataframe\">\n",
       "  <thead>\n",
       "    <tr style=\"text-align: right;\">\n",
       "      <th></th>\n",
       "      <th>total</th>\n",
       "      <th>target</th>\n",
       "      <th>corelation</th>\n",
       "    </tr>\n",
       "    <tr>\n",
       "      <th>purpose_category</th>\n",
       "      <th></th>\n",
       "      <th></th>\n",
       "      <th></th>\n",
       "    </tr>\n",
       "  </thead>\n",
       "  <tbody>\n",
       "    <tr>\n",
       "      <th>операции с недвижимостью</th>\n",
       "      <td>10751</td>\n",
       "      <td>780</td>\n",
       "      <td>0.073</td>\n",
       "    </tr>\n",
       "    <tr>\n",
       "      <th>проведение свадьбы</th>\n",
       "      <td>2313</td>\n",
       "      <td>183</td>\n",
       "      <td>0.079</td>\n",
       "    </tr>\n",
       "    <tr>\n",
       "      <th>операции с автомобилем</th>\n",
       "      <td>4279</td>\n",
       "      <td>400</td>\n",
       "      <td>0.093</td>\n",
       "    </tr>\n",
       "    <tr>\n",
       "      <th>получение образования</th>\n",
       "      <td>3988</td>\n",
       "      <td>369</td>\n",
       "      <td>0.093</td>\n",
       "    </tr>\n",
       "  </tbody>\n",
       "</table>\n",
       "</div>"
      ],
      "text/plain": [
       "                          total  target  corelation\n",
       "purpose_category                                   \n",
       "операции с недвижимостью  10751     780       0.073\n",
       "проведение свадьбы         2313     183       0.079\n",
       "операции с автомобилем     4279     400       0.093\n",
       "получение образования      3988     369       0.093"
      ]
     },
     "metadata": {},
     "output_type": "display_data"
    }
   ],
   "source": [
    "# Ваш код будет здесь. Вы можете создавать новые ячейки.\n",
    "target = data.pivot_table(index = ['purpose_category'], values = 'debt', aggfunc = {'count','sum'})\n",
    "target = target.rename(columns={'count':'total','sum':'target'})\n",
    "target['corelation'] = round(target['target']/target['total'], 3)\n",
    "target = target.sort_values(by='corelation', ascending=True)\n",
    "display(target)"
   ]
  },
  {
   "cell_type": "markdown",
   "id": "2c1fbb76",
   "metadata": {
    "deletable": false,
    "id": "b4bb2ce6"
   },
   "source": [
    "**Вывод:** Вероятность возврата кредита заметно ниже у людей, кто берет потребительский кредит на вещи существенно ниже по стоимости относительно суммы заема для приобретения своей недвижимости или создания семьи. Вероятно, здесь все зависит величины суммы кредита"
   ]
  },
  {
   "cell_type": "markdown",
   "id": "fff7a495",
   "metadata": {
    "deletable": false,
    "editable": false,
    "id": "09c3ac4c"
   },
   "source": [
    "#### 3.5 Приведите возможные причины появления пропусков в исходных данных."
   ]
  },
  {
   "cell_type": "code",
   "execution_count": 26,
   "id": "37933b21",
   "metadata": {},
   "outputs": [
    {
     "data": {
      "text/plain": [
       "children                 0\n",
       "days_employed            0\n",
       "dob_years                0\n",
       "education                0\n",
       "education_id             0\n",
       "family_status            0\n",
       "family_status_id         0\n",
       "gender                   0\n",
       "income_type              0\n",
       "debt                     0\n",
       "total_income             0\n",
       "purpose                  0\n",
       "total_income_category    0\n",
       "purpose_category         0\n",
       "dtype: int64"
      ]
     },
     "execution_count": 26,
     "metadata": {},
     "output_type": "execute_result"
    }
   ],
   "source": [
    "data.isna().sum()\n",
    "#не удалось вывести пропуски здесь, но подсмотрел в начало проектной работы, где обнаружил, что \n",
    "#в двух столбцах (total_income и days_employed) одинаковое количество пропусков"
   ]
  },
  {
   "cell_type": "code",
   "execution_count": 27,
   "id": "235c1a19",
   "metadata": {},
   "outputs": [
    {
     "data": {
      "text/plain": [
       "children               0\n",
       "days_employed       2174\n",
       "dob_years              0\n",
       "education              0\n",
       "education_id           0\n",
       "family_status          0\n",
       "family_status_id       0\n",
       "gender                 0\n",
       "income_type            0\n",
       "debt                   0\n",
       "total_income        2174\n",
       "purpose                0\n",
       "dtype: int64"
      ]
     },
     "execution_count": 27,
     "metadata": {},
     "output_type": "execute_result"
    }
   ],
   "source": [
    "new_data = pd.read_csv('/datasets/data.csv')\n",
    "new_data.isna().sum()\n"
   ]
  },
  {
   "cell_type": "markdown",
   "id": "c0c885f8",
   "metadata": {
    "deletable": false,
    "id": "9da2ceda"
   },
   "source": [
    "*Ответ:* Первостепенно - это человеческий фактор: кто-то, вероятно, не захотел отвечать. Также стоит отметить, что количество пропусков в столбцах одинаковы, можно сделать вывод, что заполнение одного из столбцов влияет на заполненность другого столбца"
   ]
  },
  {
   "cell_type": "code",
   "execution_count": 28,
   "id": "e4dc93f9",
   "metadata": {},
   "outputs": [
    {
     "data": {
      "text/plain": [
       "4348"
      ]
     },
     "execution_count": 28,
     "metadata": {},
     "output_type": "execute_result"
    }
   ],
   "source": [
    "#len(new_data.loc[(new_data['days_employed'].isna()) & (new_data['total_income'].isna())]) # 2174\n",
    "len(new_data.loc[(new_data['days_employed'].isna())]) + len(new_data.loc[(new_data['total_income'].isna())])"
   ]
  },
  {
   "cell_type": "markdown",
   "id": "e143e923",
   "metadata": {
    "deletable": false,
    "editable": false,
    "id": "7b0487d6"
   },
   "source": [
    "#### 3.6 Объясните, почему заполнить пропуски медианным значением — лучшее решение для количественных переменных."
   ]
  },
  {
   "cell_type": "markdown",
   "id": "cc92f5df",
   "metadata": {
    "deletable": false,
    "id": "7ecf2b8e"
   },
   "source": [
    "*Ответ:* медианное значение лучше всего отражает выборку в целом, в случае, когда есть незаполненные данные. Среднее арифметическое может некорректно отражать ситуацию, ввиду того, что не учитывается разброс данных."
   ]
  },
  {
   "cell_type": "markdown",
   "id": "8c19a696",
   "metadata": {
    "deletable": false,
    "editable": false,
    "id": "6db5255a"
   },
   "source": [
    "### Шаг 4: общий вывод."
   ]
  },
  {
   "cell_type": "markdown",
   "id": "f249fcc9",
   "metadata": {
    "deletable": false,
    "id": "bad65432"
   },
   "source": [
    "*Общий вывод:* Наблюдается невысокая кореляция по выдвинутым гипотезам. Нет четкой взаимосвязи, однако по проведенному анализу можно сделать вывод, что люди, которые с высшей вероятностью допустят просрочку по кредиту, скорее всего, будут иметь 4 детей, возможно будут состоять в гражданском браке, а более вероятно - не будут состоять в браке вовсе, и их доход будет существенно мал. Также вероятно, что целью кредита будет получение образования или покупка авто, а также прочие относительно невысокие потребительские нужды. Сочетание нескольких факторов из всех может говорить о том, что в будущем возможны просрочки по кредиту."
   ]
  }
 ],
 "metadata": {
  "ExecuteTimeLog": [
   {
    "duration": 550,
    "start_time": "2023-01-14T19:10:57.850Z"
   },
   {
    "duration": 84,
    "start_time": "2023-01-14T19:11:02.564Z"
   },
   {
    "duration": 2,
    "start_time": "2023-01-14T19:16:40.909Z"
   },
   {
    "duration": 30,
    "start_time": "2023-01-14T19:18:38.749Z"
   },
   {
    "duration": 21,
    "start_time": "2023-01-14T19:18:56.810Z"
   },
   {
    "duration": 96,
    "start_time": "2023-01-14T19:19:12.815Z"
   },
   {
    "duration": 28,
    "start_time": "2023-01-14T19:19:12.913Z"
   },
   {
    "duration": 42,
    "start_time": "2023-01-14T19:19:12.942Z"
   },
   {
    "duration": 10,
    "start_time": "2023-01-14T19:19:12.986Z"
   },
   {
    "duration": 38,
    "start_time": "2023-01-14T19:19:12.998Z"
   },
   {
    "duration": 3,
    "start_time": "2023-01-14T19:19:13.038Z"
   },
   {
    "duration": 33,
    "start_time": "2023-01-14T19:19:13.043Z"
   },
   {
    "duration": 7,
    "start_time": "2023-01-14T19:19:13.078Z"
   },
   {
    "duration": 10,
    "start_time": "2023-01-14T19:19:13.086Z"
   },
   {
    "duration": 6,
    "start_time": "2023-01-14T19:19:13.098Z"
   },
   {
    "duration": 49,
    "start_time": "2023-01-14T19:19:13.105Z"
   },
   {
    "duration": 10,
    "start_time": "2023-01-14T19:19:13.161Z"
   },
   {
    "duration": 5,
    "start_time": "2023-01-14T19:19:13.173Z"
   },
   {
    "duration": 11,
    "start_time": "2023-01-14T19:19:13.181Z"
   },
   {
    "duration": 37,
    "start_time": "2023-01-14T19:19:13.194Z"
   },
   {
    "duration": 27,
    "start_time": "2023-01-14T19:19:13.233Z"
   },
   {
    "duration": 9,
    "start_time": "2023-01-14T19:19:13.261Z"
   },
   {
    "duration": 11,
    "start_time": "2023-01-14T19:19:13.272Z"
   },
   {
    "duration": 8,
    "start_time": "2023-01-14T19:19:13.285Z"
   },
   {
    "duration": 3,
    "start_time": "2023-01-14T19:19:13.295Z"
   },
   {
    "duration": 10,
    "start_time": "2023-01-14T19:19:13.300Z"
   },
   {
    "duration": 9,
    "start_time": "2023-01-14T19:20:14.972Z"
   },
   {
    "duration": 17,
    "start_time": "2023-01-14T19:20:18.242Z"
   },
   {
    "duration": 42,
    "start_time": "2023-01-14T19:20:25.089Z"
   },
   {
    "duration": 11,
    "start_time": "2023-01-14T19:20:28.176Z"
   },
   {
    "duration": 4,
    "start_time": "2023-01-14T19:20:31.598Z"
   },
   {
    "duration": 16,
    "start_time": "2023-01-14T19:20:34.080Z"
   },
   {
    "duration": 30,
    "start_time": "2023-01-14T19:20:36.011Z"
   },
   {
    "duration": 20,
    "start_time": "2023-01-14T19:20:40.387Z"
   },
   {
    "duration": 6,
    "start_time": "2023-01-14T19:20:49.667Z"
   },
   {
    "duration": 5,
    "start_time": "2023-01-14T19:20:53.666Z"
   },
   {
    "duration": 30,
    "start_time": "2023-01-14T19:20:57.471Z"
   },
   {
    "duration": 2,
    "start_time": "2023-01-14T19:35:19.097Z"
   },
   {
    "duration": 31,
    "start_time": "2023-01-14T19:36:00.744Z"
   },
   {
    "duration": 19,
    "start_time": "2023-01-14T19:46:32.564Z"
   },
   {
    "duration": 28,
    "start_time": "2023-01-14T20:18:46.508Z"
   },
   {
    "duration": 17,
    "start_time": "2023-01-14T20:29:44.209Z"
   },
   {
    "duration": 11,
    "start_time": "2023-01-14T20:30:22.953Z"
   },
   {
    "duration": 73,
    "start_time": "2023-01-14T20:53:50.363Z"
   },
   {
    "duration": 14,
    "start_time": "2023-01-14T20:53:50.438Z"
   },
   {
    "duration": 30,
    "start_time": "2023-01-14T20:53:50.454Z"
   },
   {
    "duration": 13,
    "start_time": "2023-01-14T20:53:50.486Z"
   },
   {
    "duration": 45,
    "start_time": "2023-01-14T20:53:50.501Z"
   },
   {
    "duration": 3,
    "start_time": "2023-01-14T20:53:50.548Z"
   },
   {
    "duration": 17,
    "start_time": "2023-01-14T20:53:50.552Z"
   },
   {
    "duration": 9,
    "start_time": "2023-01-14T20:53:50.571Z"
   },
   {
    "duration": 8,
    "start_time": "2023-01-14T20:53:50.581Z"
   },
   {
    "duration": 5,
    "start_time": "2023-01-14T20:53:50.591Z"
   },
   {
    "duration": 47,
    "start_time": "2023-01-14T20:53:50.597Z"
   },
   {
    "duration": 10,
    "start_time": "2023-01-14T20:53:50.646Z"
   },
   {
    "duration": 7,
    "start_time": "2023-01-14T20:53:50.658Z"
   },
   {
    "duration": 16,
    "start_time": "2023-01-14T20:53:50.667Z"
   },
   {
    "duration": 29,
    "start_time": "2023-01-14T20:53:50.685Z"
   },
   {
    "duration": 21,
    "start_time": "2023-01-14T20:53:50.716Z"
   },
   {
    "duration": 9,
    "start_time": "2023-01-14T20:53:50.739Z"
   },
   {
    "duration": 19,
    "start_time": "2023-01-14T20:53:50.750Z"
   },
   {
    "duration": 8,
    "start_time": "2023-01-14T20:53:50.771Z"
   },
   {
    "duration": 10,
    "start_time": "2023-01-14T20:53:50.780Z"
   },
   {
    "duration": 22,
    "start_time": "2023-01-14T20:53:50.791Z"
   },
   {
    "duration": 38,
    "start_time": "2023-01-14T20:53:50.815Z"
   },
   {
    "duration": 22,
    "start_time": "2023-01-14T20:53:50.855Z"
   },
   {
    "duration": 20,
    "start_time": "2023-01-14T20:53:50.878Z"
   },
   {
    "duration": 32,
    "start_time": "2023-01-14T20:53:50.904Z"
   },
   {
    "duration": 11,
    "start_time": "2023-01-14T20:53:50.937Z"
   },
   {
    "duration": 463,
    "start_time": "2023-01-14T21:37:10.825Z"
   },
   {
    "duration": 21,
    "start_time": "2023-01-14T21:37:11.290Z"
   },
   {
    "duration": 15,
    "start_time": "2023-01-14T21:37:11.312Z"
   },
   {
    "duration": 13,
    "start_time": "2023-01-14T21:37:11.330Z"
   },
   {
    "duration": 39,
    "start_time": "2023-01-14T21:37:11.345Z"
   },
   {
    "duration": 3,
    "start_time": "2023-01-14T21:37:11.386Z"
   },
   {
    "duration": 30,
    "start_time": "2023-01-14T21:37:11.390Z"
   },
   {
    "duration": 6,
    "start_time": "2023-01-14T21:37:11.422Z"
   },
   {
    "duration": 22,
    "start_time": "2023-01-14T21:37:11.430Z"
   },
   {
    "duration": 5,
    "start_time": "2023-01-14T21:37:11.457Z"
   },
   {
    "duration": 62,
    "start_time": "2023-01-14T21:37:11.463Z"
   },
   {
    "duration": 15,
    "start_time": "2023-01-14T21:37:11.527Z"
   },
   {
    "duration": 4,
    "start_time": "2023-01-14T21:37:11.543Z"
   },
   {
    "duration": 14,
    "start_time": "2023-01-14T21:37:11.549Z"
   },
   {
    "duration": 19,
    "start_time": "2023-01-14T21:37:11.565Z"
   },
   {
    "duration": 42,
    "start_time": "2023-01-14T21:37:11.586Z"
   },
   {
    "duration": 4,
    "start_time": "2023-01-14T21:37:11.632Z"
   },
   {
    "duration": 22,
    "start_time": "2023-01-14T21:37:11.638Z"
   },
   {
    "duration": 8,
    "start_time": "2023-01-14T21:37:11.661Z"
   },
   {
    "duration": 6,
    "start_time": "2023-01-14T21:37:11.670Z"
   },
   {
    "duration": 14,
    "start_time": "2023-01-14T21:37:11.678Z"
   },
   {
    "duration": 42,
    "start_time": "2023-01-14T21:37:11.694Z"
   },
   {
    "duration": 26,
    "start_time": "2023-01-14T21:37:11.738Z"
   },
   {
    "duration": 22,
    "start_time": "2023-01-14T21:37:11.765Z"
   },
   {
    "duration": 56,
    "start_time": "2023-01-14T21:37:11.789Z"
   },
   {
    "duration": 18,
    "start_time": "2023-01-14T21:37:11.848Z"
   },
   {
    "duration": 464,
    "start_time": "2023-01-14T21:37:41.138Z"
   },
   {
    "duration": 23,
    "start_time": "2023-01-14T21:37:41.604Z"
   },
   {
    "duration": 25,
    "start_time": "2023-01-14T21:37:41.629Z"
   },
   {
    "duration": 16,
    "start_time": "2023-01-14T21:37:41.655Z"
   },
   {
    "duration": 75,
    "start_time": "2023-01-14T21:37:41.673Z"
   },
   {
    "duration": 4,
    "start_time": "2023-01-14T21:37:41.750Z"
   },
   {
    "duration": 18,
    "start_time": "2023-01-14T21:37:41.756Z"
   },
   {
    "duration": 6,
    "start_time": "2023-01-14T21:37:41.776Z"
   },
   {
    "duration": 12,
    "start_time": "2023-01-14T21:37:41.784Z"
   },
   {
    "duration": 27,
    "start_time": "2023-01-14T21:37:41.797Z"
   },
   {
    "duration": 52,
    "start_time": "2023-01-14T21:37:41.826Z"
   },
   {
    "duration": 14,
    "start_time": "2023-01-14T21:37:41.880Z"
   },
   {
    "duration": 15,
    "start_time": "2023-01-14T21:37:41.896Z"
   },
   {
    "duration": 41,
    "start_time": "2023-01-14T21:37:41.915Z"
   },
   {
    "duration": 26,
    "start_time": "2023-01-14T21:37:41.959Z"
   },
   {
    "duration": 22,
    "start_time": "2023-01-14T21:37:41.987Z"
   },
   {
    "duration": 6,
    "start_time": "2023-01-14T21:37:42.013Z"
   },
   {
    "duration": 34,
    "start_time": "2023-01-14T21:37:42.021Z"
   },
   {
    "duration": 15,
    "start_time": "2023-01-14T21:37:42.056Z"
   },
   {
    "duration": 9,
    "start_time": "2023-01-14T21:37:42.073Z"
   },
   {
    "duration": 16,
    "start_time": "2023-01-14T21:37:42.084Z"
   },
   {
    "duration": 30,
    "start_time": "2023-01-14T21:37:42.102Z"
   },
   {
    "duration": 27,
    "start_time": "2023-01-14T21:37:42.134Z"
   },
   {
    "duration": 21,
    "start_time": "2023-01-14T21:37:42.164Z"
   },
   {
    "duration": 46,
    "start_time": "2023-01-14T21:37:42.187Z"
   },
   {
    "duration": 20,
    "start_time": "2023-01-14T21:37:42.235Z"
   },
   {
    "duration": 486,
    "start_time": "2023-01-16T11:57:04.770Z"
   },
   {
    "duration": 16,
    "start_time": "2023-01-16T11:57:54.522Z"
   },
   {
    "duration": 75,
    "start_time": "2023-01-16T11:58:15.474Z"
   },
   {
    "duration": 19,
    "start_time": "2023-01-16T11:58:15.551Z"
   },
   {
    "duration": 16,
    "start_time": "2023-01-16T11:58:15.572Z"
   },
   {
    "duration": 12,
    "start_time": "2023-01-16T11:58:15.590Z"
   },
   {
    "duration": 62,
    "start_time": "2023-01-16T11:58:15.604Z"
   },
   {
    "duration": 4,
    "start_time": "2023-01-16T11:58:15.667Z"
   },
   {
    "duration": 14,
    "start_time": "2023-01-16T11:58:24.710Z"
   },
   {
    "duration": 12,
    "start_time": "2023-01-16T11:58:26.716Z"
   },
   {
    "duration": 15,
    "start_time": "2023-01-16T11:58:29.543Z"
   },
   {
    "duration": 73,
    "start_time": "2023-01-16T11:58:33.951Z"
   },
   {
    "duration": 16,
    "start_time": "2023-01-16T11:58:36.659Z"
   },
   {
    "duration": 15,
    "start_time": "2023-01-16T11:58:39.452Z"
   },
   {
    "duration": 13,
    "start_time": "2023-01-16T11:58:41.762Z"
   },
   {
    "duration": 40,
    "start_time": "2023-01-16T11:58:46.692Z"
   },
   {
    "duration": 4,
    "start_time": "2023-01-16T11:58:48.899Z"
   },
   {
    "duration": 9,
    "start_time": "2023-01-16T11:58:51.200Z"
   },
   {
    "duration": 5,
    "start_time": "2023-01-16T11:58:54.743Z"
   },
   {
    "duration": 6,
    "start_time": "2023-01-16T11:58:57.517Z"
   },
   {
    "duration": 5,
    "start_time": "2023-01-16T11:59:02.465Z"
   },
   {
    "duration": 33,
    "start_time": "2023-01-16T11:59:33.456Z"
   },
   {
    "duration": 11,
    "start_time": "2023-01-16T11:59:35.802Z"
   },
   {
    "duration": 4,
    "start_time": "2023-01-16T11:59:42.826Z"
   },
   {
    "duration": 5,
    "start_time": "2023-01-16T12:00:23.625Z"
   },
   {
    "duration": 6,
    "start_time": "2023-01-16T12:00:28.326Z"
   },
   {
    "duration": 19,
    "start_time": "2023-01-16T12:00:48.424Z"
   },
   {
    "duration": 31,
    "start_time": "2023-01-16T12:00:50.973Z"
   },
   {
    "duration": 46,
    "start_time": "2023-01-16T12:00:54.187Z"
   },
   {
    "duration": 74,
    "start_time": "2023-01-16T12:02:09.697Z"
   },
   {
    "duration": 8,
    "start_time": "2023-01-16T12:02:20.103Z"
   },
   {
    "duration": 5,
    "start_time": "2023-01-16T12:02:22.196Z"
   },
   {
    "duration": 11,
    "start_time": "2023-01-16T12:02:24.181Z"
   },
   {
    "duration": 11,
    "start_time": "2023-01-16T12:02:26.905Z"
   },
   {
    "duration": 13,
    "start_time": "2023-01-16T12:03:30.771Z"
   },
   {
    "duration": 73,
    "start_time": "2023-01-16T12:03:59.025Z"
   },
   {
    "duration": 55,
    "start_time": "2023-01-16T12:04:26.049Z"
   },
   {
    "duration": 5,
    "start_time": "2023-01-16T12:04:42.897Z"
   },
   {
    "duration": 14,
    "start_time": "2023-01-16T12:04:44.920Z"
   },
   {
    "duration": 4,
    "start_time": "2023-01-16T12:04:58.965Z"
   },
   {
    "duration": 13,
    "start_time": "2023-01-16T12:05:02.235Z"
   },
   {
    "duration": 8,
    "start_time": "2023-01-16T12:09:20.238Z"
   },
   {
    "duration": 7,
    "start_time": "2023-01-16T12:09:26.471Z"
   },
   {
    "duration": 3,
    "start_time": "2023-01-16T12:09:35.259Z"
   },
   {
    "duration": 12,
    "start_time": "2023-01-16T12:09:37.065Z"
   },
   {
    "duration": 23,
    "start_time": "2023-01-16T12:12:40.968Z"
   },
   {
    "duration": 25,
    "start_time": "2023-01-16T12:18:10.790Z"
   },
   {
    "duration": 23,
    "start_time": "2023-01-16T12:18:48.942Z"
   },
   {
    "duration": 59,
    "start_time": "2023-01-16T12:22:54.001Z"
   },
   {
    "duration": 20,
    "start_time": "2023-01-16T12:23:00.862Z"
   },
   {
    "duration": 55,
    "start_time": "2023-01-16T12:26:09.843Z"
   },
   {
    "duration": 23,
    "start_time": "2023-01-16T12:31:24.918Z"
   },
   {
    "duration": 31,
    "start_time": "2023-01-16T12:31:39.352Z"
   },
   {
    "duration": 81,
    "start_time": "2023-01-16T12:33:33.322Z"
   },
   {
    "duration": 91,
    "start_time": "2023-01-16T12:33:55.343Z"
   },
   {
    "duration": 85,
    "start_time": "2023-01-16T12:33:59.610Z"
   },
   {
    "duration": 104,
    "start_time": "2023-01-16T12:35:24.192Z"
   },
   {
    "duration": 77,
    "start_time": "2023-01-16T12:36:22.741Z"
   },
   {
    "duration": 80,
    "start_time": "2023-01-16T12:36:28.162Z"
   },
   {
    "duration": 81,
    "start_time": "2023-01-16T12:36:38.307Z"
   },
   {
    "duration": 81,
    "start_time": "2023-01-16T12:36:45.807Z"
   },
   {
    "duration": 79,
    "start_time": "2023-01-16T12:36:51.175Z"
   },
   {
    "duration": 3,
    "start_time": "2023-01-16T12:37:08.353Z"
   },
   {
    "duration": 8,
    "start_time": "2023-01-16T12:37:13.228Z"
   },
   {
    "duration": 55,
    "start_time": "2023-01-16T12:40:19.834Z"
   },
   {
    "duration": 84,
    "start_time": "2023-01-16T12:47:14.200Z"
   },
   {
    "duration": 9,
    "start_time": "2023-01-16T12:50:35.442Z"
   },
   {
    "duration": 15,
    "start_time": "2023-01-16T12:50:43.831Z"
   },
   {
    "duration": 9,
    "start_time": "2023-01-16T12:50:50.438Z"
   },
   {
    "duration": 8,
    "start_time": "2023-01-16T12:51:21.818Z"
   },
   {
    "duration": 54,
    "start_time": "2023-01-16T12:51:34.058Z"
   },
   {
    "duration": 3,
    "start_time": "2023-01-16T12:52:49.949Z"
   },
   {
    "duration": 5,
    "start_time": "2023-01-16T12:53:09.043Z"
   },
   {
    "duration": 71,
    "start_time": "2023-01-16T12:53:11.832Z"
   },
   {
    "duration": 36,
    "start_time": "2023-01-16T12:53:57.484Z"
   },
   {
    "duration": 7,
    "start_time": "2023-01-16T12:57:57.776Z"
   },
   {
    "duration": 9,
    "start_time": "2023-01-16T12:58:51.654Z"
   },
   {
    "duration": 8,
    "start_time": "2023-01-16T12:59:09.371Z"
   },
   {
    "duration": 8,
    "start_time": "2023-01-16T13:00:01.301Z"
   },
   {
    "duration": 6,
    "start_time": "2023-01-16T13:00:12.375Z"
   },
   {
    "duration": 8,
    "start_time": "2023-01-16T13:00:18.329Z"
   },
   {
    "duration": 10,
    "start_time": "2023-01-16T13:00:32.071Z"
   },
   {
    "duration": 12,
    "start_time": "2023-01-16T13:00:44.743Z"
   },
   {
    "duration": 7,
    "start_time": "2023-01-16T13:02:57.779Z"
   },
   {
    "duration": 54,
    "start_time": "2023-01-16T13:09:31.370Z"
   },
   {
    "duration": 94,
    "start_time": "2023-01-16T13:21:08.025Z"
   },
   {
    "duration": 44,
    "start_time": "2023-01-16T13:22:37.472Z"
   },
   {
    "duration": 56,
    "start_time": "2023-01-16T13:23:48.639Z"
   },
   {
    "duration": 48,
    "start_time": "2023-01-16T13:24:07.192Z"
   },
   {
    "duration": 78,
    "start_time": "2023-01-16T13:26:12.268Z"
   },
   {
    "duration": 16,
    "start_time": "2023-01-16T13:26:12.348Z"
   },
   {
    "duration": 17,
    "start_time": "2023-01-16T13:26:12.366Z"
   },
   {
    "duration": 10,
    "start_time": "2023-01-16T13:26:12.385Z"
   },
   {
    "duration": 60,
    "start_time": "2023-01-16T13:26:12.397Z"
   },
   {
    "duration": 3,
    "start_time": "2023-01-16T13:26:12.459Z"
   },
   {
    "duration": 11,
    "start_time": "2023-01-16T13:26:12.464Z"
   },
   {
    "duration": 5,
    "start_time": "2023-01-16T13:26:12.477Z"
   },
   {
    "duration": 7,
    "start_time": "2023-01-16T13:26:12.483Z"
   },
   {
    "duration": 5,
    "start_time": "2023-01-16T13:26:12.493Z"
   },
   {
    "duration": 66,
    "start_time": "2023-01-16T13:26:12.499Z"
   },
   {
    "duration": 11,
    "start_time": "2023-01-16T13:26:12.567Z"
   },
   {
    "duration": 6,
    "start_time": "2023-01-16T13:26:12.580Z"
   },
   {
    "duration": 17,
    "start_time": "2023-01-16T13:26:12.587Z"
   },
   {
    "duration": 35,
    "start_time": "2023-01-16T13:26:12.606Z"
   },
   {
    "duration": 35,
    "start_time": "2023-01-16T13:26:12.654Z"
   },
   {
    "duration": 4,
    "start_time": "2023-01-16T13:26:12.690Z"
   },
   {
    "duration": 16,
    "start_time": "2023-01-16T13:26:12.695Z"
   },
   {
    "duration": 6,
    "start_time": "2023-01-16T13:26:12.713Z"
   },
   {
    "duration": 33,
    "start_time": "2023-01-16T13:26:12.721Z"
   },
   {
    "duration": 14,
    "start_time": "2023-01-16T13:26:12.756Z"
   },
   {
    "duration": 24,
    "start_time": "2023-01-16T13:26:12.772Z"
   },
   {
    "duration": 23,
    "start_time": "2023-01-16T13:26:12.798Z"
   },
   {
    "duration": 48,
    "start_time": "2023-01-16T13:26:12.823Z"
   },
   {
    "duration": 22,
    "start_time": "2023-01-16T13:26:12.873Z"
   },
   {
    "duration": 13,
    "start_time": "2023-01-16T13:26:12.897Z"
   },
   {
    "duration": 95,
    "start_time": "2023-01-16T13:26:12.911Z"
   },
   {
    "duration": 7,
    "start_time": "2023-01-16T13:26:13.009Z"
   },
   {
    "duration": 20,
    "start_time": "2023-01-16T13:28:02.576Z"
   },
   {
    "duration": 511,
    "start_time": "2023-01-16T16:34:23.486Z"
   },
   {
    "duration": 22,
    "start_time": "2023-01-16T16:34:23.999Z"
   },
   {
    "duration": 16,
    "start_time": "2023-01-16T16:34:24.023Z"
   },
   {
    "duration": 37,
    "start_time": "2023-01-16T16:34:24.042Z"
   },
   {
    "duration": 40,
    "start_time": "2023-01-16T16:34:24.081Z"
   },
   {
    "duration": 5,
    "start_time": "2023-01-16T16:34:24.123Z"
   },
   {
    "duration": 17,
    "start_time": "2023-01-16T16:34:24.130Z"
   },
   {
    "duration": 16,
    "start_time": "2023-01-16T16:34:24.149Z"
   },
   {
    "duration": 11,
    "start_time": "2023-01-16T16:34:24.167Z"
   },
   {
    "duration": 11,
    "start_time": "2023-01-16T16:34:24.182Z"
   },
   {
    "duration": 58,
    "start_time": "2023-01-16T16:34:24.195Z"
   },
   {
    "duration": 14,
    "start_time": "2023-01-16T16:34:24.255Z"
   },
   {
    "duration": 8,
    "start_time": "2023-01-16T16:34:24.272Z"
   },
   {
    "duration": 20,
    "start_time": "2023-01-16T16:34:24.282Z"
   },
   {
    "duration": 40,
    "start_time": "2023-01-16T16:34:24.304Z"
   },
   {
    "duration": 35,
    "start_time": "2023-01-16T16:34:24.345Z"
   },
   {
    "duration": 4,
    "start_time": "2023-01-16T16:34:24.382Z"
   },
   {
    "duration": 35,
    "start_time": "2023-01-16T16:34:24.388Z"
   },
   {
    "duration": 5,
    "start_time": "2023-01-16T16:34:24.425Z"
   },
   {
    "duration": 3,
    "start_time": "2023-01-16T16:34:24.432Z"
   },
   {
    "duration": 24,
    "start_time": "2023-01-16T16:34:24.438Z"
   },
   {
    "duration": 23,
    "start_time": "2023-01-16T16:34:24.464Z"
   },
   {
    "duration": 49,
    "start_time": "2023-01-16T16:34:24.489Z"
   },
   {
    "duration": 21,
    "start_time": "2023-01-16T16:34:24.539Z"
   },
   {
    "duration": 21,
    "start_time": "2023-01-16T16:34:24.562Z"
   },
   {
    "duration": 39,
    "start_time": "2023-01-16T16:34:24.584Z"
   },
   {
    "duration": 54,
    "start_time": "2023-01-16T16:34:24.625Z"
   },
   {
    "duration": 7,
    "start_time": "2023-01-16T16:34:24.682Z"
   },
   {
    "duration": 25,
    "start_time": "2023-01-16T17:44:50.954Z"
   },
   {
    "duration": 18,
    "start_time": "2023-01-16T17:46:04.811Z"
   },
   {
    "duration": 13,
    "start_time": "2023-01-16T17:46:26.025Z"
   },
   {
    "duration": 13,
    "start_time": "2023-01-16T17:47:02.503Z"
   },
   {
    "duration": 15,
    "start_time": "2023-01-16T17:47:18.976Z"
   },
   {
    "duration": 86,
    "start_time": "2023-01-16T17:47:30.114Z"
   },
   {
    "duration": 956,
    "start_time": "2023-01-16T17:50:04.128Z"
   },
   {
    "duration": 55,
    "start_time": "2023-01-16T18:11:30.812Z"
   },
   {
    "duration": 12,
    "start_time": "2023-01-16T18:12:07.345Z"
   },
   {
    "duration": 218,
    "start_time": "2023-01-16T18:12:33.147Z"
   },
   {
    "duration": 194,
    "start_time": "2023-01-16T18:13:10.155Z"
   },
   {
    "duration": 58,
    "start_time": "2023-01-16T18:14:54.777Z"
   },
   {
    "duration": 57,
    "start_time": "2023-01-16T18:15:54.582Z"
   },
   {
    "duration": 48,
    "start_time": "2023-01-16T18:16:23.760Z"
   },
   {
    "duration": 44,
    "start_time": "2023-01-16T18:16:57.169Z"
   },
   {
    "duration": 11,
    "start_time": "2023-01-16T18:17:21.223Z"
   },
   {
    "duration": 8,
    "start_time": "2023-01-16T18:17:29.912Z"
   },
   {
    "duration": 7,
    "start_time": "2023-01-16T18:21:52.672Z"
   },
   {
    "duration": 18,
    "start_time": "2023-01-16T18:22:03.315Z"
   },
   {
    "duration": 19,
    "start_time": "2023-01-16T18:22:11.305Z"
   },
   {
    "duration": 21,
    "start_time": "2023-01-16T18:26:09.864Z"
   },
   {
    "duration": 27,
    "start_time": "2023-01-16T18:29:37.222Z"
   },
   {
    "duration": 36,
    "start_time": "2023-01-16T18:29:55.458Z"
   },
   {
    "duration": 744,
    "start_time": "2023-01-16T18:33:26.769Z"
   },
   {
    "duration": 744,
    "start_time": "2023-01-16T18:34:29.687Z"
   },
   {
    "duration": 36,
    "start_time": "2023-01-16T18:35:12.095Z"
   },
   {
    "duration": 30,
    "start_time": "2023-01-16T18:36:19.603Z"
   },
   {
    "duration": 185,
    "start_time": "2023-01-16T18:36:30.317Z"
   },
   {
    "duration": 754,
    "start_time": "2023-01-16T18:36:47.562Z"
   },
   {
    "duration": 26,
    "start_time": "2023-01-16T18:36:54.185Z"
   },
   {
    "duration": 16,
    "start_time": "2023-01-16T18:39:13.223Z"
   },
   {
    "duration": 22,
    "start_time": "2023-01-16T18:40:24.778Z"
   },
   {
    "duration": 27,
    "start_time": "2023-01-16T18:40:42.823Z"
   },
   {
    "duration": 16,
    "start_time": "2023-01-16T18:40:52.659Z"
   },
   {
    "duration": 15,
    "start_time": "2023-01-16T18:41:32.647Z"
   },
   {
    "duration": 16,
    "start_time": "2023-01-16T18:41:56.377Z"
   },
   {
    "duration": 17,
    "start_time": "2023-01-16T18:42:35.810Z"
   },
   {
    "duration": 19,
    "start_time": "2023-01-16T18:45:14.728Z"
   },
   {
    "duration": 17,
    "start_time": "2023-01-16T18:55:32.955Z"
   },
   {
    "duration": 15,
    "start_time": "2023-01-16T18:55:47.182Z"
   },
   {
    "duration": 14,
    "start_time": "2023-01-16T18:56:03.530Z"
   },
   {
    "duration": 13,
    "start_time": "2023-01-16T18:56:36.444Z"
   },
   {
    "duration": 14,
    "start_time": "2023-01-16T18:56:45.950Z"
   },
   {
    "duration": 71,
    "start_time": "2023-01-16T18:57:18.033Z"
   },
   {
    "duration": 15,
    "start_time": "2023-01-16T18:57:19.969Z"
   },
   {
    "duration": 69,
    "start_time": "2023-01-16T18:57:28.598Z"
   },
   {
    "duration": 14,
    "start_time": "2023-01-16T18:57:28.669Z"
   },
   {
    "duration": 18,
    "start_time": "2023-01-16T18:57:28.685Z"
   },
   {
    "duration": 10,
    "start_time": "2023-01-16T18:57:28.706Z"
   },
   {
    "duration": 52,
    "start_time": "2023-01-16T18:57:28.718Z"
   },
   {
    "duration": 4,
    "start_time": "2023-01-16T18:57:28.771Z"
   },
   {
    "duration": 12,
    "start_time": "2023-01-16T18:57:28.776Z"
   },
   {
    "duration": 13,
    "start_time": "2023-01-16T18:57:28.789Z"
   },
   {
    "duration": 8,
    "start_time": "2023-01-16T18:57:28.804Z"
   },
   {
    "duration": 4,
    "start_time": "2023-01-16T18:57:28.815Z"
   },
   {
    "duration": 51,
    "start_time": "2023-01-16T18:57:28.821Z"
   },
   {
    "duration": 10,
    "start_time": "2023-01-16T18:57:28.874Z"
   },
   {
    "duration": 4,
    "start_time": "2023-01-16T18:57:28.886Z"
   },
   {
    "duration": 11,
    "start_time": "2023-01-16T18:57:28.892Z"
   },
   {
    "duration": 18,
    "start_time": "2023-01-16T18:57:28.905Z"
   },
   {
    "duration": 55,
    "start_time": "2023-01-16T18:57:28.924Z"
   },
   {
    "duration": 3,
    "start_time": "2023-01-16T18:57:28.980Z"
   },
   {
    "duration": 17,
    "start_time": "2023-01-16T18:57:28.985Z"
   },
   {
    "duration": 6,
    "start_time": "2023-01-16T18:57:29.003Z"
   },
   {
    "duration": 4,
    "start_time": "2023-01-16T18:57:29.010Z"
   },
   {
    "duration": 23,
    "start_time": "2023-01-16T18:57:29.016Z"
   },
   {
    "duration": 33,
    "start_time": "2023-01-16T18:57:29.041Z"
   },
   {
    "duration": 20,
    "start_time": "2023-01-16T18:57:29.075Z"
   },
   {
    "duration": 20,
    "start_time": "2023-01-16T18:57:29.096Z"
   },
   {
    "duration": 47,
    "start_time": "2023-01-16T18:57:29.118Z"
   },
   {
    "duration": 12,
    "start_time": "2023-01-16T18:57:29.166Z"
   },
   {
    "duration": 58,
    "start_time": "2023-01-16T18:57:29.179Z"
   },
   {
    "duration": 7,
    "start_time": "2023-01-16T18:57:29.254Z"
   },
   {
    "duration": 68,
    "start_time": "2023-01-16T18:57:42.875Z"
   },
   {
    "duration": 14,
    "start_time": "2023-01-16T18:57:42.945Z"
   },
   {
    "duration": 18,
    "start_time": "2023-01-16T18:57:42.961Z"
   },
   {
    "duration": 9,
    "start_time": "2023-01-16T18:57:42.981Z"
   },
   {
    "duration": 30,
    "start_time": "2023-01-16T18:57:42.992Z"
   },
   {
    "duration": 3,
    "start_time": "2023-01-16T18:57:43.024Z"
   },
   {
    "duration": 30,
    "start_time": "2023-01-16T18:57:43.028Z"
   },
   {
    "duration": 5,
    "start_time": "2023-01-16T18:57:43.059Z"
   },
   {
    "duration": 8,
    "start_time": "2023-01-16T18:57:43.065Z"
   },
   {
    "duration": 5,
    "start_time": "2023-01-16T18:57:43.076Z"
   },
   {
    "duration": 35,
    "start_time": "2023-01-16T18:57:43.082Z"
   },
   {
    "duration": 9,
    "start_time": "2023-01-16T18:57:43.119Z"
   },
   {
    "duration": 5,
    "start_time": "2023-01-16T18:57:43.155Z"
   },
   {
    "duration": 19,
    "start_time": "2023-01-16T18:57:43.161Z"
   },
   {
    "duration": 20,
    "start_time": "2023-01-16T18:57:43.181Z"
   },
   {
    "duration": 40,
    "start_time": "2023-01-16T18:57:43.202Z"
   },
   {
    "duration": 4,
    "start_time": "2023-01-16T18:57:43.254Z"
   },
   {
    "duration": 21,
    "start_time": "2023-01-16T18:57:43.260Z"
   },
   {
    "duration": 7,
    "start_time": "2023-01-16T18:57:43.283Z"
   },
   {
    "duration": 5,
    "start_time": "2023-01-16T18:57:43.292Z"
   },
   {
    "duration": 18,
    "start_time": "2023-01-16T18:57:43.299Z"
   },
   {
    "duration": 46,
    "start_time": "2023-01-16T18:57:43.318Z"
   },
   {
    "duration": 18,
    "start_time": "2023-01-16T18:57:43.366Z"
   },
   {
    "duration": 17,
    "start_time": "2023-01-16T18:57:43.386Z"
   },
   {
    "duration": 19,
    "start_time": "2023-01-16T18:57:43.404Z"
   },
   {
    "duration": 40,
    "start_time": "2023-01-16T18:57:43.424Z"
   },
   {
    "duration": 53,
    "start_time": "2023-01-16T18:57:43.466Z"
   },
   {
    "duration": 7,
    "start_time": "2023-01-16T18:57:43.522Z"
   },
   {
    "duration": 14,
    "start_time": "2023-01-16T18:58:05.116Z"
   },
   {
    "duration": 26,
    "start_time": "2023-01-16T19:11:08.567Z"
   },
   {
    "duration": 24,
    "start_time": "2023-01-16T19:11:40.486Z"
   },
   {
    "duration": 753,
    "start_time": "2023-01-16T19:12:24.843Z"
   },
   {
    "duration": 22,
    "start_time": "2023-01-16T19:13:06.027Z"
   },
   {
    "duration": 24,
    "start_time": "2023-01-16T19:13:29.915Z"
   },
   {
    "duration": 22,
    "start_time": "2023-01-16T19:14:11.192Z"
   },
   {
    "duration": 4,
    "start_time": "2023-01-16T19:15:45.511Z"
   },
   {
    "duration": 18,
    "start_time": "2023-01-16T19:16:02.710Z"
   },
   {
    "duration": 5,
    "start_time": "2023-01-16T19:16:38.021Z"
   },
   {
    "duration": 7,
    "start_time": "2023-01-16T19:17:17.197Z"
   },
   {
    "duration": 5,
    "start_time": "2023-01-16T19:17:27.992Z"
   },
   {
    "duration": 50,
    "start_time": "2023-01-16T19:21:45.300Z"
   },
   {
    "duration": 24,
    "start_time": "2023-01-16T19:22:13.101Z"
   },
   {
    "duration": 25,
    "start_time": "2023-01-16T19:23:31.369Z"
   },
   {
    "duration": 23,
    "start_time": "2023-01-16T19:23:50.637Z"
   },
   {
    "duration": 23,
    "start_time": "2023-01-16T19:24:29.831Z"
   },
   {
    "duration": 51,
    "start_time": "2023-01-16T19:29:20.130Z"
   },
   {
    "duration": 50,
    "start_time": "2023-01-16T19:29:42.705Z"
   },
   {
    "duration": 45,
    "start_time": "2023-01-16T19:29:49.829Z"
   },
   {
    "duration": 26,
    "start_time": "2023-01-16T19:30:00.664Z"
   },
   {
    "duration": 23,
    "start_time": "2023-01-16T19:30:12.472Z"
   },
   {
    "duration": 25,
    "start_time": "2023-01-16T19:30:22.924Z"
   },
   {
    "duration": 26,
    "start_time": "2023-01-16T19:31:39.583Z"
   },
   {
    "duration": 24,
    "start_time": "2023-01-16T19:32:23.807Z"
   },
   {
    "duration": 24,
    "start_time": "2023-01-16T19:35:08.350Z"
   },
   {
    "duration": 26,
    "start_time": "2023-01-16T19:39:26.129Z"
   },
   {
    "duration": 26,
    "start_time": "2023-01-16T19:40:00.580Z"
   },
   {
    "duration": 26,
    "start_time": "2023-01-16T19:41:55.239Z"
   },
   {
    "duration": 28,
    "start_time": "2023-01-16T19:42:27.427Z"
   },
   {
    "duration": 488,
    "start_time": "2023-01-16T20:27:09.072Z"
   },
   {
    "duration": 37,
    "start_time": "2023-01-16T20:27:09.563Z"
   },
   {
    "duration": 21,
    "start_time": "2023-01-16T20:27:09.602Z"
   },
   {
    "duration": 55,
    "start_time": "2023-01-16T20:27:09.627Z"
   },
   {
    "duration": 53,
    "start_time": "2023-01-16T20:27:09.685Z"
   },
   {
    "duration": 28,
    "start_time": "2023-01-16T20:27:09.739Z"
   },
   {
    "duration": 31,
    "start_time": "2023-01-16T20:27:09.769Z"
   },
   {
    "duration": 11,
    "start_time": "2023-01-16T20:27:09.802Z"
   },
   {
    "duration": 58,
    "start_time": "2023-01-16T20:27:09.815Z"
   },
   {
    "duration": 41,
    "start_time": "2023-01-16T20:27:09.878Z"
   },
   {
    "duration": 84,
    "start_time": "2023-01-16T20:27:09.925Z"
   },
   {
    "duration": 10,
    "start_time": "2023-01-16T20:27:10.011Z"
   },
   {
    "duration": 45,
    "start_time": "2023-01-16T20:27:10.033Z"
   },
   {
    "duration": 37,
    "start_time": "2023-01-16T20:27:10.080Z"
   },
   {
    "duration": 61,
    "start_time": "2023-01-16T20:27:10.119Z"
   },
   {
    "duration": 46,
    "start_time": "2023-01-16T20:27:10.182Z"
   },
   {
    "duration": 7,
    "start_time": "2023-01-16T20:27:10.233Z"
   },
   {
    "duration": 27,
    "start_time": "2023-01-16T20:27:10.245Z"
   },
   {
    "duration": 35,
    "start_time": "2023-01-16T20:27:10.273Z"
   },
   {
    "duration": 47,
    "start_time": "2023-01-16T20:27:10.309Z"
   },
   {
    "duration": 47,
    "start_time": "2023-01-16T20:27:10.358Z"
   },
   {
    "duration": 48,
    "start_time": "2023-01-16T20:27:10.408Z"
   },
   {
    "duration": 45,
    "start_time": "2023-01-16T20:27:10.458Z"
   },
   {
    "duration": 32,
    "start_time": "2023-01-16T20:27:10.505Z"
   },
   {
    "duration": 50,
    "start_time": "2023-01-16T20:27:10.539Z"
   },
   {
    "duration": 46,
    "start_time": "2023-01-16T20:27:10.591Z"
   },
   {
    "duration": 136,
    "start_time": "2023-01-16T20:27:10.642Z"
   },
   {
    "duration": 9,
    "start_time": "2023-01-16T20:27:10.782Z"
   },
   {
    "duration": 13,
    "start_time": "2023-01-16T20:27:10.793Z"
   },
   {
    "duration": 80,
    "start_time": "2023-01-16T20:27:10.808Z"
   },
   {
    "duration": 36,
    "start_time": "2023-01-16T20:27:10.890Z"
   },
   {
    "duration": 488,
    "start_time": "2023-01-16T20:34:57.755Z"
   },
   {
    "duration": 23,
    "start_time": "2023-01-16T20:34:58.247Z"
   },
   {
    "duration": 18,
    "start_time": "2023-01-16T20:34:58.272Z"
   },
   {
    "duration": 9,
    "start_time": "2023-01-16T20:34:58.292Z"
   },
   {
    "duration": 58,
    "start_time": "2023-01-16T20:34:58.304Z"
   },
   {
    "duration": 4,
    "start_time": "2023-01-16T20:34:58.363Z"
   },
   {
    "duration": 13,
    "start_time": "2023-01-16T20:34:58.368Z"
   },
   {
    "duration": 6,
    "start_time": "2023-01-16T20:34:58.383Z"
   },
   {
    "duration": 9,
    "start_time": "2023-01-16T20:34:58.391Z"
   },
   {
    "duration": 6,
    "start_time": "2023-01-16T20:34:58.401Z"
   },
   {
    "duration": 54,
    "start_time": "2023-01-16T20:34:58.431Z"
   },
   {
    "duration": 10,
    "start_time": "2023-01-16T20:34:58.487Z"
   },
   {
    "duration": 7,
    "start_time": "2023-01-16T20:34:58.499Z"
   },
   {
    "duration": 16,
    "start_time": "2023-01-16T20:34:58.509Z"
   },
   {
    "duration": 26,
    "start_time": "2023-01-16T20:34:58.526Z"
   },
   {
    "duration": 47,
    "start_time": "2023-01-16T20:34:58.554Z"
   },
   {
    "duration": 5,
    "start_time": "2023-01-16T20:34:58.603Z"
   },
   {
    "duration": 30,
    "start_time": "2023-01-16T20:34:58.609Z"
   },
   {
    "duration": 23,
    "start_time": "2023-01-16T20:34:58.641Z"
   },
   {
    "duration": 3,
    "start_time": "2023-01-16T20:34:58.667Z"
   },
   {
    "duration": 15,
    "start_time": "2023-01-16T20:34:58.672Z"
   },
   {
    "duration": 43,
    "start_time": "2023-01-16T20:34:58.688Z"
   },
   {
    "duration": 27,
    "start_time": "2023-01-16T20:34:58.733Z"
   },
   {
    "duration": 24,
    "start_time": "2023-01-16T20:34:58.762Z"
   },
   {
    "duration": 19,
    "start_time": "2023-01-16T20:34:58.787Z"
   },
   {
    "duration": 28,
    "start_time": "2023-01-16T20:34:58.808Z"
   },
   {
    "duration": 66,
    "start_time": "2023-01-16T20:34:58.838Z"
   },
   {
    "duration": 9,
    "start_time": "2023-01-16T20:34:58.906Z"
   },
   {
    "duration": 16,
    "start_time": "2023-01-16T20:34:58.922Z"
   },
   {
    "duration": 37,
    "start_time": "2023-01-16T20:34:58.943Z"
   },
   {
    "duration": 24,
    "start_time": "2023-01-16T20:34:58.982Z"
   }
  ],
  "colab": {
   "name": "dpp_template_part2.ipynb",
   "provenance": []
  },
  "kernelspec": {
   "display_name": "Python 3 (ipykernel)",
   "language": "python",
   "name": "python3"
  },
  "language_info": {
   "codemirror_mode": {
    "name": "ipython",
    "version": 3
   },
   "file_extension": ".py",
   "mimetype": "text/x-python",
   "name": "python",
   "nbconvert_exporter": "python",
   "pygments_lexer": "ipython3",
   "version": "3.9.13"
  },
  "toc": {
   "base_numbering": 1,
   "nav_menu": {},
   "number_sections": true,
   "sideBar": true,
   "skip_h1_title": false,
   "title_cell": "Table of Contents",
   "title_sidebar": "Contents",
   "toc_cell": false,
   "toc_position": {
    "height": "calc(100% - 180px)",
    "left": "10px",
    "top": "150px",
    "width": "406.225px"
   },
   "toc_section_display": true,
   "toc_window_display": true
  }
 },
 "nbformat": 4,
 "nbformat_minor": 5
}
